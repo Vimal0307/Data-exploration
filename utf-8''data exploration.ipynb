{
  "cells": [
    {
      "metadata": {
        "trusted": true
      },
      "cell_type": "code",
      "source": "import numpy as np\nimport pandas as pd\nimport os\nimport glob\nimport matplotlib.pyplot as plt\nimport seaborn as sns\nimport datetime as DT",
      "execution_count": 111,
      "outputs": []
    },
    {
      "metadata": {
        "trusted": true
      },
      "cell_type": "code",
      "source": "retail=pd.read_csv(\"/home/nbuser/prod_cat_info.csv\",sep=',')",
      "execution_count": 2,
      "outputs": []
    },
    {
      "metadata": {
        "trusted": true
      },
      "cell_type": "code",
      "source": "retail.head()",
      "execution_count": 3,
      "outputs": [
        {
          "output_type": "execute_result",
          "execution_count": 3,
          "data": {
            "text/html": "<div>\n<style scoped>\n    .dataframe tbody tr th:only-of-type {\n        vertical-align: middle;\n    }\n\n    .dataframe tbody tr th {\n        vertical-align: top;\n    }\n\n    .dataframe thead th {\n        text-align: right;\n    }\n</style>\n<table border=\"1\" class=\"dataframe\">\n  <thead>\n    <tr style=\"text-align: right;\">\n      <th></th>\n      <th>prod_cat_code</th>\n      <th>prod_cat</th>\n      <th>prod_sub_cat_code</th>\n      <th>prod_subcat</th>\n    </tr>\n  </thead>\n  <tbody>\n    <tr>\n      <th>0</th>\n      <td>1</td>\n      <td>Clothing</td>\n      <td>4</td>\n      <td>Mens</td>\n    </tr>\n    <tr>\n      <th>1</th>\n      <td>1</td>\n      <td>Clothing</td>\n      <td>1</td>\n      <td>Women</td>\n    </tr>\n    <tr>\n      <th>2</th>\n      <td>1</td>\n      <td>Clothing</td>\n      <td>3</td>\n      <td>Kids</td>\n    </tr>\n    <tr>\n      <th>3</th>\n      <td>2</td>\n      <td>Footwear</td>\n      <td>1</td>\n      <td>Mens</td>\n    </tr>\n    <tr>\n      <th>4</th>\n      <td>2</td>\n      <td>Footwear</td>\n      <td>3</td>\n      <td>Women</td>\n    </tr>\n  </tbody>\n</table>\n</div>",
            "text/plain": "   prod_cat_code  prod_cat  prod_sub_cat_code prod_subcat\n0              1  Clothing                  4        Mens\n1              1  Clothing                  1       Women\n2              1  Clothing                  3        Kids\n3              2  Footwear                  1        Mens\n4              2  Footwear                  3       Women"
          },
          "metadata": {}
        }
      ]
    },
    {
      "metadata": {
        "trusted": true
      },
      "cell_type": "code",
      "source": "retail.columns",
      "execution_count": 4,
      "outputs": [
        {
          "output_type": "execute_result",
          "execution_count": 4,
          "data": {
            "text/plain": "Index(['prod_cat_code', 'prod_cat', 'prod_sub_cat_code', 'prod_subcat'], dtype='object')"
          },
          "metadata": {}
        }
      ]
    },
    {
      "metadata": {
        "trusted": true
      },
      "cell_type": "code",
      "source": "retail1=pd.read_csv(\"/home/nbuser/Transactions.scv.csv\",sep=',')",
      "execution_count": 5,
      "outputs": []
    },
    {
      "metadata": {
        "trusted": true
      },
      "cell_type": "code",
      "source": "retail1.columns",
      "execution_count": 6,
      "outputs": [
        {
          "output_type": "execute_result",
          "execution_count": 6,
          "data": {
            "text/plain": "Index(['transaction_id', 'cust_id', 'tran_date', 'prod_subcat_code',\n       'prod_cat_code', 'Qty', 'Rate', 'Tax', 'total_amt', 'Store_type'],\n      dtype='object')"
          },
          "metadata": {}
        }
      ]
    },
    {
      "metadata": {
        "trusted": true
      },
      "cell_type": "code",
      "source": "retail2=pd.read_csv(\"/home/nbuser/Customer (1).csv\",sep=',')",
      "execution_count": 7,
      "outputs": []
    },
    {
      "metadata": {
        "trusted": true
      },
      "cell_type": "code",
      "source": "retail2.columns",
      "execution_count": 8,
      "outputs": [
        {
          "output_type": "execute_result",
          "execution_count": 8,
          "data": {
            "text/plain": "Index(['customer_Id', 'DOB', 'Gender', 'city_code'], dtype='object')"
          },
          "metadata": {}
        }
      ]
    },
    {
      "metadata": {
        "trusted": true
      },
      "cell_type": "code",
      "source": "display('retail','retail1','retail2')",
      "execution_count": 9,
      "outputs": [
        {
          "output_type": "display_data",
          "data": {
            "text/plain": "'retail'"
          },
          "metadata": {}
        },
        {
          "output_type": "display_data",
          "data": {
            "text/plain": "'retail1'"
          },
          "metadata": {}
        },
        {
          "output_type": "display_data",
          "data": {
            "text/plain": "'retail2'"
          },
          "metadata": {}
        }
      ]
    },
    {
      "metadata": {
        "trusted": true
      },
      "cell_type": "code",
      "source": "df=pd.merge(left=retail,right=retail1,how='right',left_index=True,right_index=True)\ndf.head()",
      "execution_count": 10,
      "outputs": [
        {
          "output_type": "execute_result",
          "execution_count": 10,
          "data": {
            "text/html": "<div>\n<style scoped>\n    .dataframe tbody tr th:only-of-type {\n        vertical-align: middle;\n    }\n\n    .dataframe tbody tr th {\n        vertical-align: top;\n    }\n\n    .dataframe thead th {\n        text-align: right;\n    }\n</style>\n<table border=\"1\" class=\"dataframe\">\n  <thead>\n    <tr style=\"text-align: right;\">\n      <th></th>\n      <th>prod_cat_code_x</th>\n      <th>prod_cat</th>\n      <th>prod_sub_cat_code</th>\n      <th>prod_subcat</th>\n      <th>transaction_id</th>\n      <th>cust_id</th>\n      <th>tran_date</th>\n      <th>prod_subcat_code</th>\n      <th>prod_cat_code_y</th>\n      <th>Qty</th>\n      <th>Rate</th>\n      <th>Tax</th>\n      <th>total_amt</th>\n      <th>Store_type</th>\n    </tr>\n  </thead>\n  <tbody>\n    <tr>\n      <th>0</th>\n      <td>1.0</td>\n      <td>Clothing</td>\n      <td>4.0</td>\n      <td>Mens</td>\n      <td>80712190438</td>\n      <td>270351</td>\n      <td>28-02-2014</td>\n      <td>1</td>\n      <td>1</td>\n      <td>-5</td>\n      <td>-772</td>\n      <td>405.300</td>\n      <td>-4265.300</td>\n      <td>e-Shop</td>\n    </tr>\n    <tr>\n      <th>1</th>\n      <td>1.0</td>\n      <td>Clothing</td>\n      <td>1.0</td>\n      <td>Women</td>\n      <td>29258453508</td>\n      <td>270384</td>\n      <td>27-02-2014</td>\n      <td>5</td>\n      <td>3</td>\n      <td>-5</td>\n      <td>-1497</td>\n      <td>785.925</td>\n      <td>-8270.925</td>\n      <td>e-Shop</td>\n    </tr>\n    <tr>\n      <th>2</th>\n      <td>1.0</td>\n      <td>Clothing</td>\n      <td>3.0</td>\n      <td>Kids</td>\n      <td>51750724947</td>\n      <td>273420</td>\n      <td>24-02-2014</td>\n      <td>6</td>\n      <td>5</td>\n      <td>-2</td>\n      <td>-791</td>\n      <td>166.110</td>\n      <td>-1748.110</td>\n      <td>TeleShop</td>\n    </tr>\n    <tr>\n      <th>3</th>\n      <td>2.0</td>\n      <td>Footwear</td>\n      <td>1.0</td>\n      <td>Mens</td>\n      <td>93274880719</td>\n      <td>271509</td>\n      <td>24-02-2014</td>\n      <td>11</td>\n      <td>6</td>\n      <td>-3</td>\n      <td>-1363</td>\n      <td>429.345</td>\n      <td>-4518.345</td>\n      <td>e-Shop</td>\n    </tr>\n    <tr>\n      <th>4</th>\n      <td>2.0</td>\n      <td>Footwear</td>\n      <td>3.0</td>\n      <td>Women</td>\n      <td>51750724947</td>\n      <td>273420</td>\n      <td>23-02-2014</td>\n      <td>6</td>\n      <td>5</td>\n      <td>-2</td>\n      <td>-791</td>\n      <td>166.110</td>\n      <td>-1748.110</td>\n      <td>TeleShop</td>\n    </tr>\n  </tbody>\n</table>\n</div>",
            "text/plain": "   prod_cat_code_x  prod_cat  prod_sub_cat_code prod_subcat  transaction_id  \\\n0              1.0  Clothing                4.0        Mens     80712190438   \n1              1.0  Clothing                1.0       Women     29258453508   \n2              1.0  Clothing                3.0        Kids     51750724947   \n3              2.0  Footwear                1.0        Mens     93274880719   \n4              2.0  Footwear                3.0       Women     51750724947   \n\n   cust_id   tran_date  prod_subcat_code  prod_cat_code_y  Qty  Rate      Tax  \\\n0   270351  28-02-2014                 1                1   -5  -772  405.300   \n1   270384  27-02-2014                 5                3   -5 -1497  785.925   \n2   273420  24-02-2014                 6                5   -2  -791  166.110   \n3   271509  24-02-2014                11                6   -3 -1363  429.345   \n4   273420  23-02-2014                 6                5   -2  -791  166.110   \n\n   total_amt Store_type  \n0  -4265.300     e-Shop  \n1  -8270.925     e-Shop  \n2  -1748.110   TeleShop  \n3  -4518.345     e-Shop  \n4  -1748.110   TeleShop  "
          },
          "metadata": {}
        }
      ]
    },
    {
      "metadata": {
        "trusted": true
      },
      "cell_type": "code",
      "source": "df1=pd.merge(left=df,right=retail2,how='outer',left_index=True,right_index=True)\ndf1.head()",
      "execution_count": 11,
      "outputs": [
        {
          "output_type": "execute_result",
          "execution_count": 11,
          "data": {
            "text/html": "<div>\n<style scoped>\n    .dataframe tbody tr th:only-of-type {\n        vertical-align: middle;\n    }\n\n    .dataframe tbody tr th {\n        vertical-align: top;\n    }\n\n    .dataframe thead th {\n        text-align: right;\n    }\n</style>\n<table border=\"1\" class=\"dataframe\">\n  <thead>\n    <tr style=\"text-align: right;\">\n      <th></th>\n      <th>prod_cat_code_x</th>\n      <th>prod_cat</th>\n      <th>prod_sub_cat_code</th>\n      <th>prod_subcat</th>\n      <th>transaction_id</th>\n      <th>cust_id</th>\n      <th>tran_date</th>\n      <th>prod_subcat_code</th>\n      <th>prod_cat_code_y</th>\n      <th>Qty</th>\n      <th>Rate</th>\n      <th>Tax</th>\n      <th>total_amt</th>\n      <th>Store_type</th>\n      <th>customer_Id</th>\n      <th>DOB</th>\n      <th>Gender</th>\n      <th>city_code</th>\n    </tr>\n  </thead>\n  <tbody>\n    <tr>\n      <th>0</th>\n      <td>1.0</td>\n      <td>Clothing</td>\n      <td>4.0</td>\n      <td>Mens</td>\n      <td>80712190438</td>\n      <td>270351</td>\n      <td>28-02-2014</td>\n      <td>1</td>\n      <td>1</td>\n      <td>-5</td>\n      <td>-772</td>\n      <td>405.300</td>\n      <td>-4265.300</td>\n      <td>e-Shop</td>\n      <td>268408.0</td>\n      <td>02-01-1970</td>\n      <td>M</td>\n      <td>4.0</td>\n    </tr>\n    <tr>\n      <th>1</th>\n      <td>1.0</td>\n      <td>Clothing</td>\n      <td>1.0</td>\n      <td>Women</td>\n      <td>29258453508</td>\n      <td>270384</td>\n      <td>27-02-2014</td>\n      <td>5</td>\n      <td>3</td>\n      <td>-5</td>\n      <td>-1497</td>\n      <td>785.925</td>\n      <td>-8270.925</td>\n      <td>e-Shop</td>\n      <td>269696.0</td>\n      <td>07-01-1970</td>\n      <td>F</td>\n      <td>8.0</td>\n    </tr>\n    <tr>\n      <th>2</th>\n      <td>1.0</td>\n      <td>Clothing</td>\n      <td>3.0</td>\n      <td>Kids</td>\n      <td>51750724947</td>\n      <td>273420</td>\n      <td>24-02-2014</td>\n      <td>6</td>\n      <td>5</td>\n      <td>-2</td>\n      <td>-791</td>\n      <td>166.110</td>\n      <td>-1748.110</td>\n      <td>TeleShop</td>\n      <td>268159.0</td>\n      <td>08-01-1970</td>\n      <td>F</td>\n      <td>8.0</td>\n    </tr>\n    <tr>\n      <th>3</th>\n      <td>2.0</td>\n      <td>Footwear</td>\n      <td>1.0</td>\n      <td>Mens</td>\n      <td>93274880719</td>\n      <td>271509</td>\n      <td>24-02-2014</td>\n      <td>11</td>\n      <td>6</td>\n      <td>-3</td>\n      <td>-1363</td>\n      <td>429.345</td>\n      <td>-4518.345</td>\n      <td>e-Shop</td>\n      <td>270181.0</td>\n      <td>10-01-1970</td>\n      <td>F</td>\n      <td>2.0</td>\n    </tr>\n    <tr>\n      <th>4</th>\n      <td>2.0</td>\n      <td>Footwear</td>\n      <td>3.0</td>\n      <td>Women</td>\n      <td>51750724947</td>\n      <td>273420</td>\n      <td>23-02-2014</td>\n      <td>6</td>\n      <td>5</td>\n      <td>-2</td>\n      <td>-791</td>\n      <td>166.110</td>\n      <td>-1748.110</td>\n      <td>TeleShop</td>\n      <td>268073.0</td>\n      <td>11-01-1970</td>\n      <td>M</td>\n      <td>1.0</td>\n    </tr>\n  </tbody>\n</table>\n</div>",
            "text/plain": "   prod_cat_code_x  prod_cat  prod_sub_cat_code prod_subcat  transaction_id  \\\n0              1.0  Clothing                4.0        Mens     80712190438   \n1              1.0  Clothing                1.0       Women     29258453508   \n2              1.0  Clothing                3.0        Kids     51750724947   \n3              2.0  Footwear                1.0        Mens     93274880719   \n4              2.0  Footwear                3.0       Women     51750724947   \n\n   cust_id   tran_date  prod_subcat_code  prod_cat_code_y  Qty  Rate      Tax  \\\n0   270351  28-02-2014                 1                1   -5  -772  405.300   \n1   270384  27-02-2014                 5                3   -5 -1497  785.925   \n2   273420  24-02-2014                 6                5   -2  -791  166.110   \n3   271509  24-02-2014                11                6   -3 -1363  429.345   \n4   273420  23-02-2014                 6                5   -2  -791  166.110   \n\n   total_amt Store_type  customer_Id         DOB Gender  city_code  \n0  -4265.300     e-Shop     268408.0  02-01-1970      M        4.0  \n1  -8270.925     e-Shop     269696.0  07-01-1970      F        8.0  \n2  -1748.110   TeleShop     268159.0  08-01-1970      F        8.0  \n3  -4518.345     e-Shop     270181.0  10-01-1970      F        2.0  \n4  -1748.110   TeleShop     268073.0  11-01-1970      M        1.0  "
          },
          "metadata": {}
        }
      ]
    },
    {
      "metadata": {
        "trusted": true
      },
      "cell_type": "code",
      "source": "#column names and data types\ndf1.columns",
      "execution_count": 12,
      "outputs": [
        {
          "output_type": "execute_result",
          "execution_count": 12,
          "data": {
            "text/plain": "Index(['prod_cat_code_x', 'prod_cat', 'prod_sub_cat_code', 'prod_subcat',\n       'transaction_id', 'cust_id', 'tran_date', 'prod_subcat_code',\n       'prod_cat_code_y', 'Qty', 'Rate', 'Tax', 'total_amt', 'Store_type',\n       'customer_Id', 'DOB', 'Gender', 'city_code'],\n      dtype='object')"
          },
          "metadata": {}
        }
      ]
    },
    {
      "metadata": {
        "trusted": true
      },
      "cell_type": "code",
      "source": "df1.shape",
      "execution_count": 85,
      "outputs": [
        {
          "output_type": "execute_result",
          "execution_count": 85,
          "data": {
            "text/plain": "(23053, 18)"
          },
          "metadata": {}
        }
      ]
    },
    {
      "metadata": {
        "trusted": true
      },
      "cell_type": "code",
      "source": "df1.size",
      "execution_count": 86,
      "outputs": [
        {
          "output_type": "execute_result",
          "execution_count": 86,
          "data": {
            "text/plain": "414954"
          },
          "metadata": {}
        }
      ]
    },
    {
      "metadata": {
        "trusted": true
      },
      "cell_type": "code",
      "source": "df1.isnull().sum()",
      "execution_count": 87,
      "outputs": [
        {
          "output_type": "execute_result",
          "execution_count": 87,
          "data": {
            "text/plain": "prod_cat_code_x      23030\nprod_cat             23030\nprod_sub_cat_code    23030\nprod_subcat          23030\ntransaction_id           0\ncust_id                  0\ntran_date                0\nprod_subcat_code         0\nprod_cat_code_y          0\nQty                      0\nRate                     0\nTax                      0\ntotal_amt                0\nStore_type               0\ncustomer_Id          17406\nDOB                  17406\nGender               17408\ncity_code            17408\ndtype: int64"
          },
          "metadata": {}
        }
      ]
    },
    {
      "metadata": {
        "trusted": true
      },
      "cell_type": "code",
      "source": "#data types and corresponding column names\ndf1.dtypes",
      "execution_count": 13,
      "outputs": [
        {
          "output_type": "execute_result",
          "execution_count": 13,
          "data": {
            "text/plain": "prod_cat_code_x      float64\nprod_cat              object\nprod_sub_cat_code    float64\nprod_subcat           object\ntransaction_id         int64\ncust_id                int64\ntran_date             object\nprod_subcat_code       int64\nprod_cat_code_y        int64\nQty                    int64\nRate                   int64\nTax                  float64\ntotal_amt            float64\nStore_type            object\ncustomer_Id          float64\nDOB                   object\nGender                object\ncity_code            float64\ndtype: object"
          },
          "metadata": {}
        }
      ]
    },
    {
      "metadata": {
        "trusted": true
      },
      "cell_type": "code",
      "source": "df1.head(10)",
      "execution_count": 14,
      "outputs": [
        {
          "output_type": "execute_result",
          "execution_count": 14,
          "data": {
            "text/html": "<div>\n<style scoped>\n    .dataframe tbody tr th:only-of-type {\n        vertical-align: middle;\n    }\n\n    .dataframe tbody tr th {\n        vertical-align: top;\n    }\n\n    .dataframe thead th {\n        text-align: right;\n    }\n</style>\n<table border=\"1\" class=\"dataframe\">\n  <thead>\n    <tr style=\"text-align: right;\">\n      <th></th>\n      <th>prod_cat_code_x</th>\n      <th>prod_cat</th>\n      <th>prod_sub_cat_code</th>\n      <th>prod_subcat</th>\n      <th>transaction_id</th>\n      <th>cust_id</th>\n      <th>tran_date</th>\n      <th>prod_subcat_code</th>\n      <th>prod_cat_code_y</th>\n      <th>Qty</th>\n      <th>Rate</th>\n      <th>Tax</th>\n      <th>total_amt</th>\n      <th>Store_type</th>\n      <th>customer_Id</th>\n      <th>DOB</th>\n      <th>Gender</th>\n      <th>city_code</th>\n    </tr>\n  </thead>\n  <tbody>\n    <tr>\n      <th>0</th>\n      <td>1.0</td>\n      <td>Clothing</td>\n      <td>4.0</td>\n      <td>Mens</td>\n      <td>80712190438</td>\n      <td>270351</td>\n      <td>28-02-2014</td>\n      <td>1</td>\n      <td>1</td>\n      <td>-5</td>\n      <td>-772</td>\n      <td>405.300</td>\n      <td>-4265.300</td>\n      <td>e-Shop</td>\n      <td>268408.0</td>\n      <td>02-01-1970</td>\n      <td>M</td>\n      <td>4.0</td>\n    </tr>\n    <tr>\n      <th>1</th>\n      <td>1.0</td>\n      <td>Clothing</td>\n      <td>1.0</td>\n      <td>Women</td>\n      <td>29258453508</td>\n      <td>270384</td>\n      <td>27-02-2014</td>\n      <td>5</td>\n      <td>3</td>\n      <td>-5</td>\n      <td>-1497</td>\n      <td>785.925</td>\n      <td>-8270.925</td>\n      <td>e-Shop</td>\n      <td>269696.0</td>\n      <td>07-01-1970</td>\n      <td>F</td>\n      <td>8.0</td>\n    </tr>\n    <tr>\n      <th>2</th>\n      <td>1.0</td>\n      <td>Clothing</td>\n      <td>3.0</td>\n      <td>Kids</td>\n      <td>51750724947</td>\n      <td>273420</td>\n      <td>24-02-2014</td>\n      <td>6</td>\n      <td>5</td>\n      <td>-2</td>\n      <td>-791</td>\n      <td>166.110</td>\n      <td>-1748.110</td>\n      <td>TeleShop</td>\n      <td>268159.0</td>\n      <td>08-01-1970</td>\n      <td>F</td>\n      <td>8.0</td>\n    </tr>\n    <tr>\n      <th>3</th>\n      <td>2.0</td>\n      <td>Footwear</td>\n      <td>1.0</td>\n      <td>Mens</td>\n      <td>93274880719</td>\n      <td>271509</td>\n      <td>24-02-2014</td>\n      <td>11</td>\n      <td>6</td>\n      <td>-3</td>\n      <td>-1363</td>\n      <td>429.345</td>\n      <td>-4518.345</td>\n      <td>e-Shop</td>\n      <td>270181.0</td>\n      <td>10-01-1970</td>\n      <td>F</td>\n      <td>2.0</td>\n    </tr>\n    <tr>\n      <th>4</th>\n      <td>2.0</td>\n      <td>Footwear</td>\n      <td>3.0</td>\n      <td>Women</td>\n      <td>51750724947</td>\n      <td>273420</td>\n      <td>23-02-2014</td>\n      <td>6</td>\n      <td>5</td>\n      <td>-2</td>\n      <td>-791</td>\n      <td>166.110</td>\n      <td>-1748.110</td>\n      <td>TeleShop</td>\n      <td>268073.0</td>\n      <td>11-01-1970</td>\n      <td>M</td>\n      <td>1.0</td>\n    </tr>\n    <tr>\n      <th>5</th>\n      <td>2.0</td>\n      <td>Footwear</td>\n      <td>4.0</td>\n      <td>Kids</td>\n      <td>97439039119</td>\n      <td>272357</td>\n      <td>23-02-2014</td>\n      <td>8</td>\n      <td>3</td>\n      <td>-2</td>\n      <td>-824</td>\n      <td>173.040</td>\n      <td>-1821.040</td>\n      <td>TeleShop</td>\n      <td>273216.0</td>\n      <td>15-01-1970</td>\n      <td>F</td>\n      <td>5.0</td>\n    </tr>\n    <tr>\n      <th>6</th>\n      <td>3.0</td>\n      <td>Electronics</td>\n      <td>4.0</td>\n      <td>Mobiles</td>\n      <td>45649838090</td>\n      <td>273667</td>\n      <td>22-02-2014</td>\n      <td>11</td>\n      <td>6</td>\n      <td>-1</td>\n      <td>-1450</td>\n      <td>152.250</td>\n      <td>-1602.250</td>\n      <td>e-Shop</td>\n      <td>266929.0</td>\n      <td>15-01-1970</td>\n      <td>M</td>\n      <td>8.0</td>\n    </tr>\n    <tr>\n      <th>7</th>\n      <td>3.0</td>\n      <td>Electronics</td>\n      <td>5.0</td>\n      <td>Computers</td>\n      <td>22643667930</td>\n      <td>271489</td>\n      <td>22-02-2014</td>\n      <td>12</td>\n      <td>6</td>\n      <td>-1</td>\n      <td>-1225</td>\n      <td>128.625</td>\n      <td>-1353.625</td>\n      <td>TeleShop</td>\n      <td>275152.0</td>\n      <td>16-01-1970</td>\n      <td>M</td>\n      <td>4.0</td>\n    </tr>\n    <tr>\n      <th>8</th>\n      <td>3.0</td>\n      <td>Electronics</td>\n      <td>8.0</td>\n      <td>Personal Appliances</td>\n      <td>79792372943</td>\n      <td>275108</td>\n      <td>22-02-2014</td>\n      <td>3</td>\n      <td>1</td>\n      <td>-3</td>\n      <td>-908</td>\n      <td>286.020</td>\n      <td>-3010.020</td>\n      <td>MBR</td>\n      <td>275034.0</td>\n      <td>18-01-1970</td>\n      <td>F</td>\n      <td>4.0</td>\n    </tr>\n    <tr>\n      <th>9</th>\n      <td>3.0</td>\n      <td>Electronics</td>\n      <td>9.0</td>\n      <td>Cameras</td>\n      <td>50076728598</td>\n      <td>269014</td>\n      <td>21-02-2014</td>\n      <td>8</td>\n      <td>3</td>\n      <td>-4</td>\n      <td>-581</td>\n      <td>244.020</td>\n      <td>-2568.020</td>\n      <td>e-Shop</td>\n      <td>273966.0</td>\n      <td>21-01-1970</td>\n      <td>M</td>\n      <td>8.0</td>\n    </tr>\n  </tbody>\n</table>\n</div>",
            "text/plain": "   prod_cat_code_x     prod_cat  prod_sub_cat_code          prod_subcat  \\\n0              1.0     Clothing                4.0                 Mens   \n1              1.0     Clothing                1.0                Women   \n2              1.0     Clothing                3.0                 Kids   \n3              2.0     Footwear                1.0                 Mens   \n4              2.0     Footwear                3.0                Women   \n5              2.0     Footwear                4.0                 Kids   \n6              3.0  Electronics                4.0              Mobiles   \n7              3.0  Electronics                5.0            Computers   \n8              3.0  Electronics                8.0  Personal Appliances   \n9              3.0  Electronics                9.0              Cameras   \n\n   transaction_id  cust_id   tran_date  prod_subcat_code  prod_cat_code_y  \\\n0     80712190438   270351  28-02-2014                 1                1   \n1     29258453508   270384  27-02-2014                 5                3   \n2     51750724947   273420  24-02-2014                 6                5   \n3     93274880719   271509  24-02-2014                11                6   \n4     51750724947   273420  23-02-2014                 6                5   \n5     97439039119   272357  23-02-2014                 8                3   \n6     45649838090   273667  22-02-2014                11                6   \n7     22643667930   271489  22-02-2014                12                6   \n8     79792372943   275108  22-02-2014                 3                1   \n9     50076728598   269014  21-02-2014                 8                3   \n\n   Qty  Rate      Tax  total_amt Store_type  customer_Id         DOB Gender  \\\n0   -5  -772  405.300  -4265.300     e-Shop     268408.0  02-01-1970      M   \n1   -5 -1497  785.925  -8270.925     e-Shop     269696.0  07-01-1970      F   \n2   -2  -791  166.110  -1748.110   TeleShop     268159.0  08-01-1970      F   \n3   -3 -1363  429.345  -4518.345     e-Shop     270181.0  10-01-1970      F   \n4   -2  -791  166.110  -1748.110   TeleShop     268073.0  11-01-1970      M   \n5   -2  -824  173.040  -1821.040   TeleShop     273216.0  15-01-1970      F   \n6   -1 -1450  152.250  -1602.250     e-Shop     266929.0  15-01-1970      M   \n7   -1 -1225  128.625  -1353.625   TeleShop     275152.0  16-01-1970      M   \n8   -3  -908  286.020  -3010.020        MBR     275034.0  18-01-1970      F   \n9   -4  -581  244.020  -2568.020     e-Shop     273966.0  21-01-1970      M   \n\n   city_code  \n0        4.0  \n1        8.0  \n2        8.0  \n3        2.0  \n4        1.0  \n5        5.0  \n6        8.0  \n7        4.0  \n8        4.0  \n9        8.0  "
          },
          "metadata": {}
        }
      ]
    },
    {
      "metadata": {
        "trusted": true
      },
      "cell_type": "code",
      "source": "df1.tail(10)",
      "execution_count": 15,
      "outputs": [
        {
          "output_type": "execute_result",
          "execution_count": 15,
          "data": {
            "text/html": "<div>\n<style scoped>\n    .dataframe tbody tr th:only-of-type {\n        vertical-align: middle;\n    }\n\n    .dataframe tbody tr th {\n        vertical-align: top;\n    }\n\n    .dataframe thead th {\n        text-align: right;\n    }\n</style>\n<table border=\"1\" class=\"dataframe\">\n  <thead>\n    <tr style=\"text-align: right;\">\n      <th></th>\n      <th>prod_cat_code_x</th>\n      <th>prod_cat</th>\n      <th>prod_sub_cat_code</th>\n      <th>prod_subcat</th>\n      <th>transaction_id</th>\n      <th>cust_id</th>\n      <th>tran_date</th>\n      <th>prod_subcat_code</th>\n      <th>prod_cat_code_y</th>\n      <th>Qty</th>\n      <th>Rate</th>\n      <th>Tax</th>\n      <th>total_amt</th>\n      <th>Store_type</th>\n      <th>customer_Id</th>\n      <th>DOB</th>\n      <th>Gender</th>\n      <th>city_code</th>\n    </tr>\n  </thead>\n  <tbody>\n    <tr>\n      <th>23043</th>\n      <td>NaN</td>\n      <td>NaN</td>\n      <td>NaN</td>\n      <td>NaN</td>\n      <td>49882891062</td>\n      <td>271982</td>\n      <td>25-01-2011</td>\n      <td>10</td>\n      <td>5</td>\n      <td>4</td>\n      <td>1330</td>\n      <td>558.600</td>\n      <td>5878.600</td>\n      <td>e-Shop</td>\n      <td>NaN</td>\n      <td>NaN</td>\n      <td>NaN</td>\n      <td>NaN</td>\n    </tr>\n    <tr>\n      <th>23044</th>\n      <td>NaN</td>\n      <td>NaN</td>\n      <td>NaN</td>\n      <td>NaN</td>\n      <td>14787475597</td>\n      <td>273982</td>\n      <td>25-01-2011</td>\n      <td>4</td>\n      <td>3</td>\n      <td>5</td>\n      <td>969</td>\n      <td>508.725</td>\n      <td>5353.725</td>\n      <td>e-Shop</td>\n      <td>NaN</td>\n      <td>NaN</td>\n      <td>NaN</td>\n      <td>NaN</td>\n    </tr>\n    <tr>\n      <th>23045</th>\n      <td>NaN</td>\n      <td>NaN</td>\n      <td>NaN</td>\n      <td>NaN</td>\n      <td>50691119572</td>\n      <td>273031</td>\n      <td>25-01-2011</td>\n      <td>6</td>\n      <td>5</td>\n      <td>1</td>\n      <td>1148</td>\n      <td>120.540</td>\n      <td>1268.540</td>\n      <td>TeleShop</td>\n      <td>NaN</td>\n      <td>NaN</td>\n      <td>NaN</td>\n      <td>NaN</td>\n    </tr>\n    <tr>\n      <th>23046</th>\n      <td>NaN</td>\n      <td>NaN</td>\n      <td>NaN</td>\n      <td>NaN</td>\n      <td>40893803228</td>\n      <td>272049</td>\n      <td>25-01-2011</td>\n      <td>11</td>\n      <td>6</td>\n      <td>3</td>\n      <td>1077</td>\n      <td>339.255</td>\n      <td>3570.255</td>\n      <td>e-Shop</td>\n      <td>NaN</td>\n      <td>NaN</td>\n      <td>NaN</td>\n      <td>NaN</td>\n    </tr>\n    <tr>\n      <th>23047</th>\n      <td>NaN</td>\n      <td>NaN</td>\n      <td>NaN</td>\n      <td>NaN</td>\n      <td>30856003613</td>\n      <td>266866</td>\n      <td>25-01-2011</td>\n      <td>4</td>\n      <td>2</td>\n      <td>2</td>\n      <td>444</td>\n      <td>93.240</td>\n      <td>981.240</td>\n      <td>TeleShop</td>\n      <td>NaN</td>\n      <td>NaN</td>\n      <td>NaN</td>\n      <td>NaN</td>\n    </tr>\n    <tr>\n      <th>23048</th>\n      <td>NaN</td>\n      <td>NaN</td>\n      <td>NaN</td>\n      <td>NaN</td>\n      <td>94340757522</td>\n      <td>274550</td>\n      <td>25-01-2011</td>\n      <td>12</td>\n      <td>5</td>\n      <td>1</td>\n      <td>1264</td>\n      <td>132.720</td>\n      <td>1396.720</td>\n      <td>e-Shop</td>\n      <td>NaN</td>\n      <td>NaN</td>\n      <td>NaN</td>\n      <td>NaN</td>\n    </tr>\n    <tr>\n      <th>23049</th>\n      <td>NaN</td>\n      <td>NaN</td>\n      <td>NaN</td>\n      <td>NaN</td>\n      <td>89780862956</td>\n      <td>270022</td>\n      <td>25-01-2011</td>\n      <td>4</td>\n      <td>1</td>\n      <td>1</td>\n      <td>677</td>\n      <td>71.085</td>\n      <td>748.085</td>\n      <td>e-Shop</td>\n      <td>NaN</td>\n      <td>NaN</td>\n      <td>NaN</td>\n      <td>NaN</td>\n    </tr>\n    <tr>\n      <th>23050</th>\n      <td>NaN</td>\n      <td>NaN</td>\n      <td>NaN</td>\n      <td>NaN</td>\n      <td>85115299378</td>\n      <td>271020</td>\n      <td>25-01-2011</td>\n      <td>2</td>\n      <td>6</td>\n      <td>4</td>\n      <td>1052</td>\n      <td>441.840</td>\n      <td>4649.840</td>\n      <td>MBR</td>\n      <td>NaN</td>\n      <td>NaN</td>\n      <td>NaN</td>\n      <td>NaN</td>\n    </tr>\n    <tr>\n      <th>23051</th>\n      <td>NaN</td>\n      <td>NaN</td>\n      <td>NaN</td>\n      <td>NaN</td>\n      <td>72870271171</td>\n      <td>270911</td>\n      <td>25-01-2011</td>\n      <td>11</td>\n      <td>5</td>\n      <td>3</td>\n      <td>1142</td>\n      <td>359.730</td>\n      <td>3785.730</td>\n      <td>TeleShop</td>\n      <td>NaN</td>\n      <td>NaN</td>\n      <td>NaN</td>\n      <td>NaN</td>\n    </tr>\n    <tr>\n      <th>23052</th>\n      <td>NaN</td>\n      <td>NaN</td>\n      <td>NaN</td>\n      <td>NaN</td>\n      <td>77960931771</td>\n      <td>271961</td>\n      <td>25-01-2011</td>\n      <td>11</td>\n      <td>5</td>\n      <td>1</td>\n      <td>447</td>\n      <td>46.935</td>\n      <td>493.935</td>\n      <td>TeleShop</td>\n      <td>NaN</td>\n      <td>NaN</td>\n      <td>NaN</td>\n      <td>NaN</td>\n    </tr>\n  </tbody>\n</table>\n</div>",
            "text/plain": "       prod_cat_code_x prod_cat  prod_sub_cat_code prod_subcat  \\\n23043              NaN      NaN                NaN         NaN   \n23044              NaN      NaN                NaN         NaN   \n23045              NaN      NaN                NaN         NaN   \n23046              NaN      NaN                NaN         NaN   \n23047              NaN      NaN                NaN         NaN   \n23048              NaN      NaN                NaN         NaN   \n23049              NaN      NaN                NaN         NaN   \n23050              NaN      NaN                NaN         NaN   \n23051              NaN      NaN                NaN         NaN   \n23052              NaN      NaN                NaN         NaN   \n\n       transaction_id  cust_id   tran_date  prod_subcat_code  prod_cat_code_y  \\\n23043     49882891062   271982  25-01-2011                10                5   \n23044     14787475597   273982  25-01-2011                 4                3   \n23045     50691119572   273031  25-01-2011                 6                5   \n23046     40893803228   272049  25-01-2011                11                6   \n23047     30856003613   266866  25-01-2011                 4                2   \n23048     94340757522   274550  25-01-2011                12                5   \n23049     89780862956   270022  25-01-2011                 4                1   \n23050     85115299378   271020  25-01-2011                 2                6   \n23051     72870271171   270911  25-01-2011                11                5   \n23052     77960931771   271961  25-01-2011                11                5   \n\n       Qty  Rate      Tax  total_amt Store_type  customer_Id  DOB Gender  \\\n23043    4  1330  558.600   5878.600     e-Shop          NaN  NaN    NaN   \n23044    5   969  508.725   5353.725     e-Shop          NaN  NaN    NaN   \n23045    1  1148  120.540   1268.540   TeleShop          NaN  NaN    NaN   \n23046    3  1077  339.255   3570.255     e-Shop          NaN  NaN    NaN   \n23047    2   444   93.240    981.240   TeleShop          NaN  NaN    NaN   \n23048    1  1264  132.720   1396.720     e-Shop          NaN  NaN    NaN   \n23049    1   677   71.085    748.085     e-Shop          NaN  NaN    NaN   \n23050    4  1052  441.840   4649.840        MBR          NaN  NaN    NaN   \n23051    3  1142  359.730   3785.730   TeleShop          NaN  NaN    NaN   \n23052    1   447   46.935    493.935   TeleShop          NaN  NaN    NaN   \n\n       city_code  \n23043        NaN  \n23044        NaN  \n23045        NaN  \n23046        NaN  \n23047        NaN  \n23048        NaN  \n23049        NaN  \n23050        NaN  \n23051        NaN  \n23052        NaN  "
          },
          "metadata": {}
        }
      ]
    },
    {
      "metadata": {
        "trusted": true
      },
      "cell_type": "code",
      "source": "df1.min()",
      "execution_count": 16,
      "outputs": [
        {
          "output_type": "execute_result",
          "execution_count": 16,
          "data": {
            "text/plain": "prod_cat_code_x                   1\nprod_sub_cat_code                 1\ntransaction_id              3268991\ncust_id                      266783\ntran_date                  1/1/2012\nprod_subcat_code                  1\nprod_cat_code_y                   1\nQty                              -5\nRate                          -1499\nTax                            7.35\ntotal_amt                  -8270.92\nStore_type           Flagship store\ncustomer_Id                  266783\ncity_code                         1\ndtype: object"
          },
          "metadata": {}
        }
      ]
    },
    {
      "metadata": {
        "trusted": true
      },
      "cell_type": "code",
      "source": "#q1 #mean # median \ndf.transaction_id.describe()\n    ",
      "execution_count": 17,
      "outputs": [
        {
          "output_type": "execute_result",
          "execution_count": 17,
          "data": {
            "text/plain": "count    2.305300e+04\nmean     5.007348e+10\nstd      2.898194e+10\nmin      3.268991e+06\n25%      2.493864e+10\n50%      5.009313e+10\n75%      7.533000e+10\nmax      9.998755e+10\nName: transaction_id, dtype: float64"
          },
          "metadata": {}
        }
      ]
    },
    {
      "metadata": {
        "trusted": true
      },
      "cell_type": "code",
      "source": "a=pd.crosstab(index=df1['Store_type'], columns='count')",
      "execution_count": 18,
      "outputs": []
    },
    {
      "metadata": {
        "trusted": true
      },
      "cell_type": "code",
      "source": "# frequency table for categorical variable\na",
      "execution_count": 19,
      "outputs": [
        {
          "output_type": "execute_result",
          "execution_count": 19,
          "data": {
            "text/html": "<div>\n<style scoped>\n    .dataframe tbody tr th:only-of-type {\n        vertical-align: middle;\n    }\n\n    .dataframe tbody tr th {\n        vertical-align: top;\n    }\n\n    .dataframe thead th {\n        text-align: right;\n    }\n</style>\n<table border=\"1\" class=\"dataframe\">\n  <thead>\n    <tr style=\"text-align: right;\">\n      <th>col_0</th>\n      <th>count</th>\n    </tr>\n    <tr>\n      <th>Store_type</th>\n      <th></th>\n    </tr>\n  </thead>\n  <tbody>\n    <tr>\n      <th>Flagship store</th>\n      <td>4577</td>\n    </tr>\n    <tr>\n      <th>MBR</th>\n      <td>4661</td>\n    </tr>\n    <tr>\n      <th>TeleShop</th>\n      <td>4504</td>\n    </tr>\n    <tr>\n      <th>e-Shop</th>\n      <td>9311</td>\n    </tr>\n  </tbody>\n</table>\n</div>",
            "text/plain": "col_0           count\nStore_type           \nFlagship store   4577\nMBR              4661\nTeleShop         4504\ne-Shop           9311"
          },
          "metadata": {}
        }
      ]
    },
    {
      "metadata": {
        "trusted": true
      },
      "cell_type": "code",
      "source": "b=pd.crosstab(index=df1['Gender'], columns='count')",
      "execution_count": 20,
      "outputs": []
    },
    {
      "metadata": {
        "trusted": true
      },
      "cell_type": "code",
      "source": "b",
      "execution_count": 21,
      "outputs": [
        {
          "output_type": "execute_result",
          "execution_count": 21,
          "data": {
            "text/html": "<div>\n<style scoped>\n    .dataframe tbody tr th:only-of-type {\n        vertical-align: middle;\n    }\n\n    .dataframe tbody tr th {\n        vertical-align: top;\n    }\n\n    .dataframe thead th {\n        text-align: right;\n    }\n</style>\n<table border=\"1\" class=\"dataframe\">\n  <thead>\n    <tr style=\"text-align: right;\">\n      <th>col_0</th>\n      <th>count</th>\n    </tr>\n    <tr>\n      <th>Gender</th>\n      <th></th>\n    </tr>\n  </thead>\n  <tbody>\n    <tr>\n      <th>F</th>\n      <td>2753</td>\n    </tr>\n    <tr>\n      <th>M</th>\n      <td>2892</td>\n    </tr>\n  </tbody>\n</table>\n</div>",
            "text/plain": "col_0   count\nGender       \nF        2753\nM        2892"
          },
          "metadata": {}
        }
      ]
    },
    {
      "metadata": {
        "trusted": true
      },
      "cell_type": "code",
      "source": "c=pd.crosstab(index=df1['prod_cat'], columns='count')",
      "execution_count": 22,
      "outputs": []
    },
    {
      "metadata": {
        "trusted": true
      },
      "cell_type": "code",
      "source": "c",
      "execution_count": 23,
      "outputs": [
        {
          "output_type": "execute_result",
          "execution_count": 23,
          "data": {
            "text/html": "<div>\n<style scoped>\n    .dataframe tbody tr th:only-of-type {\n        vertical-align: middle;\n    }\n\n    .dataframe tbody tr th {\n        vertical-align: top;\n    }\n\n    .dataframe thead th {\n        text-align: right;\n    }\n</style>\n<table border=\"1\" class=\"dataframe\">\n  <thead>\n    <tr style=\"text-align: right;\">\n      <th>col_0</th>\n      <th>count</th>\n    </tr>\n    <tr>\n      <th>prod_cat</th>\n      <th></th>\n    </tr>\n  </thead>\n  <tbody>\n    <tr>\n      <th>Bags</th>\n      <td>2</td>\n    </tr>\n    <tr>\n      <th>Books</th>\n      <td>6</td>\n    </tr>\n    <tr>\n      <th>Clothing</th>\n      <td>3</td>\n    </tr>\n    <tr>\n      <th>Electronics</th>\n      <td>5</td>\n    </tr>\n    <tr>\n      <th>Footwear</th>\n      <td>3</td>\n    </tr>\n    <tr>\n      <th>Home and kitchen</th>\n      <td>4</td>\n    </tr>\n  </tbody>\n</table>\n</div>",
            "text/plain": "col_0             count\nprod_cat               \nBags                  2\nBooks                 6\nClothing              3\nElectronics           5\nFootwear              3\nHome and kitchen      4"
          },
          "metadata": {}
        }
      ]
    },
    {
      "metadata": {
        "trusted": true
      },
      "cell_type": "code",
      "source": "d=a=pd.crosstab(index=df1['prod_subcat'], columns='count')",
      "execution_count": 24,
      "outputs": []
    },
    {
      "metadata": {
        "trusted": true
      },
      "cell_type": "code",
      "source": "d",
      "execution_count": 25,
      "outputs": [
        {
          "output_type": "execute_result",
          "execution_count": 25,
          "data": {
            "text/html": "<div>\n<style scoped>\n    .dataframe tbody tr th:only-of-type {\n        vertical-align: middle;\n    }\n\n    .dataframe tbody tr th {\n        vertical-align: top;\n    }\n\n    .dataframe thead th {\n        text-align: right;\n    }\n</style>\n<table border=\"1\" class=\"dataframe\">\n  <thead>\n    <tr style=\"text-align: right;\">\n      <th>col_0</th>\n      <th>count</th>\n    </tr>\n    <tr>\n      <th>prod_subcat</th>\n      <th></th>\n    </tr>\n  </thead>\n  <tbody>\n    <tr>\n      <th>Academic</th>\n      <td>1</td>\n    </tr>\n    <tr>\n      <th>Audio and video</th>\n      <td>1</td>\n    </tr>\n    <tr>\n      <th>Bath</th>\n      <td>1</td>\n    </tr>\n    <tr>\n      <th>Cameras</th>\n      <td>1</td>\n    </tr>\n    <tr>\n      <th>Children</th>\n      <td>1</td>\n    </tr>\n    <tr>\n      <th>Comics</th>\n      <td>1</td>\n    </tr>\n    <tr>\n      <th>Computers</th>\n      <td>1</td>\n    </tr>\n    <tr>\n      <th>DIY</th>\n      <td>1</td>\n    </tr>\n    <tr>\n      <th>Fiction</th>\n      <td>1</td>\n    </tr>\n    <tr>\n      <th>Furnishing</th>\n      <td>1</td>\n    </tr>\n    <tr>\n      <th>Kids</th>\n      <td>2</td>\n    </tr>\n    <tr>\n      <th>Kitchen</th>\n      <td>1</td>\n    </tr>\n    <tr>\n      <th>Mens</th>\n      <td>3</td>\n    </tr>\n    <tr>\n      <th>Mobiles</th>\n      <td>1</td>\n    </tr>\n    <tr>\n      <th>Non-Fiction</th>\n      <td>1</td>\n    </tr>\n    <tr>\n      <th>Personal Appliances</th>\n      <td>1</td>\n    </tr>\n    <tr>\n      <th>Tools</th>\n      <td>1</td>\n    </tr>\n    <tr>\n      <th>Women</th>\n      <td>3</td>\n    </tr>\n  </tbody>\n</table>\n</div>",
            "text/plain": "col_0                count\nprod_subcat               \nAcademic                 1\nAudio and video          1\nBath                     1\nCameras                  1\nChildren                 1\nComics                   1\nComputers                1\nDIY                      1\nFiction                  1\nFurnishing               1\nKids                     2\nKitchen                  1\nMens                     3\nMobiles                  1\nNon-Fiction              1\nPersonal Appliances      1\nTools                    1\nWomen                    3"
          },
          "metadata": {}
        }
      ]
    },
    {
      "metadata": {
        "trusted": true
      },
      "cell_type": "code",
      "source": "plt.hist(df1.prod_cat_code_x)",
      "execution_count": 26,
      "outputs": [
        {
          "output_type": "stream",
          "text": "/home/nbuser/anaconda3_501/lib/python3.6/site-packages/numpy/lib/histograms.py:824: RuntimeWarning: invalid value encountered in greater_equal\n  keep = (tmp_a >= first_edge)\n/home/nbuser/anaconda3_501/lib/python3.6/site-packages/numpy/lib/histograms.py:825: RuntimeWarning: invalid value encountered in less_equal\n  keep &= (tmp_a <= last_edge)\n",
          "name": "stderr"
        },
        {
          "output_type": "execute_result",
          "execution_count": 26,
          "data": {
            "text/plain": "(array([3., 0., 3., 0., 5., 0., 2., 0., 6., 4.]),\n array([1. , 1.5, 2. , 2.5, 3. , 3.5, 4. , 4.5, 5. , 5.5, 6. ]),\n <a list of 10 Patch objects>)"
          },
          "metadata": {}
        },
        {
          "output_type": "display_data",
          "data": {
            "image/png": "[encoded data removed]",
            "text/plain": "<Figure size 432x288 with 1 Axes>"
          },
          "metadata": {
            "needs_background": "light"
          }
        }
      ]
    },
    {
      "metadata": {
        "trusted": true
      },
      "cell_type": "code",
      "source": "plt.hist(df1.Rate)",
      "execution_count": 27,
      "outputs": [
        {
          "output_type": "execute_result",
          "execution_count": 27,
          "data": {
            "text/plain": "(array([ 496.,  446.,  464.,  411.,  360., 3413., 4335., 4336., 4349.,\n        4443.]),\n array([-1.4990e+03, -1.1991e+03, -8.9920e+02, -5.9930e+02, -2.9940e+02,\n         5.0000e-01,  3.0040e+02,  6.0030e+02,  9.0020e+02,  1.2001e+03,\n         1.5000e+03]),\n <a list of 10 Patch objects>)"
          },
          "metadata": {}
        },
        {
          "output_type": "display_data",
          "data": {
            "image/png": "[encoded data removed]",
            "text/plain": "<Figure size 432x288 with 1 Axes>"
          },
          "metadata": {
            "needs_background": "light"
          }
        }
      ]
    },
    {
      "metadata": {
        "trusted": true
      },
      "cell_type": "code",
      "source": "plt.hist(df1.Tax)",
      "execution_count": 28,
      "outputs": [
        {
          "output_type": "execute_result",
          "execution_count": 28,
          "data": {
            "text/plain": "(array([4868., 5303., 3023., 2944., 1912., 1823., 1078., 1058.,  523.,\n         521.]),\n array([  7.35 ,  85.365, 163.38 , 241.395, 319.41 , 397.425, 475.44 ,\n        553.455, 631.47 , 709.485, 787.5  ]),\n <a list of 10 Patch objects>)"
          },
          "metadata": {}
        },
        {
          "output_type": "display_data",
          "data": {
            "image/png": "[encoded data removed]",
            "text/plain": "<Figure size 432x288 with 1 Axes>"
          },
          "metadata": {
            "needs_background": "light"
          }
        }
      ]
    },
    {
      "metadata": {
        "trusted": true
      },
      "cell_type": "code",
      "source": "plt.hist(df1.total_amt)",
      "execution_count": 29,
      "outputs": [
        {
          "output_type": "execute_result",
          "execution_count": 29,
          "data": {
            "text/plain": "(array([ 109.,  231.,  360.,  564.,  913., 9062., 5505., 3435., 1930.,\n         944.]),\n array([-8270.925 , -6615.0825, -4959.24  , -3303.3975, -1647.555 ,\n            8.2875,  1664.13  ,  3319.9725,  4975.815 ,  6631.6575,\n         8287.5   ]),\n <a list of 10 Patch objects>)"
          },
          "metadata": {}
        },
        {
          "output_type": "display_data",
          "data": {
            "image/png": "[encoded data removed]",
            "text/plain": "<Figure size 432x288 with 1 Axes>"
          },
          "metadata": {
            "needs_background": "light"
          }
        }
      ]
    },
    {
      "metadata": {
        "trusted": true
      },
      "cell_type": "code",
      "source": "sns.countplot(df1.Store_type)",
      "execution_count": 30,
      "outputs": [
        {
          "output_type": "execute_result",
          "execution_count": 30,
          "data": {
            "text/plain": "<matplotlib.axes._subplots.AxesSubplot at 0x7f2a3e5d5828>"
          },
          "metadata": {}
        },
        {
          "output_type": "display_data",
          "data": {
            "image/png": "[encoded data removed]",
            "text/plain": "<Figure size 432x288 with 1 Axes>"
          },
          "metadata": {
            "needs_background": "light"
          }
        }
      ]
    },
    {
      "metadata": {
        "trusted": true
      },
      "cell_type": "code",
      "source": "sns.countplot(df1.Gender)",
      "execution_count": 31,
      "outputs": [
        {
          "output_type": "execute_result",
          "execution_count": 31,
          "data": {
            "text/plain": "<matplotlib.axes._subplots.AxesSubplot at 0x7f2a3e565048>"
          },
          "metadata": {}
        },
        {
          "output_type": "display_data",
          "data": {
            "image/png": "[encoded data removed]",
            "text/plain": "<Figure size 432x288 with 1 Axes>"
          },
          "metadata": {
            "needs_background": "light"
          }
        }
      ]
    },
    {
      "metadata": {
        "trusted": true
      },
      "cell_type": "code",
      "source": "df1['tran_date']",
      "execution_count": 32,
      "outputs": [
        {
          "output_type": "execute_result",
          "execution_count": 32,
          "data": {
            "text/plain": "0        28-02-2014\n1        27-02-2014\n2        24-02-2014\n3        24-02-2014\n4        23-02-2014\n5        23-02-2014\n6        22-02-2014\n7        22-02-2014\n8        22-02-2014\n9        21-02-2014\n10       20-02-2014\n11       20-02-2014\n12       20-02-2014\n13       20-02-2014\n14       20-02-2014\n15       20-02-2014\n16       20-02-2014\n17       20-02-2014\n18       20-02-2014\n19       20-02-2014\n20       20-02-2014\n21       20-02-2014\n22       20-02-2014\n23       20-02-2014\n24       20-02-2014\n25       20-02-2014\n26       20-02-2014\n27       20-02-2014\n28       20-02-2014\n29       20-02-2014\n            ...    \n23023    26-01-2011\n23024    26-01-2011\n23025    26-01-2011\n23026    26-01-2011\n23027    26-01-2011\n23028    26-01-2011\n23029    26-01-2011\n23030    26-01-2011\n23031    26-01-2011\n23032    26-01-2011\n23033    25-01-2011\n23034    25-01-2011\n23035    25-01-2011\n23036    25-01-2011\n23037    25-01-2011\n23038    25-01-2011\n23039    25-01-2011\n23040    25-01-2011\n23041    25-01-2011\n23042    25-01-2011\n23043    25-01-2011\n23044    25-01-2011\n23045    25-01-2011\n23046    25-01-2011\n23047    25-01-2011\n23048    25-01-2011\n23049    25-01-2011\n23050    25-01-2011\n23051    25-01-2011\n23052    25-01-2011\nName: tran_date, Length: 23053, dtype: object"
          },
          "metadata": {}
        }
      ]
    },
    {
      "metadata": {
        "trusted": true
      },
      "cell_type": "code",
      "source": "df1.tran_date.describe()",
      "execution_count": 33,
      "outputs": [
        {
          "output_type": "execute_result",
          "execution_count": 33,
          "data": {
            "text/plain": "count          23053\nunique          1129\ntop       13-07-2011\nfreq              35\nName: tran_date, dtype: object"
          },
          "metadata": {}
        }
      ]
    },
    {
      "metadata": {
        "trusted": true
      },
      "cell_type": "code",
      "source": "df1.head()",
      "execution_count": 34,
      "outputs": [
        {
          "output_type": "execute_result",
          "execution_count": 34,
          "data": {
            "text/html": "<div>\n<style scoped>\n    .dataframe tbody tr th:only-of-type {\n        vertical-align: middle;\n    }\n\n    .dataframe tbody tr th {\n        vertical-align: top;\n    }\n\n    .dataframe thead th {\n        text-align: right;\n    }\n</style>\n<table border=\"1\" class=\"dataframe\">\n  <thead>\n    <tr style=\"text-align: right;\">\n      <th></th>\n      <th>prod_cat_code_x</th>\n      <th>prod_cat</th>\n      <th>prod_sub_cat_code</th>\n      <th>prod_subcat</th>\n      <th>transaction_id</th>\n      <th>cust_id</th>\n      <th>tran_date</th>\n      <th>prod_subcat_code</th>\n      <th>prod_cat_code_y</th>\n      <th>Qty</th>\n      <th>Rate</th>\n      <th>Tax</th>\n      <th>total_amt</th>\n      <th>Store_type</th>\n      <th>customer_Id</th>\n      <th>DOB</th>\n      <th>Gender</th>\n      <th>city_code</th>\n    </tr>\n  </thead>\n  <tbody>\n    <tr>\n      <th>0</th>\n      <td>1.0</td>\n      <td>Clothing</td>\n      <td>4.0</td>\n      <td>Mens</td>\n      <td>80712190438</td>\n      <td>270351</td>\n      <td>28-02-2014</td>\n      <td>1</td>\n      <td>1</td>\n      <td>-5</td>\n      <td>-772</td>\n      <td>405.300</td>\n      <td>-4265.300</td>\n      <td>e-Shop</td>\n      <td>268408.0</td>\n      <td>02-01-1970</td>\n      <td>M</td>\n      <td>4.0</td>\n    </tr>\n    <tr>\n      <th>1</th>\n      <td>1.0</td>\n      <td>Clothing</td>\n      <td>1.0</td>\n      <td>Women</td>\n      <td>29258453508</td>\n      <td>270384</td>\n      <td>27-02-2014</td>\n      <td>5</td>\n      <td>3</td>\n      <td>-5</td>\n      <td>-1497</td>\n      <td>785.925</td>\n      <td>-8270.925</td>\n      <td>e-Shop</td>\n      <td>269696.0</td>\n      <td>07-01-1970</td>\n      <td>F</td>\n      <td>8.0</td>\n    </tr>\n    <tr>\n      <th>2</th>\n      <td>1.0</td>\n      <td>Clothing</td>\n      <td>3.0</td>\n      <td>Kids</td>\n      <td>51750724947</td>\n      <td>273420</td>\n      <td>24-02-2014</td>\n      <td>6</td>\n      <td>5</td>\n      <td>-2</td>\n      <td>-791</td>\n      <td>166.110</td>\n      <td>-1748.110</td>\n      <td>TeleShop</td>\n      <td>268159.0</td>\n      <td>08-01-1970</td>\n      <td>F</td>\n      <td>8.0</td>\n    </tr>\n    <tr>\n      <th>3</th>\n      <td>2.0</td>\n      <td>Footwear</td>\n      <td>1.0</td>\n      <td>Mens</td>\n      <td>93274880719</td>\n      <td>271509</td>\n      <td>24-02-2014</td>\n      <td>11</td>\n      <td>6</td>\n      <td>-3</td>\n      <td>-1363</td>\n      <td>429.345</td>\n      <td>-4518.345</td>\n      <td>e-Shop</td>\n      <td>270181.0</td>\n      <td>10-01-1970</td>\n      <td>F</td>\n      <td>2.0</td>\n    </tr>\n    <tr>\n      <th>4</th>\n      <td>2.0</td>\n      <td>Footwear</td>\n      <td>3.0</td>\n      <td>Women</td>\n      <td>51750724947</td>\n      <td>273420</td>\n      <td>23-02-2014</td>\n      <td>6</td>\n      <td>5</td>\n      <td>-2</td>\n      <td>-791</td>\n      <td>166.110</td>\n      <td>-1748.110</td>\n      <td>TeleShop</td>\n      <td>268073.0</td>\n      <td>11-01-1970</td>\n      <td>M</td>\n      <td>1.0</td>\n    </tr>\n  </tbody>\n</table>\n</div>",
            "text/plain": "   prod_cat_code_x  prod_cat  prod_sub_cat_code prod_subcat  transaction_id  \\\n0              1.0  Clothing                4.0        Mens     80712190438   \n1              1.0  Clothing                1.0       Women     29258453508   \n2              1.0  Clothing                3.0        Kids     51750724947   \n3              2.0  Footwear                1.0        Mens     93274880719   \n4              2.0  Footwear                3.0       Women     51750724947   \n\n   cust_id   tran_date  prod_subcat_code  prod_cat_code_y  Qty  Rate      Tax  \\\n0   270351  28-02-2014                 1                1   -5  -772  405.300   \n1   270384  27-02-2014                 5                3   -5 -1497  785.925   \n2   273420  24-02-2014                 6                5   -2  -791  166.110   \n3   271509  24-02-2014                11                6   -3 -1363  429.345   \n4   273420  23-02-2014                 6                5   -2  -791  166.110   \n\n   total_amt Store_type  customer_Id         DOB Gender  city_code  \n0  -4265.300     e-Shop     268408.0  02-01-1970      M        4.0  \n1  -8270.925     e-Shop     269696.0  07-01-1970      F        8.0  \n2  -1748.110   TeleShop     268159.0  08-01-1970      F        8.0  \n3  -4518.345     e-Shop     270181.0  10-01-1970      F        2.0  \n4  -1748.110   TeleShop     268073.0  11-01-1970      M        1.0  "
          },
          "metadata": {}
        }
      ]
    },
    {
      "metadata": {
        "trusted": true
      },
      "cell_type": "code",
      "source": "df1.tail()",
      "execution_count": 35,
      "outputs": [
        {
          "output_type": "execute_result",
          "execution_count": 35,
          "data": {
            "text/html": "<div>\n<style scoped>\n    .dataframe tbody tr th:only-of-type {\n        vertical-align: middle;\n    }\n\n    .dataframe tbody tr th {\n        vertical-align: top;\n    }\n\n    .dataframe thead th {\n        text-align: right;\n    }\n</style>\n<table border=\"1\" class=\"dataframe\">\n  <thead>\n    <tr style=\"text-align: right;\">\n      <th></th>\n      <th>prod_cat_code_x</th>\n      <th>prod_cat</th>\n      <th>prod_sub_cat_code</th>\n      <th>prod_subcat</th>\n      <th>transaction_id</th>\n      <th>cust_id</th>\n      <th>tran_date</th>\n      <th>prod_subcat_code</th>\n      <th>prod_cat_code_y</th>\n      <th>Qty</th>\n      <th>Rate</th>\n      <th>Tax</th>\n      <th>total_amt</th>\n      <th>Store_type</th>\n      <th>customer_Id</th>\n      <th>DOB</th>\n      <th>Gender</th>\n      <th>city_code</th>\n    </tr>\n  </thead>\n  <tbody>\n    <tr>\n      <th>23048</th>\n      <td>NaN</td>\n      <td>NaN</td>\n      <td>NaN</td>\n      <td>NaN</td>\n      <td>94340757522</td>\n      <td>274550</td>\n      <td>25-01-2011</td>\n      <td>12</td>\n      <td>5</td>\n      <td>1</td>\n      <td>1264</td>\n      <td>132.720</td>\n      <td>1396.720</td>\n      <td>e-Shop</td>\n      <td>NaN</td>\n      <td>NaN</td>\n      <td>NaN</td>\n      <td>NaN</td>\n    </tr>\n    <tr>\n      <th>23049</th>\n      <td>NaN</td>\n      <td>NaN</td>\n      <td>NaN</td>\n      <td>NaN</td>\n      <td>89780862956</td>\n      <td>270022</td>\n      <td>25-01-2011</td>\n      <td>4</td>\n      <td>1</td>\n      <td>1</td>\n      <td>677</td>\n      <td>71.085</td>\n      <td>748.085</td>\n      <td>e-Shop</td>\n      <td>NaN</td>\n      <td>NaN</td>\n      <td>NaN</td>\n      <td>NaN</td>\n    </tr>\n    <tr>\n      <th>23050</th>\n      <td>NaN</td>\n      <td>NaN</td>\n      <td>NaN</td>\n      <td>NaN</td>\n      <td>85115299378</td>\n      <td>271020</td>\n      <td>25-01-2011</td>\n      <td>2</td>\n      <td>6</td>\n      <td>4</td>\n      <td>1052</td>\n      <td>441.840</td>\n      <td>4649.840</td>\n      <td>MBR</td>\n      <td>NaN</td>\n      <td>NaN</td>\n      <td>NaN</td>\n      <td>NaN</td>\n    </tr>\n    <tr>\n      <th>23051</th>\n      <td>NaN</td>\n      <td>NaN</td>\n      <td>NaN</td>\n      <td>NaN</td>\n      <td>72870271171</td>\n      <td>270911</td>\n      <td>25-01-2011</td>\n      <td>11</td>\n      <td>5</td>\n      <td>3</td>\n      <td>1142</td>\n      <td>359.730</td>\n      <td>3785.730</td>\n      <td>TeleShop</td>\n      <td>NaN</td>\n      <td>NaN</td>\n      <td>NaN</td>\n      <td>NaN</td>\n    </tr>\n    <tr>\n      <th>23052</th>\n      <td>NaN</td>\n      <td>NaN</td>\n      <td>NaN</td>\n      <td>NaN</td>\n      <td>77960931771</td>\n      <td>271961</td>\n      <td>25-01-2011</td>\n      <td>11</td>\n      <td>5</td>\n      <td>1</td>\n      <td>447</td>\n      <td>46.935</td>\n      <td>493.935</td>\n      <td>TeleShop</td>\n      <td>NaN</td>\n      <td>NaN</td>\n      <td>NaN</td>\n      <td>NaN</td>\n    </tr>\n  </tbody>\n</table>\n</div>",
            "text/plain": "       prod_cat_code_x prod_cat  prod_sub_cat_code prod_subcat  \\\n23048              NaN      NaN                NaN         NaN   \n23049              NaN      NaN                NaN         NaN   \n23050              NaN      NaN                NaN         NaN   \n23051              NaN      NaN                NaN         NaN   \n23052              NaN      NaN                NaN         NaN   \n\n       transaction_id  cust_id   tran_date  prod_subcat_code  prod_cat_code_y  \\\n23048     94340757522   274550  25-01-2011                12                5   \n23049     89780862956   270022  25-01-2011                 4                1   \n23050     85115299378   271020  25-01-2011                 2                6   \n23051     72870271171   270911  25-01-2011                11                5   \n23052     77960931771   271961  25-01-2011                11                5   \n\n       Qty  Rate      Tax  total_amt Store_type  customer_Id  DOB Gender  \\\n23048    1  1264  132.720   1396.720     e-Shop          NaN  NaN    NaN   \n23049    1   677   71.085    748.085     e-Shop          NaN  NaN    NaN   \n23050    4  1052  441.840   4649.840        MBR          NaN  NaN    NaN   \n23051    3  1142  359.730   3785.730   TeleShop          NaN  NaN    NaN   \n23052    1   447   46.935    493.935   TeleShop          NaN  NaN    NaN   \n\n       city_code  \n23048        NaN  \n23049        NaN  \n23050        NaN  \n23051        NaN  \n23052        NaN  "
          },
          "metadata": {}
        }
      ]
    },
    {
      "metadata": {
        "trusted": true
      },
      "cell_type": "code",
      "source": "#time period of available transaction data starts from 25-01-2011 to 29-02-2014",
      "execution_count": 36,
      "outputs": []
    },
    {
      "metadata": {
        "trusted": true
      },
      "cell_type": "code",
      "source": "# count of negative values in transaction amount\nsum(i<0 for i in retail1.total_amt)",
      "execution_count": 37,
      "outputs": [
        {
          "output_type": "execute_result",
          "execution_count": 37,
          "data": {
            "text/plain": "2177"
          },
          "metadata": {}
        }
      ]
    },
    {
      "metadata": {
        "trusted": true
      },
      "cell_type": "code",
      "source": "sns.countplot(x='prod_cat',hue='Gender',data=df1)\nsns.plot.show()",
      "execution_count": 38,
      "outputs": [
        {
          "output_type": "error",
          "ename": "AttributeError",
          "evalue": "module 'seaborn' has no attribute 'plot'",
          "traceback": [
            "\u001b[0;31m---------------------------------------------------------------------------\u001b[0m",
            "\u001b[0;31mAttributeError\u001b[0m                            Traceback (most recent call last)",
            "\u001b[0;32m<ipython-input-38-094bac2c8867>\u001b[0m in \u001b[0;36m<module>\u001b[0;34m\u001b[0m\n\u001b[1;32m      1\u001b[0m \u001b[0msns\u001b[0m\u001b[0;34m.\u001b[0m\u001b[0mcountplot\u001b[0m\u001b[0;34m(\u001b[0m\u001b[0mx\u001b[0m\u001b[0;34m=\u001b[0m\u001b[0;34m'prod_cat'\u001b[0m\u001b[0;34m,\u001b[0m\u001b[0mhue\u001b[0m\u001b[0;34m=\u001b[0m\u001b[0;34m'Gender'\u001b[0m\u001b[0;34m,\u001b[0m\u001b[0mdata\u001b[0m\u001b[0;34m=\u001b[0m\u001b[0mdf1\u001b[0m\u001b[0;34m)\u001b[0m\u001b[0;34m\u001b[0m\u001b[0m\n\u001b[0;32m----> 2\u001b[0;31m \u001b[0msns\u001b[0m\u001b[0;34m.\u001b[0m\u001b[0mplot\u001b[0m\u001b[0;34m.\u001b[0m\u001b[0mshow\u001b[0m\u001b[0;34m(\u001b[0m\u001b[0;34m)\u001b[0m\u001b[0;34m\u001b[0m\u001b[0m\n\u001b[0m",
            "\u001b[0;31mAttributeError\u001b[0m: module 'seaborn' has no attribute 'plot'"
          ]
        },
        {
          "output_type": "display_data",
          "data": {
            "image/png": "[encoded data removed]",
            "text/plain": "<Figure size 432x288 with 1 Axes>"
          },
          "metadata": {
            "needs_background": "light"
          }
        }
      ]
    },
    {
      "metadata": {
        "trusted": true
      },
      "cell_type": "code",
      "source": "# Clothing,footwear and books were most popular among females than males",
      "execution_count": null,
      "outputs": []
    },
    {
      "metadata": {
        "trusted": true
      },
      "cell_type": "code",
      "source": "df2=pd.crosstab(index=df1['city_code'],columns=['cust_id'])",
      "execution_count": 39,
      "outputs": []
    },
    {
      "metadata": {
        "trusted": true
      },
      "cell_type": "code",
      "source": "df2",
      "execution_count": 40,
      "outputs": [
        {
          "output_type": "execute_result",
          "execution_count": 40,
          "data": {
            "text/html": "<div>\n<style scoped>\n    .dataframe tbody tr th:only-of-type {\n        vertical-align: middle;\n    }\n\n    .dataframe tbody tr th {\n        vertical-align: top;\n    }\n\n    .dataframe thead th {\n        text-align: right;\n    }\n</style>\n<table border=\"1\" class=\"dataframe\">\n  <thead>\n    <tr style=\"text-align: right;\">\n      <th>col_0</th>\n      <th>cust_id</th>\n    </tr>\n    <tr>\n      <th>city_code</th>\n      <th></th>\n    </tr>\n  </thead>\n  <tbody>\n    <tr>\n      <th>1.0</th>\n      <td>551</td>\n    </tr>\n    <tr>\n      <th>2.0</th>\n      <td>564</td>\n    </tr>\n    <tr>\n      <th>3.0</th>\n      <td>595</td>\n    </tr>\n    <tr>\n      <th>4.0</th>\n      <td>582</td>\n    </tr>\n    <tr>\n      <th>5.0</th>\n      <td>586</td>\n    </tr>\n    <tr>\n      <th>6.0</th>\n      <td>526</td>\n    </tr>\n    <tr>\n      <th>7.0</th>\n      <td>575</td>\n    </tr>\n    <tr>\n      <th>8.0</th>\n      <td>562</td>\n    </tr>\n    <tr>\n      <th>9.0</th>\n      <td>546</td>\n    </tr>\n    <tr>\n      <th>10.0</th>\n      <td>558</td>\n    </tr>\n  </tbody>\n</table>\n</div>",
            "text/plain": "col_0      cust_id\ncity_code         \n1.0            551\n2.0            564\n3.0            595\n4.0            582\n5.0            586\n6.0            526\n7.0            575\n8.0            562\n9.0            546\n10.0           558"
          },
          "metadata": {}
        }
      ]
    },
    {
      "metadata": {
        "trusted": true
      },
      "cell_type": "code",
      "source": "#city code 3.0 has the maximum customers and percentage of customers from that city\ndf3=[i%100 for i in df2['cust_id']]\n",
      "execution_count": 41,
      "outputs": []
    },
    {
      "metadata": {
        "trusted": true
      },
      "cell_type": "code",
      "source": "df3",
      "execution_count": 42,
      "outputs": [
        {
          "output_type": "execute_result",
          "execution_count": 42,
          "data": {
            "text/plain": "[51, 64, 95, 82, 86, 26, 75, 62, 46, 58]"
          },
          "metadata": {}
        }
      ]
    },
    {
      "metadata": {
        "trusted": true
      },
      "cell_type": "code",
      "source": "# so the percetage of customers in city code 3.0 is 95%",
      "execution_count": null,
      "outputs": []
    },
    {
      "metadata": {
        "trusted": true
      },
      "cell_type": "code",
      "source": "df4=pd.crosstab(index=df1['Store_type'],columns='count')",
      "execution_count": 43,
      "outputs": []
    },
    {
      "metadata": {
        "trusted": true
      },
      "cell_type": "code",
      "source": "df4",
      "execution_count": 44,
      "outputs": [
        {
          "output_type": "execute_result",
          "execution_count": 44,
          "data": {
            "text/html": "<div>\n<style scoped>\n    .dataframe tbody tr th:only-of-type {\n        vertical-align: middle;\n    }\n\n    .dataframe tbody tr th {\n        vertical-align: top;\n    }\n\n    .dataframe thead th {\n        text-align: right;\n    }\n</style>\n<table border=\"1\" class=\"dataframe\">\n  <thead>\n    <tr style=\"text-align: right;\">\n      <th>col_0</th>\n      <th>count</th>\n    </tr>\n    <tr>\n      <th>Store_type</th>\n      <th></th>\n    </tr>\n  </thead>\n  <tbody>\n    <tr>\n      <th>Flagship store</th>\n      <td>4577</td>\n    </tr>\n    <tr>\n      <th>MBR</th>\n      <td>4661</td>\n    </tr>\n    <tr>\n      <th>TeleShop</th>\n      <td>4504</td>\n    </tr>\n    <tr>\n      <th>e-Shop</th>\n      <td>9311</td>\n    </tr>\n  </tbody>\n</table>\n</div>",
            "text/plain": "col_0           count\nStore_type           \nFlagship store   4577\nMBR              4661\nTeleShop         4504\ne-Shop           9311"
          },
          "metadata": {}
        }
      ]
    },
    {
      "metadata": {
        "trusted": true
      },
      "cell_type": "code",
      "source": "#e-shop has the maximum value ",
      "execution_count": null,
      "outputs": []
    },
    {
      "metadata": {
        "trusted": true
      },
      "cell_type": "code",
      "source": "df6=pd.crosstab(index=df1['Qty'],columns='count')",
      "execution_count": 45,
      "outputs": []
    },
    {
      "metadata": {
        "trusted": true
      },
      "cell_type": "code",
      "source": "df6",
      "execution_count": 46,
      "outputs": [
        {
          "output_type": "execute_result",
          "execution_count": 46,
          "data": {
            "text/html": "<div>\n<style scoped>\n    .dataframe tbody tr th:only-of-type {\n        vertical-align: middle;\n    }\n\n    .dataframe tbody tr th {\n        vertical-align: top;\n    }\n\n    .dataframe thead th {\n        text-align: right;\n    }\n</style>\n<table border=\"1\" class=\"dataframe\">\n  <thead>\n    <tr style=\"text-align: right;\">\n      <th>col_0</th>\n      <th>count</th>\n    </tr>\n    <tr>\n      <th>Qty</th>\n      <th></th>\n    </tr>\n  </thead>\n  <tbody>\n    <tr>\n      <th>-5</th>\n      <td>457</td>\n    </tr>\n    <tr>\n      <th>-4</th>\n      <td>458</td>\n    </tr>\n    <tr>\n      <th>-3</th>\n      <td>405</td>\n    </tr>\n    <tr>\n      <th>-2</th>\n      <td>438</td>\n    </tr>\n    <tr>\n      <th>-1</th>\n      <td>419</td>\n    </tr>\n    <tr>\n      <th>1</th>\n      <td>4214</td>\n    </tr>\n    <tr>\n      <th>2</th>\n      <td>4123</td>\n    </tr>\n    <tr>\n      <th>3</th>\n      <td>4174</td>\n    </tr>\n    <tr>\n      <th>4</th>\n      <td>4106</td>\n    </tr>\n    <tr>\n      <th>5</th>\n      <td>4259</td>\n    </tr>\n  </tbody>\n</table>\n</div>",
            "text/plain": "col_0  count\nQty         \n-5       457\n-4       458\n-3       405\n-2       438\n-1       419\n 1      4214\n 2      4123\n 3      4174\n 4      4106\n 5      4259"
          },
          "metadata": {}
        }
      ]
    },
    {
      "metadata": {
        "trusted": true
      },
      "cell_type": "code",
      "source": "df7=df1.groupby(['Store_type',[i>0 for i in df1.Qty]]).size()",
      "execution_count": 47,
      "outputs": []
    },
    {
      "metadata": {
        "trusted": true
      },
      "cell_type": "code",
      "source": "df7",
      "execution_count": 48,
      "outputs": [
        {
          "output_type": "execute_result",
          "execution_count": 48,
          "data": {
            "text/plain": "Store_type           \nFlagship store  False     432\n                True     4145\nMBR             False     451\n                True     4210\nTeleShop        False     412\n                True     4092\ne-Shop          False     882\n                True     8429\ndtype: int64"
          },
          "metadata": {}
        }
      ]
    },
    {
      "metadata": {
        "trusted": true
      },
      "cell_type": "code",
      "source": "#e shop has the most value and quantity ",
      "execution_count": null,
      "outputs": []
    },
    {
      "metadata": {
        "trusted": true
      },
      "cell_type": "code",
      "source": "df8=df1.groupby(['Store_type'=='Flagship store,'Electronics']).sum()",
      "execution_count": 49,
      "outputs": [
        {
          "output_type": "error",
          "ename": "SyntaxError",
          "evalue": "invalid syntax (<ipython-input-49-6d1ca6dec5f6>, line 1)",
          "traceback": [
            "\u001b[0;36m  File \u001b[0;32m\"<ipython-input-49-6d1ca6dec5f6>\"\u001b[0;36m, line \u001b[0;32m1\u001b[0m\n\u001b[0;31m    df8=df1.groupby(['Store_type'=='Flagship store,'Electronics']).sum()\u001b[0m\n\u001b[0m                                                              ^\u001b[0m\n\u001b[0;31mSyntaxError\u001b[0m\u001b[0;31m:\u001b[0m invalid syntax\n"
          ]
        }
      ]
    },
    {
      "metadata": {
        "trusted": true
      },
      "cell_type": "code",
      "source": "df9=df1[(df1['Store_type']== 'Flagship store')]",
      "execution_count": 73,
      "outputs": []
    },
    {
      "metadata": {
        "trusted": true
      },
      "cell_type": "code",
      "source": "df9",
      "execution_count": 74,
      "outputs": [
        {
          "output_type": "execute_result",
          "execution_count": 74,
          "data": {
            "text/html": "<div>\n<style scoped>\n    .dataframe tbody tr th:only-of-type {\n        vertical-align: middle;\n    }\n\n    .dataframe tbody tr th {\n        vertical-align: top;\n    }\n\n    .dataframe thead th {\n        text-align: right;\n    }\n</style>\n<table border=\"1\" class=\"dataframe\">\n  <thead>\n    <tr style=\"text-align: right;\">\n      <th></th>\n      <th>prod_cat_code_x</th>\n      <th>prod_cat</th>\n      <th>prod_sub_cat_code</th>\n      <th>prod_subcat</th>\n      <th>transaction_id</th>\n      <th>cust_id</th>\n      <th>tran_date</th>\n      <th>prod_subcat_code</th>\n      <th>prod_cat_code_y</th>\n      <th>Qty</th>\n      <th>Rate</th>\n      <th>Tax</th>\n      <th>total_amt</th>\n      <th>Store_type</th>\n      <th>customer_Id</th>\n      <th>DOB</th>\n      <th>Gender</th>\n      <th>city_code</th>\n    </tr>\n  </thead>\n  <tbody>\n    <tr>\n      <th>17</th>\n      <td>5.0</td>\n      <td>Books</td>\n      <td>3.0</td>\n      <td>Comics</td>\n      <td>25963520987</td>\n      <td>274829</td>\n      <td>20-02-2014</td>\n      <td>4</td>\n      <td>4</td>\n      <td>3</td>\n      <td>502</td>\n      <td>158.130</td>\n      <td>1664.130</td>\n      <td>Flagship store</td>\n      <td>268275.0</td>\n      <td>01-02-1970</td>\n      <td>F</td>\n      <td>7.0</td>\n    </tr>\n    <tr>\n      <th>29</th>\n      <td>NaN</td>\n      <td>NaN</td>\n      <td>NaN</td>\n      <td>NaN</td>\n      <td>99581788104</td>\n      <td>267466</td>\n      <td>20-02-2014</td>\n      <td>3</td>\n      <td>2</td>\n      <td>1</td>\n      <td>96</td>\n      <td>10.080</td>\n      <td>106.080</td>\n      <td>Flagship store</td>\n      <td>272359.0</td>\n      <td>19-02-1970</td>\n      <td>M</td>\n      <td>4.0</td>\n    </tr>\n    <tr>\n      <th>39</th>\n      <td>NaN</td>\n      <td>NaN</td>\n      <td>NaN</td>\n      <td>NaN</td>\n      <td>63407734630</td>\n      <td>271322</td>\n      <td>19-02-2014</td>\n      <td>3</td>\n      <td>2</td>\n      <td>5</td>\n      <td>1360</td>\n      <td>714.000</td>\n      <td>7514.000</td>\n      <td>Flagship store</td>\n      <td>274592.0</td>\n      <td>08-03-1970</td>\n      <td>M</td>\n      <td>5.0</td>\n    </tr>\n    <tr>\n      <th>41</th>\n      <td>NaN</td>\n      <td>NaN</td>\n      <td>NaN</td>\n      <td>NaN</td>\n      <td>82750983847</td>\n      <td>267544</td>\n      <td>19-02-2014</td>\n      <td>3</td>\n      <td>5</td>\n      <td>1</td>\n      <td>805</td>\n      <td>84.525</td>\n      <td>889.525</td>\n      <td>Flagship store</td>\n      <td>266895.0</td>\n      <td>12-03-1970</td>\n      <td>M</td>\n      <td>4.0</td>\n    </tr>\n    <tr>\n      <th>42</th>\n      <td>NaN</td>\n      <td>NaN</td>\n      <td>NaN</td>\n      <td>NaN</td>\n      <td>67328698675</td>\n      <td>268755</td>\n      <td>19-02-2014</td>\n      <td>3</td>\n      <td>2</td>\n      <td>1</td>\n      <td>1018</td>\n      <td>106.890</td>\n      <td>1124.890</td>\n      <td>Flagship store</td>\n      <td>274360.0</td>\n      <td>14-03-1970</td>\n      <td>M</td>\n      <td>5.0</td>\n    </tr>\n    <tr>\n      <th>46</th>\n      <td>NaN</td>\n      <td>NaN</td>\n      <td>NaN</td>\n      <td>NaN</td>\n      <td>72427583709</td>\n      <td>268129</td>\n      <td>19-02-2014</td>\n      <td>4</td>\n      <td>4</td>\n      <td>1</td>\n      <td>885</td>\n      <td>92.925</td>\n      <td>977.925</td>\n      <td>Flagship store</td>\n      <td>267379.0</td>\n      <td>21-03-1970</td>\n      <td>F</td>\n      <td>2.0</td>\n    </tr>\n    <tr>\n      <th>48</th>\n      <td>NaN</td>\n      <td>NaN</td>\n      <td>NaN</td>\n      <td>NaN</td>\n      <td>7313351894</td>\n      <td>267568</td>\n      <td>18-02-2014</td>\n      <td>2</td>\n      <td>6</td>\n      <td>4</td>\n      <td>481</td>\n      <td>202.020</td>\n      <td>2126.020</td>\n      <td>Flagship store</td>\n      <td>273106.0</td>\n      <td>23-03-1970</td>\n      <td>F</td>\n      <td>2.0</td>\n    </tr>\n    <tr>\n      <th>49</th>\n      <td>NaN</td>\n      <td>NaN</td>\n      <td>NaN</td>\n      <td>NaN</td>\n      <td>37745642681</td>\n      <td>267098</td>\n      <td>18-02-2014</td>\n      <td>1</td>\n      <td>2</td>\n      <td>1</td>\n      <td>109</td>\n      <td>11.445</td>\n      <td>120.445</td>\n      <td>Flagship store</td>\n      <td>271935.0</td>\n      <td>26-03-1970</td>\n      <td>M</td>\n      <td>5.0</td>\n    </tr>\n    <tr>\n      <th>52</th>\n      <td>NaN</td>\n      <td>NaN</td>\n      <td>NaN</td>\n      <td>NaN</td>\n      <td>58886320392</td>\n      <td>268715</td>\n      <td>18-02-2014</td>\n      <td>10</td>\n      <td>6</td>\n      <td>2</td>\n      <td>768</td>\n      <td>161.280</td>\n      <td>1697.280</td>\n      <td>Flagship store</td>\n      <td>266969.0</td>\n      <td>28-03-1970</td>\n      <td>M</td>\n      <td>2.0</td>\n    </tr>\n    <tr>\n      <th>53</th>\n      <td>NaN</td>\n      <td>NaN</td>\n      <td>NaN</td>\n      <td>NaN</td>\n      <td>53081075361</td>\n      <td>273250</td>\n      <td>18-02-2014</td>\n      <td>11</td>\n      <td>6</td>\n      <td>5</td>\n      <td>1345</td>\n      <td>706.125</td>\n      <td>7431.125</td>\n      <td>Flagship store</td>\n      <td>273871.0</td>\n      <td>29-03-1970</td>\n      <td>M</td>\n      <td>7.0</td>\n    </tr>\n    <tr>\n      <th>54</th>\n      <td>NaN</td>\n      <td>NaN</td>\n      <td>NaN</td>\n      <td>NaN</td>\n      <td>10017543415</td>\n      <td>267097</td>\n      <td>18-02-2014</td>\n      <td>3</td>\n      <td>5</td>\n      <td>1</td>\n      <td>164</td>\n      <td>17.220</td>\n      <td>181.220</td>\n      <td>Flagship store</td>\n      <td>273811.0</td>\n      <td>29-03-1970</td>\n      <td>M</td>\n      <td>8.0</td>\n    </tr>\n    <tr>\n      <th>59</th>\n      <td>NaN</td>\n      <td>NaN</td>\n      <td>NaN</td>\n      <td>NaN</td>\n      <td>83313344780</td>\n      <td>271288</td>\n      <td>18-02-2014</td>\n      <td>4</td>\n      <td>3</td>\n      <td>2</td>\n      <td>84</td>\n      <td>17.640</td>\n      <td>185.640</td>\n      <td>Flagship store</td>\n      <td>272071.0</td>\n      <td>06-04-1970</td>\n      <td>F</td>\n      <td>6.0</td>\n    </tr>\n    <tr>\n      <th>63</th>\n      <td>NaN</td>\n      <td>NaN</td>\n      <td>NaN</td>\n      <td>NaN</td>\n      <td>59232461135</td>\n      <td>269019</td>\n      <td>17-02-2014</td>\n      <td>4</td>\n      <td>2</td>\n      <td>2</td>\n      <td>479</td>\n      <td>100.590</td>\n      <td>1058.590</td>\n      <td>Flagship store</td>\n      <td>272627.0</td>\n      <td>19-04-1970</td>\n      <td>F</td>\n      <td>3.0</td>\n    </tr>\n    <tr>\n      <th>65</th>\n      <td>NaN</td>\n      <td>NaN</td>\n      <td>NaN</td>\n      <td>NaN</td>\n      <td>60560888204</td>\n      <td>271250</td>\n      <td>17-02-2014</td>\n      <td>10</td>\n      <td>6</td>\n      <td>2</td>\n      <td>707</td>\n      <td>148.470</td>\n      <td>1562.470</td>\n      <td>Flagship store</td>\n      <td>270450.0</td>\n      <td>24-04-1970</td>\n      <td>F</td>\n      <td>3.0</td>\n    </tr>\n    <tr>\n      <th>69</th>\n      <td>NaN</td>\n      <td>NaN</td>\n      <td>NaN</td>\n      <td>NaN</td>\n      <td>40604748560</td>\n      <td>269387</td>\n      <td>17-02-2014</td>\n      <td>6</td>\n      <td>5</td>\n      <td>5</td>\n      <td>760</td>\n      <td>399.000</td>\n      <td>4199.000</td>\n      <td>Flagship store</td>\n      <td>268290.0</td>\n      <td>29-04-1970</td>\n      <td>M</td>\n      <td>7.0</td>\n    </tr>\n    <tr>\n      <th>74</th>\n      <td>NaN</td>\n      <td>NaN</td>\n      <td>NaN</td>\n      <td>NaN</td>\n      <td>86635642295</td>\n      <td>271763</td>\n      <td>17-02-2014</td>\n      <td>12</td>\n      <td>6</td>\n      <td>5</td>\n      <td>562</td>\n      <td>295.050</td>\n      <td>3105.050</td>\n      <td>Flagship store</td>\n      <td>267529.0</td>\n      <td>09-05-1970</td>\n      <td>M</td>\n      <td>4.0</td>\n    </tr>\n    <tr>\n      <th>90</th>\n      <td>NaN</td>\n      <td>NaN</td>\n      <td>NaN</td>\n      <td>NaN</td>\n      <td>76990911956</td>\n      <td>270148</td>\n      <td>16-02-2014</td>\n      <td>4</td>\n      <td>3</td>\n      <td>4</td>\n      <td>448</td>\n      <td>188.160</td>\n      <td>1980.160</td>\n      <td>Flagship store</td>\n      <td>274849.0</td>\n      <td>09-06-1970</td>\n      <td>M</td>\n      <td>4.0</td>\n    </tr>\n    <tr>\n      <th>94</th>\n      <td>NaN</td>\n      <td>NaN</td>\n      <td>NaN</td>\n      <td>NaN</td>\n      <td>34544863855</td>\n      <td>269388</td>\n      <td>15-02-2014</td>\n      <td>11</td>\n      <td>6</td>\n      <td>2</td>\n      <td>922</td>\n      <td>193.620</td>\n      <td>2037.620</td>\n      <td>Flagship store</td>\n      <td>270047.0</td>\n      <td>10-06-1970</td>\n      <td>M</td>\n      <td>1.0</td>\n    </tr>\n    <tr>\n      <th>103</th>\n      <td>NaN</td>\n      <td>NaN</td>\n      <td>NaN</td>\n      <td>NaN</td>\n      <td>10942311291</td>\n      <td>271297</td>\n      <td>15-02-2014</td>\n      <td>3</td>\n      <td>1</td>\n      <td>2</td>\n      <td>756</td>\n      <td>158.760</td>\n      <td>1670.760</td>\n      <td>Flagship store</td>\n      <td>273162.0</td>\n      <td>19-06-1970</td>\n      <td>M</td>\n      <td>8.0</td>\n    </tr>\n    <tr>\n      <th>104</th>\n      <td>NaN</td>\n      <td>NaN</td>\n      <td>NaN</td>\n      <td>NaN</td>\n      <td>63352996926</td>\n      <td>272145</td>\n      <td>15-02-2014</td>\n      <td>5</td>\n      <td>3</td>\n      <td>4</td>\n      <td>1342</td>\n      <td>563.640</td>\n      <td>5931.640</td>\n      <td>Flagship store</td>\n      <td>268533.0</td>\n      <td>23-06-1970</td>\n      <td>F</td>\n      <td>6.0</td>\n    </tr>\n    <tr>\n      <th>108</th>\n      <td>NaN</td>\n      <td>NaN</td>\n      <td>NaN</td>\n      <td>NaN</td>\n      <td>82975337804</td>\n      <td>272529</td>\n      <td>15-02-2014</td>\n      <td>4</td>\n      <td>4</td>\n      <td>4</td>\n      <td>869</td>\n      <td>364.980</td>\n      <td>3840.980</td>\n      <td>Flagship store</td>\n      <td>275116.0</td>\n      <td>29-06-1970</td>\n      <td>M</td>\n      <td>5.0</td>\n    </tr>\n    <tr>\n      <th>112</th>\n      <td>NaN</td>\n      <td>NaN</td>\n      <td>NaN</td>\n      <td>NaN</td>\n      <td>57112244235</td>\n      <td>268076</td>\n      <td>14-02-2014</td>\n      <td>10</td>\n      <td>3</td>\n      <td>4</td>\n      <td>167</td>\n      <td>70.140</td>\n      <td>738.140</td>\n      <td>Flagship store</td>\n      <td>273708.0</td>\n      <td>09-07-1970</td>\n      <td>F</td>\n      <td>7.0</td>\n    </tr>\n    <tr>\n      <th>115</th>\n      <td>NaN</td>\n      <td>NaN</td>\n      <td>NaN</td>\n      <td>NaN</td>\n      <td>2934877504</td>\n      <td>271859</td>\n      <td>14-02-2014</td>\n      <td>3</td>\n      <td>2</td>\n      <td>4</td>\n      <td>1274</td>\n      <td>535.080</td>\n      <td>5631.080</td>\n      <td>Flagship store</td>\n      <td>268447.0</td>\n      <td>14-07-1970</td>\n      <td>M</td>\n      <td>NaN</td>\n    </tr>\n    <tr>\n      <th>121</th>\n      <td>NaN</td>\n      <td>NaN</td>\n      <td>NaN</td>\n      <td>NaN</td>\n      <td>85284647047</td>\n      <td>271924</td>\n      <td>14-02-2014</td>\n      <td>2</td>\n      <td>6</td>\n      <td>2</td>\n      <td>367</td>\n      <td>77.070</td>\n      <td>811.070</td>\n      <td>Flagship store</td>\n      <td>270130.0</td>\n      <td>26-07-1970</td>\n      <td>M</td>\n      <td>9.0</td>\n    </tr>\n    <tr>\n      <th>124</th>\n      <td>NaN</td>\n      <td>NaN</td>\n      <td>NaN</td>\n      <td>NaN</td>\n      <td>99503089534</td>\n      <td>274266</td>\n      <td>14-02-2014</td>\n      <td>8</td>\n      <td>3</td>\n      <td>1</td>\n      <td>1370</td>\n      <td>143.850</td>\n      <td>1513.850</td>\n      <td>Flagship store</td>\n      <td>267280.0</td>\n      <td>02-08-1970</td>\n      <td>M</td>\n      <td>5.0</td>\n    </tr>\n    <tr>\n      <th>132</th>\n      <td>NaN</td>\n      <td>NaN</td>\n      <td>NaN</td>\n      <td>NaN</td>\n      <td>6801834681</td>\n      <td>273174</td>\n      <td>13-02-2014</td>\n      <td>4</td>\n      <td>1</td>\n      <td>1</td>\n      <td>642</td>\n      <td>67.410</td>\n      <td>709.410</td>\n      <td>Flagship store</td>\n      <td>271750.0</td>\n      <td>23-08-1970</td>\n      <td>F</td>\n      <td>6.0</td>\n    </tr>\n    <tr>\n      <th>134</th>\n      <td>NaN</td>\n      <td>NaN</td>\n      <td>NaN</td>\n      <td>NaN</td>\n      <td>21685086436</td>\n      <td>274152</td>\n      <td>13-02-2014</td>\n      <td>2</td>\n      <td>6</td>\n      <td>3</td>\n      <td>765</td>\n      <td>240.975</td>\n      <td>2535.975</td>\n      <td>Flagship store</td>\n      <td>272501.0</td>\n      <td>26-08-1970</td>\n      <td>F</td>\n      <td>1.0</td>\n    </tr>\n    <tr>\n      <th>135</th>\n      <td>NaN</td>\n      <td>NaN</td>\n      <td>NaN</td>\n      <td>NaN</td>\n      <td>36041524849</td>\n      <td>274408</td>\n      <td>13-02-2014</td>\n      <td>3</td>\n      <td>5</td>\n      <td>3</td>\n      <td>771</td>\n      <td>242.865</td>\n      <td>2555.865</td>\n      <td>Flagship store</td>\n      <td>273587.0</td>\n      <td>29-08-1970</td>\n      <td>F</td>\n      <td>1.0</td>\n    </tr>\n    <tr>\n      <th>137</th>\n      <td>NaN</td>\n      <td>NaN</td>\n      <td>NaN</td>\n      <td>NaN</td>\n      <td>35353613089</td>\n      <td>270207</td>\n      <td>13-02-2014</td>\n      <td>4</td>\n      <td>1</td>\n      <td>3</td>\n      <td>126</td>\n      <td>39.690</td>\n      <td>417.690</td>\n      <td>Flagship store</td>\n      <td>275134.0</td>\n      <td>02-09-1970</td>\n      <td>F</td>\n      <td>8.0</td>\n    </tr>\n    <tr>\n      <th>154</th>\n      <td>NaN</td>\n      <td>NaN</td>\n      <td>NaN</td>\n      <td>NaN</td>\n      <td>74023090711</td>\n      <td>271180</td>\n      <td>12/2/2014</td>\n      <td>8</td>\n      <td>3</td>\n      <td>3</td>\n      <td>271</td>\n      <td>85.365</td>\n      <td>898.365</td>\n      <td>Flagship store</td>\n      <td>266959.0</td>\n      <td>13-09-1970</td>\n      <td>F</td>\n      <td>1.0</td>\n    </tr>\n    <tr>\n      <th>...</th>\n      <td>...</td>\n      <td>...</td>\n      <td>...</td>\n      <td>...</td>\n      <td>...</td>\n      <td>...</td>\n      <td>...</td>\n      <td>...</td>\n      <td>...</td>\n      <td>...</td>\n      <td>...</td>\n      <td>...</td>\n      <td>...</td>\n      <td>...</td>\n      <td>...</td>\n      <td>...</td>\n      <td>...</td>\n      <td>...</td>\n    </tr>\n    <tr>\n      <th>22921</th>\n      <td>NaN</td>\n      <td>NaN</td>\n      <td>NaN</td>\n      <td>NaN</td>\n      <td>16477108682</td>\n      <td>269993</td>\n      <td>31-01-2011</td>\n      <td>4</td>\n      <td>3</td>\n      <td>1</td>\n      <td>964</td>\n      <td>101.220</td>\n      <td>1065.220</td>\n      <td>Flagship store</td>\n      <td>NaN</td>\n      <td>NaN</td>\n      <td>NaN</td>\n      <td>NaN</td>\n    </tr>\n    <tr>\n      <th>22928</th>\n      <td>NaN</td>\n      <td>NaN</td>\n      <td>NaN</td>\n      <td>NaN</td>\n      <td>73790260340</td>\n      <td>272568</td>\n      <td>31-01-2011</td>\n      <td>5</td>\n      <td>3</td>\n      <td>3</td>\n      <td>1066</td>\n      <td>335.790</td>\n      <td>3533.790</td>\n      <td>Flagship store</td>\n      <td>NaN</td>\n      <td>NaN</td>\n      <td>NaN</td>\n      <td>NaN</td>\n    </tr>\n    <tr>\n      <th>22938</th>\n      <td>NaN</td>\n      <td>NaN</td>\n      <td>NaN</td>\n      <td>NaN</td>\n      <td>52810808323</td>\n      <td>272428</td>\n      <td>30-01-2011</td>\n      <td>3</td>\n      <td>5</td>\n      <td>3</td>\n      <td>1103</td>\n      <td>347.445</td>\n      <td>3656.445</td>\n      <td>Flagship store</td>\n      <td>NaN</td>\n      <td>NaN</td>\n      <td>NaN</td>\n      <td>NaN</td>\n    </tr>\n    <tr>\n      <th>22945</th>\n      <td>NaN</td>\n      <td>NaN</td>\n      <td>NaN</td>\n      <td>NaN</td>\n      <td>13018247154</td>\n      <td>271737</td>\n      <td>30-01-2011</td>\n      <td>4</td>\n      <td>1</td>\n      <td>2</td>\n      <td>509</td>\n      <td>106.890</td>\n      <td>1124.890</td>\n      <td>Flagship store</td>\n      <td>NaN</td>\n      <td>NaN</td>\n      <td>NaN</td>\n      <td>NaN</td>\n    </tr>\n    <tr>\n      <th>22946</th>\n      <td>NaN</td>\n      <td>NaN</td>\n      <td>NaN</td>\n      <td>NaN</td>\n      <td>18521019738</td>\n      <td>275090</td>\n      <td>30-01-2011</td>\n      <td>11</td>\n      <td>6</td>\n      <td>2</td>\n      <td>825</td>\n      <td>173.250</td>\n      <td>1823.250</td>\n      <td>Flagship store</td>\n      <td>NaN</td>\n      <td>NaN</td>\n      <td>NaN</td>\n      <td>NaN</td>\n    </tr>\n    <tr>\n      <th>22950</th>\n      <td>NaN</td>\n      <td>NaN</td>\n      <td>NaN</td>\n      <td>NaN</td>\n      <td>49271148755</td>\n      <td>270601</td>\n      <td>30-01-2011</td>\n      <td>4</td>\n      <td>4</td>\n      <td>2</td>\n      <td>1429</td>\n      <td>300.090</td>\n      <td>3158.090</td>\n      <td>Flagship store</td>\n      <td>NaN</td>\n      <td>NaN</td>\n      <td>NaN</td>\n      <td>NaN</td>\n    </tr>\n    <tr>\n      <th>22951</th>\n      <td>NaN</td>\n      <td>NaN</td>\n      <td>NaN</td>\n      <td>NaN</td>\n      <td>27639252145</td>\n      <td>273197</td>\n      <td>30-01-2011</td>\n      <td>12</td>\n      <td>6</td>\n      <td>2</td>\n      <td>594</td>\n      <td>124.740</td>\n      <td>1312.740</td>\n      <td>Flagship store</td>\n      <td>NaN</td>\n      <td>NaN</td>\n      <td>NaN</td>\n      <td>NaN</td>\n    </tr>\n    <tr>\n      <th>22959</th>\n      <td>NaN</td>\n      <td>NaN</td>\n      <td>NaN</td>\n      <td>NaN</td>\n      <td>91846419699</td>\n      <td>273709</td>\n      <td>30-01-2011</td>\n      <td>11</td>\n      <td>6</td>\n      <td>5</td>\n      <td>1284</td>\n      <td>674.100</td>\n      <td>7094.100</td>\n      <td>Flagship store</td>\n      <td>NaN</td>\n      <td>NaN</td>\n      <td>NaN</td>\n      <td>NaN</td>\n    </tr>\n    <tr>\n      <th>22961</th>\n      <td>NaN</td>\n      <td>NaN</td>\n      <td>NaN</td>\n      <td>NaN</td>\n      <td>47920908959</td>\n      <td>270803</td>\n      <td>29-01-2011</td>\n      <td>3</td>\n      <td>5</td>\n      <td>3</td>\n      <td>75</td>\n      <td>23.625</td>\n      <td>248.625</td>\n      <td>Flagship store</td>\n      <td>NaN</td>\n      <td>NaN</td>\n      <td>NaN</td>\n      <td>NaN</td>\n    </tr>\n    <tr>\n      <th>22965</th>\n      <td>NaN</td>\n      <td>NaN</td>\n      <td>NaN</td>\n      <td>NaN</td>\n      <td>18401438345</td>\n      <td>268389</td>\n      <td>29-01-2011</td>\n      <td>11</td>\n      <td>5</td>\n      <td>5</td>\n      <td>146</td>\n      <td>76.650</td>\n      <td>806.650</td>\n      <td>Flagship store</td>\n      <td>NaN</td>\n      <td>NaN</td>\n      <td>NaN</td>\n      <td>NaN</td>\n    </tr>\n    <tr>\n      <th>22968</th>\n      <td>NaN</td>\n      <td>NaN</td>\n      <td>NaN</td>\n      <td>NaN</td>\n      <td>59580133329</td>\n      <td>267260</td>\n      <td>29-01-2011</td>\n      <td>7</td>\n      <td>5</td>\n      <td>4</td>\n      <td>938</td>\n      <td>393.960</td>\n      <td>4145.960</td>\n      <td>Flagship store</td>\n      <td>NaN</td>\n      <td>NaN</td>\n      <td>NaN</td>\n      <td>NaN</td>\n    </tr>\n    <tr>\n      <th>22969</th>\n      <td>NaN</td>\n      <td>NaN</td>\n      <td>NaN</td>\n      <td>NaN</td>\n      <td>228335510</td>\n      <td>267860</td>\n      <td>29-01-2011</td>\n      <td>3</td>\n      <td>1</td>\n      <td>5</td>\n      <td>764</td>\n      <td>401.100</td>\n      <td>4221.100</td>\n      <td>Flagship store</td>\n      <td>NaN</td>\n      <td>NaN</td>\n      <td>NaN</td>\n      <td>NaN</td>\n    </tr>\n    <tr>\n      <th>22972</th>\n      <td>NaN</td>\n      <td>NaN</td>\n      <td>NaN</td>\n      <td>NaN</td>\n      <td>20417144530</td>\n      <td>269556</td>\n      <td>29-01-2011</td>\n      <td>10</td>\n      <td>6</td>\n      <td>3</td>\n      <td>654</td>\n      <td>206.010</td>\n      <td>2168.010</td>\n      <td>Flagship store</td>\n      <td>NaN</td>\n      <td>NaN</td>\n      <td>NaN</td>\n      <td>NaN</td>\n    </tr>\n    <tr>\n      <th>22975</th>\n      <td>NaN</td>\n      <td>NaN</td>\n      <td>NaN</td>\n      <td>NaN</td>\n      <td>58531412371</td>\n      <td>274935</td>\n      <td>29-01-2011</td>\n      <td>10</td>\n      <td>5</td>\n      <td>4</td>\n      <td>104</td>\n      <td>43.680</td>\n      <td>459.680</td>\n      <td>Flagship store</td>\n      <td>NaN</td>\n      <td>NaN</td>\n      <td>NaN</td>\n      <td>NaN</td>\n    </tr>\n    <tr>\n      <th>22980</th>\n      <td>NaN</td>\n      <td>NaN</td>\n      <td>NaN</td>\n      <td>NaN</td>\n      <td>6822313349</td>\n      <td>269897</td>\n      <td>28-01-2011</td>\n      <td>4</td>\n      <td>1</td>\n      <td>3</td>\n      <td>1305</td>\n      <td>411.075</td>\n      <td>4326.075</td>\n      <td>Flagship store</td>\n      <td>NaN</td>\n      <td>NaN</td>\n      <td>NaN</td>\n      <td>NaN</td>\n    </tr>\n    <tr>\n      <th>22983</th>\n      <td>NaN</td>\n      <td>NaN</td>\n      <td>NaN</td>\n      <td>NaN</td>\n      <td>28055582743</td>\n      <td>268368</td>\n      <td>28-01-2011</td>\n      <td>7</td>\n      <td>5</td>\n      <td>5</td>\n      <td>1036</td>\n      <td>543.900</td>\n      <td>5723.900</td>\n      <td>Flagship store</td>\n      <td>NaN</td>\n      <td>NaN</td>\n      <td>NaN</td>\n      <td>NaN</td>\n    </tr>\n    <tr>\n      <th>22984</th>\n      <td>NaN</td>\n      <td>NaN</td>\n      <td>NaN</td>\n      <td>NaN</td>\n      <td>49993147068</td>\n      <td>268722</td>\n      <td>28-01-2011</td>\n      <td>8</td>\n      <td>3</td>\n      <td>3</td>\n      <td>502</td>\n      <td>158.130</td>\n      <td>1664.130</td>\n      <td>Flagship store</td>\n      <td>NaN</td>\n      <td>NaN</td>\n      <td>NaN</td>\n      <td>NaN</td>\n    </tr>\n    <tr>\n      <th>22991</th>\n      <td>NaN</td>\n      <td>NaN</td>\n      <td>NaN</td>\n      <td>NaN</td>\n      <td>69708776426</td>\n      <td>271039</td>\n      <td>28-01-2011</td>\n      <td>5</td>\n      <td>3</td>\n      <td>5</td>\n      <td>464</td>\n      <td>243.600</td>\n      <td>2563.600</td>\n      <td>Flagship store</td>\n      <td>NaN</td>\n      <td>NaN</td>\n      <td>NaN</td>\n      <td>NaN</td>\n    </tr>\n    <tr>\n      <th>22992</th>\n      <td>NaN</td>\n      <td>NaN</td>\n      <td>NaN</td>\n      <td>NaN</td>\n      <td>9947647746</td>\n      <td>270802</td>\n      <td>27-01-2011</td>\n      <td>11</td>\n      <td>6</td>\n      <td>5</td>\n      <td>249</td>\n      <td>130.725</td>\n      <td>1375.725</td>\n      <td>Flagship store</td>\n      <td>NaN</td>\n      <td>NaN</td>\n      <td>NaN</td>\n      <td>NaN</td>\n    </tr>\n    <tr>\n      <th>22994</th>\n      <td>NaN</td>\n      <td>NaN</td>\n      <td>NaN</td>\n      <td>NaN</td>\n      <td>12114096357</td>\n      <td>270031</td>\n      <td>27-01-2011</td>\n      <td>7</td>\n      <td>5</td>\n      <td>3</td>\n      <td>285</td>\n      <td>89.775</td>\n      <td>944.775</td>\n      <td>Flagship store</td>\n      <td>NaN</td>\n      <td>NaN</td>\n      <td>NaN</td>\n      <td>NaN</td>\n    </tr>\n    <tr>\n      <th>22995</th>\n      <td>NaN</td>\n      <td>NaN</td>\n      <td>NaN</td>\n      <td>NaN</td>\n      <td>59007771125</td>\n      <td>269717</td>\n      <td>27-01-2011</td>\n      <td>11</td>\n      <td>6</td>\n      <td>1</td>\n      <td>926</td>\n      <td>97.230</td>\n      <td>1023.230</td>\n      <td>Flagship store</td>\n      <td>NaN</td>\n      <td>NaN</td>\n      <td>NaN</td>\n      <td>NaN</td>\n    </tr>\n    <tr>\n      <th>22996</th>\n      <td>NaN</td>\n      <td>NaN</td>\n      <td>NaN</td>\n      <td>NaN</td>\n      <td>29775154089</td>\n      <td>275030</td>\n      <td>27-01-2011</td>\n      <td>4</td>\n      <td>4</td>\n      <td>2</td>\n      <td>1485</td>\n      <td>311.850</td>\n      <td>3281.850</td>\n      <td>Flagship store</td>\n      <td>NaN</td>\n      <td>NaN</td>\n      <td>NaN</td>\n      <td>NaN</td>\n    </tr>\n    <tr>\n      <th>22998</th>\n      <td>NaN</td>\n      <td>NaN</td>\n      <td>NaN</td>\n      <td>NaN</td>\n      <td>36332303449</td>\n      <td>268624</td>\n      <td>27-01-2011</td>\n      <td>10</td>\n      <td>6</td>\n      <td>4</td>\n      <td>295</td>\n      <td>123.900</td>\n      <td>1303.900</td>\n      <td>Flagship store</td>\n      <td>NaN</td>\n      <td>NaN</td>\n      <td>NaN</td>\n      <td>NaN</td>\n    </tr>\n    <tr>\n      <th>23007</th>\n      <td>NaN</td>\n      <td>NaN</td>\n      <td>NaN</td>\n      <td>NaN</td>\n      <td>71176929896</td>\n      <td>269201</td>\n      <td>27-01-2011</td>\n      <td>8</td>\n      <td>3</td>\n      <td>-5</td>\n      <td>-295</td>\n      <td>154.875</td>\n      <td>-1629.875</td>\n      <td>Flagship store</td>\n      <td>NaN</td>\n      <td>NaN</td>\n      <td>NaN</td>\n      <td>NaN</td>\n    </tr>\n    <tr>\n      <th>23012</th>\n      <td>NaN</td>\n      <td>NaN</td>\n      <td>NaN</td>\n      <td>NaN</td>\n      <td>40669483382</td>\n      <td>273676</td>\n      <td>26-01-2011</td>\n      <td>3</td>\n      <td>2</td>\n      <td>1</td>\n      <td>1327</td>\n      <td>139.335</td>\n      <td>1466.335</td>\n      <td>Flagship store</td>\n      <td>NaN</td>\n      <td>NaN</td>\n      <td>NaN</td>\n      <td>NaN</td>\n    </tr>\n    <tr>\n      <th>23023</th>\n      <td>NaN</td>\n      <td>NaN</td>\n      <td>NaN</td>\n      <td>NaN</td>\n      <td>87697726895</td>\n      <td>267014</td>\n      <td>26-01-2011</td>\n      <td>4</td>\n      <td>4</td>\n      <td>1</td>\n      <td>963</td>\n      <td>101.115</td>\n      <td>1064.115</td>\n      <td>Flagship store</td>\n      <td>NaN</td>\n      <td>NaN</td>\n      <td>NaN</td>\n      <td>NaN</td>\n    </tr>\n    <tr>\n      <th>23027</th>\n      <td>NaN</td>\n      <td>NaN</td>\n      <td>NaN</td>\n      <td>NaN</td>\n      <td>71176929896</td>\n      <td>269201</td>\n      <td>26-01-2011</td>\n      <td>8</td>\n      <td>3</td>\n      <td>5</td>\n      <td>295</td>\n      <td>154.875</td>\n      <td>1629.875</td>\n      <td>Flagship store</td>\n      <td>NaN</td>\n      <td>NaN</td>\n      <td>NaN</td>\n      <td>NaN</td>\n    </tr>\n    <tr>\n      <th>23030</th>\n      <td>NaN</td>\n      <td>NaN</td>\n      <td>NaN</td>\n      <td>NaN</td>\n      <td>78766424618</td>\n      <td>267618</td>\n      <td>26-01-2011</td>\n      <td>11</td>\n      <td>6</td>\n      <td>3</td>\n      <td>1128</td>\n      <td>355.320</td>\n      <td>3739.320</td>\n      <td>Flagship store</td>\n      <td>NaN</td>\n      <td>NaN</td>\n      <td>NaN</td>\n      <td>NaN</td>\n    </tr>\n    <tr>\n      <th>23033</th>\n      <td>NaN</td>\n      <td>NaN</td>\n      <td>NaN</td>\n      <td>NaN</td>\n      <td>32887353269</td>\n      <td>268885</td>\n      <td>25-01-2011</td>\n      <td>3</td>\n      <td>1</td>\n      <td>1</td>\n      <td>276</td>\n      <td>28.980</td>\n      <td>304.980</td>\n      <td>Flagship store</td>\n      <td>NaN</td>\n      <td>NaN</td>\n      <td>NaN</td>\n      <td>NaN</td>\n    </tr>\n    <tr>\n      <th>23039</th>\n      <td>NaN</td>\n      <td>NaN</td>\n      <td>NaN</td>\n      <td>NaN</td>\n      <td>62511551321</td>\n      <td>270394</td>\n      <td>25-01-2011</td>\n      <td>3</td>\n      <td>2</td>\n      <td>5</td>\n      <td>631</td>\n      <td>331.275</td>\n      <td>3486.275</td>\n      <td>Flagship store</td>\n      <td>NaN</td>\n      <td>NaN</td>\n      <td>NaN</td>\n      <td>NaN</td>\n    </tr>\n  </tbody>\n</table>\n<p>4577 rows × 18 columns</p>\n</div>",
            "text/plain": "       prod_cat_code_x prod_cat  prod_sub_cat_code prod_subcat  \\\n17                 5.0    Books                3.0      Comics   \n29                 NaN      NaN                NaN         NaN   \n39                 NaN      NaN                NaN         NaN   \n41                 NaN      NaN                NaN         NaN   \n42                 NaN      NaN                NaN         NaN   \n46                 NaN      NaN                NaN         NaN   \n48                 NaN      NaN                NaN         NaN   \n49                 NaN      NaN                NaN         NaN   \n52                 NaN      NaN                NaN         NaN   \n53                 NaN      NaN                NaN         NaN   \n54                 NaN      NaN                NaN         NaN   \n59                 NaN      NaN                NaN         NaN   \n63                 NaN      NaN                NaN         NaN   \n65                 NaN      NaN                NaN         NaN   \n69                 NaN      NaN                NaN         NaN   \n74                 NaN      NaN                NaN         NaN   \n90                 NaN      NaN                NaN         NaN   \n94                 NaN      NaN                NaN         NaN   \n103                NaN      NaN                NaN         NaN   \n104                NaN      NaN                NaN         NaN   \n108                NaN      NaN                NaN         NaN   \n112                NaN      NaN                NaN         NaN   \n115                NaN      NaN                NaN         NaN   \n121                NaN      NaN                NaN         NaN   \n124                NaN      NaN                NaN         NaN   \n132                NaN      NaN                NaN         NaN   \n134                NaN      NaN                NaN         NaN   \n135                NaN      NaN                NaN         NaN   \n137                NaN      NaN                NaN         NaN   \n154                NaN      NaN                NaN         NaN   \n...                ...      ...                ...         ...   \n22921              NaN      NaN                NaN         NaN   \n22928              NaN      NaN                NaN         NaN   \n22938              NaN      NaN                NaN         NaN   \n22945              NaN      NaN                NaN         NaN   \n22946              NaN      NaN                NaN         NaN   \n22950              NaN      NaN                NaN         NaN   \n22951              NaN      NaN                NaN         NaN   \n22959              NaN      NaN                NaN         NaN   \n22961              NaN      NaN                NaN         NaN   \n22965              NaN      NaN                NaN         NaN   \n22968              NaN      NaN                NaN         NaN   \n22969              NaN      NaN                NaN         NaN   \n22972              NaN      NaN                NaN         NaN   \n22975              NaN      NaN                NaN         NaN   \n22980              NaN      NaN                NaN         NaN   \n22983              NaN      NaN                NaN         NaN   \n22984              NaN      NaN                NaN         NaN   \n22991              NaN      NaN                NaN         NaN   \n22992              NaN      NaN                NaN         NaN   \n22994              NaN      NaN                NaN         NaN   \n22995              NaN      NaN                NaN         NaN   \n22996              NaN      NaN                NaN         NaN   \n22998              NaN      NaN                NaN         NaN   \n23007              NaN      NaN                NaN         NaN   \n23012              NaN      NaN                NaN         NaN   \n23023              NaN      NaN                NaN         NaN   \n23027              NaN      NaN                NaN         NaN   \n23030              NaN      NaN                NaN         NaN   \n23033              NaN      NaN                NaN         NaN   \n23039              NaN      NaN                NaN         NaN   \n\n       transaction_id  cust_id   tran_date  prod_subcat_code  prod_cat_code_y  \\\n17        25963520987   274829  20-02-2014                 4                4   \n29        99581788104   267466  20-02-2014                 3                2   \n39        63407734630   271322  19-02-2014                 3                2   \n41        82750983847   267544  19-02-2014                 3                5   \n42        67328698675   268755  19-02-2014                 3                2   \n46        72427583709   268129  19-02-2014                 4                4   \n48         7313351894   267568  18-02-2014                 2                6   \n49        37745642681   267098  18-02-2014                 1                2   \n52        58886320392   268715  18-02-2014                10                6   \n53        53081075361   273250  18-02-2014                11                6   \n54        10017543415   267097  18-02-2014                 3                5   \n59        83313344780   271288  18-02-2014                 4                3   \n63        59232461135   269019  17-02-2014                 4                2   \n65        60560888204   271250  17-02-2014                10                6   \n69        40604748560   269387  17-02-2014                 6                5   \n74        86635642295   271763  17-02-2014                12                6   \n90        76990911956   270148  16-02-2014                 4                3   \n94        34544863855   269388  15-02-2014                11                6   \n103       10942311291   271297  15-02-2014                 3                1   \n104       63352996926   272145  15-02-2014                 5                3   \n108       82975337804   272529  15-02-2014                 4                4   \n112       57112244235   268076  14-02-2014                10                3   \n115        2934877504   271859  14-02-2014                 3                2   \n121       85284647047   271924  14-02-2014                 2                6   \n124       99503089534   274266  14-02-2014                 8                3   \n132        6801834681   273174  13-02-2014                 4                1   \n134       21685086436   274152  13-02-2014                 2                6   \n135       36041524849   274408  13-02-2014                 3                5   \n137       35353613089   270207  13-02-2014                 4                1   \n154       74023090711   271180   12/2/2014                 8                3   \n...               ...      ...         ...               ...              ...   \n22921     16477108682   269993  31-01-2011                 4                3   \n22928     73790260340   272568  31-01-2011                 5                3   \n22938     52810808323   272428  30-01-2011                 3                5   \n22945     13018247154   271737  30-01-2011                 4                1   \n22946     18521019738   275090  30-01-2011                11                6   \n22950     49271148755   270601  30-01-2011                 4                4   \n22951     27639252145   273197  30-01-2011                12                6   \n22959     91846419699   273709  30-01-2011                11                6   \n22961     47920908959   270803  29-01-2011                 3                5   \n22965     18401438345   268389  29-01-2011                11                5   \n22968     59580133329   267260  29-01-2011                 7                5   \n22969       228335510   267860  29-01-2011                 3                1   \n22972     20417144530   269556  29-01-2011                10                6   \n22975     58531412371   274935  29-01-2011                10                5   \n22980      6822313349   269897  28-01-2011                 4                1   \n22983     28055582743   268368  28-01-2011                 7                5   \n22984     49993147068   268722  28-01-2011                 8                3   \n22991     69708776426   271039  28-01-2011                 5                3   \n22992      9947647746   270802  27-01-2011                11                6   \n22994     12114096357   270031  27-01-2011                 7                5   \n22995     59007771125   269717  27-01-2011                11                6   \n22996     29775154089   275030  27-01-2011                 4                4   \n22998     36332303449   268624  27-01-2011                10                6   \n23007     71176929896   269201  27-01-2011                 8                3   \n23012     40669483382   273676  26-01-2011                 3                2   \n23023     87697726895   267014  26-01-2011                 4                4   \n23027     71176929896   269201  26-01-2011                 8                3   \n23030     78766424618   267618  26-01-2011                11                6   \n23033     32887353269   268885  25-01-2011                 3                1   \n23039     62511551321   270394  25-01-2011                 3                2   \n\n       Qty  Rate      Tax  total_amt      Store_type  customer_Id         DOB  \\\n17       3   502  158.130   1664.130  Flagship store     268275.0  01-02-1970   \n29       1    96   10.080    106.080  Flagship store     272359.0  19-02-1970   \n39       5  1360  714.000   7514.000  Flagship store     274592.0  08-03-1970   \n41       1   805   84.525    889.525  Flagship store     266895.0  12-03-1970   \n42       1  1018  106.890   1124.890  Flagship store     274360.0  14-03-1970   \n46       1   885   92.925    977.925  Flagship store     267379.0  21-03-1970   \n48       4   481  202.020   2126.020  Flagship store     273106.0  23-03-1970   \n49       1   109   11.445    120.445  Flagship store     271935.0  26-03-1970   \n52       2   768  161.280   1697.280  Flagship store     266969.0  28-03-1970   \n53       5  1345  706.125   7431.125  Flagship store     273871.0  29-03-1970   \n54       1   164   17.220    181.220  Flagship store     273811.0  29-03-1970   \n59       2    84   17.640    185.640  Flagship store     272071.0  06-04-1970   \n63       2   479  100.590   1058.590  Flagship store     272627.0  19-04-1970   \n65       2   707  148.470   1562.470  Flagship store     270450.0  24-04-1970   \n69       5   760  399.000   4199.000  Flagship store     268290.0  29-04-1970   \n74       5   562  295.050   3105.050  Flagship store     267529.0  09-05-1970   \n90       4   448  188.160   1980.160  Flagship store     274849.0  09-06-1970   \n94       2   922  193.620   2037.620  Flagship store     270047.0  10-06-1970   \n103      2   756  158.760   1670.760  Flagship store     273162.0  19-06-1970   \n104      4  1342  563.640   5931.640  Flagship store     268533.0  23-06-1970   \n108      4   869  364.980   3840.980  Flagship store     275116.0  29-06-1970   \n112      4   167   70.140    738.140  Flagship store     273708.0  09-07-1970   \n115      4  1274  535.080   5631.080  Flagship store     268447.0  14-07-1970   \n121      2   367   77.070    811.070  Flagship store     270130.0  26-07-1970   \n124      1  1370  143.850   1513.850  Flagship store     267280.0  02-08-1970   \n132      1   642   67.410    709.410  Flagship store     271750.0  23-08-1970   \n134      3   765  240.975   2535.975  Flagship store     272501.0  26-08-1970   \n135      3   771  242.865   2555.865  Flagship store     273587.0  29-08-1970   \n137      3   126   39.690    417.690  Flagship store     275134.0  02-09-1970   \n154      3   271   85.365    898.365  Flagship store     266959.0  13-09-1970   \n...    ...   ...      ...        ...             ...          ...         ...   \n22921    1   964  101.220   1065.220  Flagship store          NaN         NaN   \n22928    3  1066  335.790   3533.790  Flagship store          NaN         NaN   \n22938    3  1103  347.445   3656.445  Flagship store          NaN         NaN   \n22945    2   509  106.890   1124.890  Flagship store          NaN         NaN   \n22946    2   825  173.250   1823.250  Flagship store          NaN         NaN   \n22950    2  1429  300.090   3158.090  Flagship store          NaN         NaN   \n22951    2   594  124.740   1312.740  Flagship store          NaN         NaN   \n22959    5  1284  674.100   7094.100  Flagship store          NaN         NaN   \n22961    3    75   23.625    248.625  Flagship store          NaN         NaN   \n22965    5   146   76.650    806.650  Flagship store          NaN         NaN   \n22968    4   938  393.960   4145.960  Flagship store          NaN         NaN   \n22969    5   764  401.100   4221.100  Flagship store          NaN         NaN   \n22972    3   654  206.010   2168.010  Flagship store          NaN         NaN   \n22975    4   104   43.680    459.680  Flagship store          NaN         NaN   \n22980    3  1305  411.075   4326.075  Flagship store          NaN         NaN   \n22983    5  1036  543.900   5723.900  Flagship store          NaN         NaN   \n22984    3   502  158.130   1664.130  Flagship store          NaN         NaN   \n22991    5   464  243.600   2563.600  Flagship store          NaN         NaN   \n22992    5   249  130.725   1375.725  Flagship store          NaN         NaN   \n22994    3   285   89.775    944.775  Flagship store          NaN         NaN   \n22995    1   926   97.230   1023.230  Flagship store          NaN         NaN   \n22996    2  1485  311.850   3281.850  Flagship store          NaN         NaN   \n22998    4   295  123.900   1303.900  Flagship store          NaN         NaN   \n23007   -5  -295  154.875  -1629.875  Flagship store          NaN         NaN   \n23012    1  1327  139.335   1466.335  Flagship store          NaN         NaN   \n23023    1   963  101.115   1064.115  Flagship store          NaN         NaN   \n23027    5   295  154.875   1629.875  Flagship store          NaN         NaN   \n23030    3  1128  355.320   3739.320  Flagship store          NaN         NaN   \n23033    1   276   28.980    304.980  Flagship store          NaN         NaN   \n23039    5   631  331.275   3486.275  Flagship store          NaN         NaN   \n\n      Gender  city_code  \n17         F        7.0  \n29         M        4.0  \n39         M        5.0  \n41         M        4.0  \n42         M        5.0  \n46         F        2.0  \n48         F        2.0  \n49         M        5.0  \n52         M        2.0  \n53         M        7.0  \n54         M        8.0  \n59         F        6.0  \n63         F        3.0  \n65         F        3.0  \n69         M        7.0  \n74         M        4.0  \n90         M        4.0  \n94         M        1.0  \n103        M        8.0  \n104        F        6.0  \n108        M        5.0  \n112        F        7.0  \n115        M        NaN  \n121        M        9.0  \n124        M        5.0  \n132        F        6.0  \n134        F        1.0  \n135        F        1.0  \n137        F        8.0  \n154        F        1.0  \n...      ...        ...  \n22921    NaN        NaN  \n22928    NaN        NaN  \n22938    NaN        NaN  \n22945    NaN        NaN  \n22946    NaN        NaN  \n22950    NaN        NaN  \n22951    NaN        NaN  \n22959    NaN        NaN  \n22961    NaN        NaN  \n22965    NaN        NaN  \n22968    NaN        NaN  \n22969    NaN        NaN  \n22972    NaN        NaN  \n22975    NaN        NaN  \n22980    NaN        NaN  \n22983    NaN        NaN  \n22984    NaN        NaN  \n22991    NaN        NaN  \n22992    NaN        NaN  \n22994    NaN        NaN  \n22995    NaN        NaN  \n22996    NaN        NaN  \n22998    NaN        NaN  \n23007    NaN        NaN  \n23012    NaN        NaN  \n23023    NaN        NaN  \n23027    NaN        NaN  \n23030    NaN        NaN  \n23033    NaN        NaN  \n23039    NaN        NaN  \n\n[4577 rows x 18 columns]"
          },
          "metadata": {}
        }
      ]
    },
    {
      "metadata": {
        "trusted": true
      },
      "cell_type": "code",
      "source": "df9[(df9['prod_cat']=='clothing')]",
      "execution_count": 75,
      "outputs": [
        {
          "output_type": "execute_result",
          "execution_count": 75,
          "data": {
            "text/html": "<div>\n<style scoped>\n    .dataframe tbody tr th:only-of-type {\n        vertical-align: middle;\n    }\n\n    .dataframe tbody tr th {\n        vertical-align: top;\n    }\n\n    .dataframe thead th {\n        text-align: right;\n    }\n</style>\n<table border=\"1\" class=\"dataframe\">\n  <thead>\n    <tr style=\"text-align: right;\">\n      <th></th>\n      <th>prod_cat_code_x</th>\n      <th>prod_cat</th>\n      <th>prod_sub_cat_code</th>\n      <th>prod_subcat</th>\n      <th>transaction_id</th>\n      <th>cust_id</th>\n      <th>tran_date</th>\n      <th>prod_subcat_code</th>\n      <th>prod_cat_code_y</th>\n      <th>Qty</th>\n      <th>Rate</th>\n      <th>Tax</th>\n      <th>total_amt</th>\n      <th>Store_type</th>\n      <th>customer_Id</th>\n      <th>DOB</th>\n      <th>Gender</th>\n      <th>city_code</th>\n    </tr>\n  </thead>\n  <tbody>\n  </tbody>\n</table>\n</div>",
            "text/plain": "Empty DataFrame\nColumns: [prod_cat_code_x, prod_cat, prod_sub_cat_code, prod_subcat, transaction_id, cust_id, tran_date, prod_subcat_code, prod_cat_code_y, Qty, Rate, Tax, total_amt, Store_type, customer_Id, DOB, Gender, city_code]\nIndex: []"
          },
          "metadata": {}
        }
      ]
    },
    {
      "metadata": {
        "trusted": true
      },
      "cell_type": "code",
      "source": "pd.crosstab(index=df9['prod_cat'],columns='count')",
      "execution_count": 79,
      "outputs": [
        {
          "output_type": "execute_result",
          "execution_count": 79,
          "data": {
            "text/html": "<div>\n<style scoped>\n    .dataframe tbody tr th:only-of-type {\n        vertical-align: middle;\n    }\n\n    .dataframe tbody tr th {\n        vertical-align: top;\n    }\n\n    .dataframe thead th {\n        text-align: right;\n    }\n</style>\n<table border=\"1\" class=\"dataframe\">\n  <thead>\n    <tr style=\"text-align: right;\">\n      <th>col_0</th>\n      <th>count</th>\n    </tr>\n    <tr>\n      <th>prod_cat</th>\n      <th></th>\n    </tr>\n  </thead>\n  <tbody>\n    <tr>\n      <th>Books</th>\n      <td>1</td>\n    </tr>\n  </tbody>\n</table>\n</div>",
            "text/plain": "col_0     count\nprod_cat       \nBooks         1"
          },
          "metadata": {}
        }
      ]
    },
    {
      "metadata": {
        "trusted": true
      },
      "cell_type": "code",
      "source": "#in flagship stores there is no electronics and clothing category",
      "execution_count": 80,
      "outputs": []
    },
    {
      "metadata": {
        "trusted": true
      },
      "cell_type": "code",
      "source": "df1[(df1['Gender']=='M') & (df1['prod_cat']=='electronics')]\n## there is no sufficient data\n\n",
      "execution_count": 82,
      "outputs": [
        {
          "output_type": "execute_result",
          "execution_count": 82,
          "data": {
            "text/html": "<div>\n<style scoped>\n    .dataframe tbody tr th:only-of-type {\n        vertical-align: middle;\n    }\n\n    .dataframe tbody tr th {\n        vertical-align: top;\n    }\n\n    .dataframe thead th {\n        text-align: right;\n    }\n</style>\n<table border=\"1\" class=\"dataframe\">\n  <thead>\n    <tr style=\"text-align: right;\">\n      <th></th>\n      <th>prod_cat_code_x</th>\n      <th>prod_cat</th>\n      <th>prod_sub_cat_code</th>\n      <th>prod_subcat</th>\n      <th>transaction_id</th>\n      <th>cust_id</th>\n      <th>tran_date</th>\n      <th>prod_subcat_code</th>\n      <th>prod_cat_code_y</th>\n      <th>Qty</th>\n      <th>Rate</th>\n      <th>Tax</th>\n      <th>total_amt</th>\n      <th>Store_type</th>\n      <th>customer_Id</th>\n      <th>DOB</th>\n      <th>Gender</th>\n      <th>city_code</th>\n    </tr>\n  </thead>\n  <tbody>\n  </tbody>\n</table>\n</div>",
            "text/plain": "Empty DataFrame\nColumns: [prod_cat_code_x, prod_cat, prod_sub_cat_code, prod_subcat, transaction_id, cust_id, tran_date, prod_subcat_code, prod_cat_code_y, Qty, Rate, Tax, total_amt, Store_type, customer_Id, DOB, Gender, city_code]\nIndex: []"
          },
          "metadata": {}
        }
      ]
    },
    {
      "metadata": {
        "trusted": true
      },
      "cell_type": "code",
      "source": "f=pd.crosstab(index=df1['customer_Id'>0], columns='count')",
      "execution_count": 90,
      "outputs": [
        {
          "output_type": "error",
          "ename": "TypeError",
          "evalue": "'>' not supported between instances of 'str' and 'int'",
          "traceback": [
            "\u001b[0;31m---------------------------------------------------------------------------\u001b[0m",
            "\u001b[0;31mTypeError\u001b[0m                                 Traceback (most recent call last)",
            "\u001b[0;32m<ipython-input-90-19b4db43d9df>\u001b[0m in \u001b[0;36m<module>\u001b[0;34m\u001b[0m\n\u001b[0;32m----> 1\u001b[0;31m \u001b[0mf\u001b[0m\u001b[0;34m=\u001b[0m\u001b[0mpd\u001b[0m\u001b[0;34m.\u001b[0m\u001b[0mcrosstab\u001b[0m\u001b[0;34m(\u001b[0m\u001b[0mindex\u001b[0m\u001b[0;34m=\u001b[0m\u001b[0mdf1\u001b[0m\u001b[0;34m[\u001b[0m\u001b[0;34m'customer_Id'\u001b[0m\u001b[0;34m>\u001b[0m\u001b[0;36m0\u001b[0m\u001b[0;34m]\u001b[0m\u001b[0;34m,\u001b[0m \u001b[0mcolumns\u001b[0m\u001b[0;34m=\u001b[0m\u001b[0;34m'count'\u001b[0m\u001b[0;34m)\u001b[0m\u001b[0;34m\u001b[0m\u001b[0m\n\u001b[0m",
            "\u001b[0;31mTypeError\u001b[0m: '>' not supported between instances of 'str' and 'int'"
          ]
        }
      ]
    },
    {
      "metadata": {
        "trusted": true,
        "scrolled": true
      },
      "cell_type": "code",
      "source": "f",
      "execution_count": 91,
      "outputs": [
        {
          "output_type": "execute_result",
          "execution_count": 91,
          "data": {
            "text/html": "<div>\n<style scoped>\n    .dataframe tbody tr th:only-of-type {\n        vertical-align: middle;\n    }\n\n    .dataframe tbody tr th {\n        vertical-align: top;\n    }\n\n    .dataframe thead th {\n        text-align: right;\n    }\n</style>\n<table border=\"1\" class=\"dataframe\">\n  <thead>\n    <tr style=\"text-align: right;\">\n      <th>col_0</th>\n      <th>count</th>\n    </tr>\n    <tr>\n      <th>customer_Id</th>\n      <th></th>\n    </tr>\n  </thead>\n  <tbody>\n    <tr>\n      <th>266783.0</th>\n      <td>1</td>\n    </tr>\n    <tr>\n      <th>266784.0</th>\n      <td>1</td>\n    </tr>\n    <tr>\n      <th>266785.0</th>\n      <td>1</td>\n    </tr>\n    <tr>\n      <th>266788.0</th>\n      <td>1</td>\n    </tr>\n    <tr>\n      <th>266794.0</th>\n      <td>1</td>\n    </tr>\n    <tr>\n      <th>266799.0</th>\n      <td>1</td>\n    </tr>\n    <tr>\n      <th>266803.0</th>\n      <td>1</td>\n    </tr>\n    <tr>\n      <th>266804.0</th>\n      <td>1</td>\n    </tr>\n    <tr>\n      <th>266805.0</th>\n      <td>1</td>\n    </tr>\n    <tr>\n      <th>266806.0</th>\n      <td>1</td>\n    </tr>\n    <tr>\n      <th>266807.0</th>\n      <td>1</td>\n    </tr>\n    <tr>\n      <th>266809.0</th>\n      <td>1</td>\n    </tr>\n    <tr>\n      <th>266810.0</th>\n      <td>1</td>\n    </tr>\n    <tr>\n      <th>266812.0</th>\n      <td>1</td>\n    </tr>\n    <tr>\n      <th>266813.0</th>\n      <td>1</td>\n    </tr>\n    <tr>\n      <th>266814.0</th>\n      <td>1</td>\n    </tr>\n    <tr>\n      <th>266815.0</th>\n      <td>1</td>\n    </tr>\n    <tr>\n      <th>266816.0</th>\n      <td>1</td>\n    </tr>\n    <tr>\n      <th>266817.0</th>\n      <td>1</td>\n    </tr>\n    <tr>\n      <th>266818.0</th>\n      <td>1</td>\n    </tr>\n    <tr>\n      <th>266819.0</th>\n      <td>1</td>\n    </tr>\n    <tr>\n      <th>266820.0</th>\n      <td>1</td>\n    </tr>\n    <tr>\n      <th>266821.0</th>\n      <td>1</td>\n    </tr>\n    <tr>\n      <th>266822.0</th>\n      <td>1</td>\n    </tr>\n    <tr>\n      <th>266823.0</th>\n      <td>1</td>\n    </tr>\n    <tr>\n      <th>266824.0</th>\n      <td>1</td>\n    </tr>\n    <tr>\n      <th>266825.0</th>\n      <td>1</td>\n    </tr>\n    <tr>\n      <th>266827.0</th>\n      <td>1</td>\n    </tr>\n    <tr>\n      <th>266829.0</th>\n      <td>1</td>\n    </tr>\n    <tr>\n      <th>266830.0</th>\n      <td>1</td>\n    </tr>\n    <tr>\n      <th>...</th>\n      <td>...</td>\n    </tr>\n    <tr>\n      <th>275224.0</th>\n      <td>1</td>\n    </tr>\n    <tr>\n      <th>275225.0</th>\n      <td>1</td>\n    </tr>\n    <tr>\n      <th>275226.0</th>\n      <td>1</td>\n    </tr>\n    <tr>\n      <th>275227.0</th>\n      <td>1</td>\n    </tr>\n    <tr>\n      <th>275228.0</th>\n      <td>1</td>\n    </tr>\n    <tr>\n      <th>275229.0</th>\n      <td>1</td>\n    </tr>\n    <tr>\n      <th>275230.0</th>\n      <td>1</td>\n    </tr>\n    <tr>\n      <th>275231.0</th>\n      <td>1</td>\n    </tr>\n    <tr>\n      <th>275232.0</th>\n      <td>1</td>\n    </tr>\n    <tr>\n      <th>275233.0</th>\n      <td>1</td>\n    </tr>\n    <tr>\n      <th>275236.0</th>\n      <td>1</td>\n    </tr>\n    <tr>\n      <th>275237.0</th>\n      <td>1</td>\n    </tr>\n    <tr>\n      <th>275240.0</th>\n      <td>1</td>\n    </tr>\n    <tr>\n      <th>275241.0</th>\n      <td>1</td>\n    </tr>\n    <tr>\n      <th>275242.0</th>\n      <td>1</td>\n    </tr>\n    <tr>\n      <th>275243.0</th>\n      <td>1</td>\n    </tr>\n    <tr>\n      <th>275244.0</th>\n      <td>1</td>\n    </tr>\n    <tr>\n      <th>275245.0</th>\n      <td>1</td>\n    </tr>\n    <tr>\n      <th>275246.0</th>\n      <td>1</td>\n    </tr>\n    <tr>\n      <th>275247.0</th>\n      <td>1</td>\n    </tr>\n    <tr>\n      <th>275249.0</th>\n      <td>1</td>\n    </tr>\n    <tr>\n      <th>275250.0</th>\n      <td>1</td>\n    </tr>\n    <tr>\n      <th>275251.0</th>\n      <td>1</td>\n    </tr>\n    <tr>\n      <th>275252.0</th>\n      <td>1</td>\n    </tr>\n    <tr>\n      <th>275255.0</th>\n      <td>1</td>\n    </tr>\n    <tr>\n      <th>275257.0</th>\n      <td>1</td>\n    </tr>\n    <tr>\n      <th>275261.0</th>\n      <td>1</td>\n    </tr>\n    <tr>\n      <th>275262.0</th>\n      <td>1</td>\n    </tr>\n    <tr>\n      <th>275264.0</th>\n      <td>1</td>\n    </tr>\n    <tr>\n      <th>275265.0</th>\n      <td>1</td>\n    </tr>\n  </tbody>\n</table>\n<p>5647 rows × 1 columns</p>\n</div>",
            "text/plain": "col_0        count\ncustomer_Id       \n266783.0         1\n266784.0         1\n266785.0         1\n266788.0         1\n266794.0         1\n266799.0         1\n266803.0         1\n266804.0         1\n266805.0         1\n266806.0         1\n266807.0         1\n266809.0         1\n266810.0         1\n266812.0         1\n266813.0         1\n266814.0         1\n266815.0         1\n266816.0         1\n266817.0         1\n266818.0         1\n266819.0         1\n266820.0         1\n266821.0         1\n266822.0         1\n266823.0         1\n266824.0         1\n266825.0         1\n266827.0         1\n266829.0         1\n266830.0         1\n...            ...\n275224.0         1\n275225.0         1\n275226.0         1\n275227.0         1\n275228.0         1\n275229.0         1\n275230.0         1\n275231.0         1\n275232.0         1\n275233.0         1\n275236.0         1\n275237.0         1\n275240.0         1\n275241.0         1\n275242.0         1\n275243.0         1\n275244.0         1\n275245.0         1\n275246.0         1\n275247.0         1\n275249.0         1\n275250.0         1\n275251.0         1\n275252.0         1\n275255.0         1\n275257.0         1\n275261.0         1\n275262.0         1\n275264.0         1\n275265.0         1\n\n[5647 rows x 1 columns]"
          },
          "metadata": {}
        }
      ]
    },
    {
      "metadata": {
        "trusted": true
      },
      "cell_type": "code",
      "source": "#df7=df1.groupby(['Store_type',[i>0 for i in df1.Qty]]).size()\nz=df1.groupby(['cust_id',[i>0 for i in df1.total_amt]]).size()",
      "execution_count": 105,
      "outputs": []
    },
    {
      "metadata": {
        "trusted": true
      },
      "cell_type": "code",
      "source": "z.sum()\n# transaction amount not in negative",
      "execution_count": 107,
      "outputs": [
        {
          "output_type": "execute_result",
          "execution_count": 107,
          "data": {
            "text/plain": "23053"
          },
          "metadata": {}
        }
      ]
    },
    {
      "metadata": {
        "trusted": true
      },
      "cell_type": "code",
      "source": "p=[i>25 for i in df1['Age']]",
      "execution_count": 110,
      "outputs": [
        {
          "output_type": "error",
          "ename": "KeyError",
          "evalue": "'Age'",
          "traceback": [
            "\u001b[0;31m---------------------------------------------------------------------------\u001b[0m",
            "\u001b[0;31mKeyError\u001b[0m                                  Traceback (most recent call last)",
            "\u001b[0;32m~/anaconda3_501/lib/python3.6/site-packages/pandas/core/indexes/base.py\u001b[0m in \u001b[0;36mget_loc\u001b[0;34m(self, key, method, tolerance)\u001b[0m\n\u001b[1;32m   3077\u001b[0m             \u001b[0;32mtry\u001b[0m\u001b[0;34m:\u001b[0m\u001b[0;34m\u001b[0m\u001b[0m\n\u001b[0;32m-> 3078\u001b[0;31m                 \u001b[0;32mreturn\u001b[0m \u001b[0mself\u001b[0m\u001b[0;34m.\u001b[0m\u001b[0m_engine\u001b[0m\u001b[0;34m.\u001b[0m\u001b[0mget_loc\u001b[0m\u001b[0;34m(\u001b[0m\u001b[0mkey\u001b[0m\u001b[0;34m)\u001b[0m\u001b[0;34m\u001b[0m\u001b[0m\n\u001b[0m\u001b[1;32m   3079\u001b[0m             \u001b[0;32mexcept\u001b[0m \u001b[0mKeyError\u001b[0m\u001b[0;34m:\u001b[0m\u001b[0;34m\u001b[0m\u001b[0m\n",
            "\u001b[0;32mpandas/_libs/index.pyx\u001b[0m in \u001b[0;36mpandas._libs.index.IndexEngine.get_loc\u001b[0;34m()\u001b[0m\n",
            "\u001b[0;32mpandas/_libs/index.pyx\u001b[0m in \u001b[0;36mpandas._libs.index.IndexEngine.get_loc\u001b[0;34m()\u001b[0m\n",
            "\u001b[0;32mpandas/_libs/hashtable_class_helper.pxi\u001b[0m in \u001b[0;36mpandas._libs.hashtable.PyObjectHashTable.get_item\u001b[0;34m()\u001b[0m\n",
            "\u001b[0;32mpandas/_libs/hashtable_class_helper.pxi\u001b[0m in \u001b[0;36mpandas._libs.hashtable.PyObjectHashTable.get_item\u001b[0;34m()\u001b[0m\n",
            "\u001b[0;31mKeyError\u001b[0m: 'Age'",
            "\nDuring handling of the above exception, another exception occurred:\n",
            "\u001b[0;31mKeyError\u001b[0m                                  Traceback (most recent call last)",
            "\u001b[0;32m<ipython-input-110-5af949096998>\u001b[0m in \u001b[0;36m<module>\u001b[0;34m\u001b[0m\n\u001b[0;32m----> 1\u001b[0;31m \u001b[0mp\u001b[0m\u001b[0;34m=\u001b[0m\u001b[0;34m[\u001b[0m\u001b[0mi\u001b[0m\u001b[0;34m>\u001b[0m\u001b[0;36m25\u001b[0m \u001b[0;32mfor\u001b[0m \u001b[0mi\u001b[0m \u001b[0;32min\u001b[0m \u001b[0mdf1\u001b[0m\u001b[0;34m[\u001b[0m\u001b[0;34m'Age'\u001b[0m\u001b[0;34m]\u001b[0m\u001b[0;34m]\u001b[0m\u001b[0;34m\u001b[0m\u001b[0m\n\u001b[0m",
            "\u001b[0;32m~/anaconda3_501/lib/python3.6/site-packages/pandas/core/frame.py\u001b[0m in \u001b[0;36m__getitem__\u001b[0;34m(self, key)\u001b[0m\n\u001b[1;32m   2686\u001b[0m             \u001b[0;32mreturn\u001b[0m \u001b[0mself\u001b[0m\u001b[0;34m.\u001b[0m\u001b[0m_getitem_multilevel\u001b[0m\u001b[0;34m(\u001b[0m\u001b[0mkey\u001b[0m\u001b[0;34m)\u001b[0m\u001b[0;34m\u001b[0m\u001b[0m\n\u001b[1;32m   2687\u001b[0m         \u001b[0;32melse\u001b[0m\u001b[0;34m:\u001b[0m\u001b[0;34m\u001b[0m\u001b[0m\n\u001b[0;32m-> 2688\u001b[0;31m             \u001b[0;32mreturn\u001b[0m \u001b[0mself\u001b[0m\u001b[0;34m.\u001b[0m\u001b[0m_getitem_column\u001b[0m\u001b[0;34m(\u001b[0m\u001b[0mkey\u001b[0m\u001b[0;34m)\u001b[0m\u001b[0;34m\u001b[0m\u001b[0m\n\u001b[0m\u001b[1;32m   2689\u001b[0m \u001b[0;34m\u001b[0m\u001b[0m\n\u001b[1;32m   2690\u001b[0m     \u001b[0;32mdef\u001b[0m \u001b[0m_getitem_column\u001b[0m\u001b[0;34m(\u001b[0m\u001b[0mself\u001b[0m\u001b[0;34m,\u001b[0m \u001b[0mkey\u001b[0m\u001b[0;34m)\u001b[0m\u001b[0;34m:\u001b[0m\u001b[0;34m\u001b[0m\u001b[0m\n",
            "\u001b[0;32m~/anaconda3_501/lib/python3.6/site-packages/pandas/core/frame.py\u001b[0m in \u001b[0;36m_getitem_column\u001b[0;34m(self, key)\u001b[0m\n\u001b[1;32m   2693\u001b[0m         \u001b[0;31m# get column\u001b[0m\u001b[0;34m\u001b[0m\u001b[0;34m\u001b[0m\u001b[0m\n\u001b[1;32m   2694\u001b[0m         \u001b[0;32mif\u001b[0m \u001b[0mself\u001b[0m\u001b[0;34m.\u001b[0m\u001b[0mcolumns\u001b[0m\u001b[0;34m.\u001b[0m\u001b[0mis_unique\u001b[0m\u001b[0;34m:\u001b[0m\u001b[0;34m\u001b[0m\u001b[0m\n\u001b[0;32m-> 2695\u001b[0;31m             \u001b[0;32mreturn\u001b[0m \u001b[0mself\u001b[0m\u001b[0;34m.\u001b[0m\u001b[0m_get_item_cache\u001b[0m\u001b[0;34m(\u001b[0m\u001b[0mkey\u001b[0m\u001b[0;34m)\u001b[0m\u001b[0;34m\u001b[0m\u001b[0m\n\u001b[0m\u001b[1;32m   2696\u001b[0m \u001b[0;34m\u001b[0m\u001b[0m\n\u001b[1;32m   2697\u001b[0m         \u001b[0;31m# duplicate columns & possible reduce dimensionality\u001b[0m\u001b[0;34m\u001b[0m\u001b[0;34m\u001b[0m\u001b[0m\n",
            "\u001b[0;32m~/anaconda3_501/lib/python3.6/site-packages/pandas/core/generic.py\u001b[0m in \u001b[0;36m_get_item_cache\u001b[0;34m(self, item)\u001b[0m\n\u001b[1;32m   2487\u001b[0m         \u001b[0mres\u001b[0m \u001b[0;34m=\u001b[0m \u001b[0mcache\u001b[0m\u001b[0;34m.\u001b[0m\u001b[0mget\u001b[0m\u001b[0;34m(\u001b[0m\u001b[0mitem\u001b[0m\u001b[0;34m)\u001b[0m\u001b[0;34m\u001b[0m\u001b[0m\n\u001b[1;32m   2488\u001b[0m         \u001b[0;32mif\u001b[0m \u001b[0mres\u001b[0m \u001b[0;32mis\u001b[0m \u001b[0;32mNone\u001b[0m\u001b[0;34m:\u001b[0m\u001b[0;34m\u001b[0m\u001b[0m\n\u001b[0;32m-> 2489\u001b[0;31m             \u001b[0mvalues\u001b[0m \u001b[0;34m=\u001b[0m \u001b[0mself\u001b[0m\u001b[0;34m.\u001b[0m\u001b[0m_data\u001b[0m\u001b[0;34m.\u001b[0m\u001b[0mget\u001b[0m\u001b[0;34m(\u001b[0m\u001b[0mitem\u001b[0m\u001b[0;34m)\u001b[0m\u001b[0;34m\u001b[0m\u001b[0m\n\u001b[0m\u001b[1;32m   2490\u001b[0m             \u001b[0mres\u001b[0m \u001b[0;34m=\u001b[0m \u001b[0mself\u001b[0m\u001b[0;34m.\u001b[0m\u001b[0m_box_item_values\u001b[0m\u001b[0;34m(\u001b[0m\u001b[0mitem\u001b[0m\u001b[0;34m,\u001b[0m \u001b[0mvalues\u001b[0m\u001b[0;34m)\u001b[0m\u001b[0;34m\u001b[0m\u001b[0m\n\u001b[1;32m   2491\u001b[0m             \u001b[0mcache\u001b[0m\u001b[0;34m[\u001b[0m\u001b[0mitem\u001b[0m\u001b[0;34m]\u001b[0m \u001b[0;34m=\u001b[0m \u001b[0mres\u001b[0m\u001b[0;34m\u001b[0m\u001b[0m\n",
            "\u001b[0;32m~/anaconda3_501/lib/python3.6/site-packages/pandas/core/internals.py\u001b[0m in \u001b[0;36mget\u001b[0;34m(self, item, fastpath)\u001b[0m\n\u001b[1;32m   4113\u001b[0m \u001b[0;34m\u001b[0m\u001b[0m\n\u001b[1;32m   4114\u001b[0m             \u001b[0;32mif\u001b[0m \u001b[0;32mnot\u001b[0m \u001b[0misna\u001b[0m\u001b[0;34m(\u001b[0m\u001b[0mitem\u001b[0m\u001b[0;34m)\u001b[0m\u001b[0;34m:\u001b[0m\u001b[0;34m\u001b[0m\u001b[0m\n\u001b[0;32m-> 4115\u001b[0;31m                 \u001b[0mloc\u001b[0m \u001b[0;34m=\u001b[0m \u001b[0mself\u001b[0m\u001b[0;34m.\u001b[0m\u001b[0mitems\u001b[0m\u001b[0;34m.\u001b[0m\u001b[0mget_loc\u001b[0m\u001b[0;34m(\u001b[0m\u001b[0mitem\u001b[0m\u001b[0;34m)\u001b[0m\u001b[0;34m\u001b[0m\u001b[0m\n\u001b[0m\u001b[1;32m   4116\u001b[0m             \u001b[0;32melse\u001b[0m\u001b[0;34m:\u001b[0m\u001b[0;34m\u001b[0m\u001b[0m\n\u001b[1;32m   4117\u001b[0m                 \u001b[0mindexer\u001b[0m \u001b[0;34m=\u001b[0m \u001b[0mnp\u001b[0m\u001b[0;34m.\u001b[0m\u001b[0marange\u001b[0m\u001b[0;34m(\u001b[0m\u001b[0mlen\u001b[0m\u001b[0;34m(\u001b[0m\u001b[0mself\u001b[0m\u001b[0;34m.\u001b[0m\u001b[0mitems\u001b[0m\u001b[0;34m)\u001b[0m\u001b[0;34m)\u001b[0m\u001b[0;34m[\u001b[0m\u001b[0misna\u001b[0m\u001b[0;34m(\u001b[0m\u001b[0mself\u001b[0m\u001b[0;34m.\u001b[0m\u001b[0mitems\u001b[0m\u001b[0;34m)\u001b[0m\u001b[0;34m]\u001b[0m\u001b[0;34m\u001b[0m\u001b[0m\n",
            "\u001b[0;32m~/anaconda3_501/lib/python3.6/site-packages/pandas/core/indexes/base.py\u001b[0m in \u001b[0;36mget_loc\u001b[0;34m(self, key, method, tolerance)\u001b[0m\n\u001b[1;32m   3078\u001b[0m                 \u001b[0;32mreturn\u001b[0m \u001b[0mself\u001b[0m\u001b[0;34m.\u001b[0m\u001b[0m_engine\u001b[0m\u001b[0;34m.\u001b[0m\u001b[0mget_loc\u001b[0m\u001b[0;34m(\u001b[0m\u001b[0mkey\u001b[0m\u001b[0;34m)\u001b[0m\u001b[0;34m\u001b[0m\u001b[0m\n\u001b[1;32m   3079\u001b[0m             \u001b[0;32mexcept\u001b[0m \u001b[0mKeyError\u001b[0m\u001b[0;34m:\u001b[0m\u001b[0;34m\u001b[0m\u001b[0m\n\u001b[0;32m-> 3080\u001b[0;31m                 \u001b[0;32mreturn\u001b[0m \u001b[0mself\u001b[0m\u001b[0;34m.\u001b[0m\u001b[0m_engine\u001b[0m\u001b[0;34m.\u001b[0m\u001b[0mget_loc\u001b[0m\u001b[0;34m(\u001b[0m\u001b[0mself\u001b[0m\u001b[0;34m.\u001b[0m\u001b[0m_maybe_cast_indexer\u001b[0m\u001b[0;34m(\u001b[0m\u001b[0mkey\u001b[0m\u001b[0;34m)\u001b[0m\u001b[0;34m)\u001b[0m\u001b[0;34m\u001b[0m\u001b[0m\n\u001b[0m\u001b[1;32m   3081\u001b[0m \u001b[0;34m\u001b[0m\u001b[0m\n\u001b[1;32m   3082\u001b[0m         \u001b[0mindexer\u001b[0m \u001b[0;34m=\u001b[0m \u001b[0mself\u001b[0m\u001b[0;34m.\u001b[0m\u001b[0mget_indexer\u001b[0m\u001b[0;34m(\u001b[0m\u001b[0;34m[\u001b[0m\u001b[0mkey\u001b[0m\u001b[0;34m]\u001b[0m\u001b[0;34m,\u001b[0m \u001b[0mmethod\u001b[0m\u001b[0;34m=\u001b[0m\u001b[0mmethod\u001b[0m\u001b[0;34m,\u001b[0m \u001b[0mtolerance\u001b[0m\u001b[0;34m=\u001b[0m\u001b[0mtolerance\u001b[0m\u001b[0;34m)\u001b[0m\u001b[0;34m\u001b[0m\u001b[0m\n",
            "\u001b[0;32mpandas/_libs/index.pyx\u001b[0m in \u001b[0;36mpandas._libs.index.IndexEngine.get_loc\u001b[0;34m()\u001b[0m\n",
            "\u001b[0;32mpandas/_libs/index.pyx\u001b[0m in \u001b[0;36mpandas._libs.index.IndexEngine.get_loc\u001b[0;34m()\u001b[0m\n",
            "\u001b[0;32mpandas/_libs/hashtable_class_helper.pxi\u001b[0m in \u001b[0;36mpandas._libs.hashtable.PyObjectHashTable.get_item\u001b[0;34m()\u001b[0m\n",
            "\u001b[0;32mpandas/_libs/hashtable_class_helper.pxi\u001b[0m in \u001b[0;36mpandas._libs.hashtable.PyObjectHashTable.get_item\u001b[0;34m()\u001b[0m\n",
            "\u001b[0;31mKeyError\u001b[0m: 'Age'"
          ]
        }
      ]
    },
    {
      "metadata": {
        "trusted": true
      },
      "cell_type": "code",
      "source": "#now = datetime.now()\n#df1['age'] = now - df1['dob']\n\nnow=DT.now()\ndf55['age']=now-df1['DOB']",
      "execution_count": 113,
      "outputs": [
        {
          "output_type": "error",
          "ename": "AttributeError",
          "evalue": "module 'datetime' has no attribute 'now'",
          "traceback": [
            "\u001b[0;31m---------------------------------------------------------------------------\u001b[0m",
            "\u001b[0;31mAttributeError\u001b[0m                            Traceback (most recent call last)",
            "\u001b[0;32m<ipython-input-113-7f23a1666b30>\u001b[0m in \u001b[0;36m<module>\u001b[0;34m\u001b[0m\n\u001b[1;32m      2\u001b[0m \u001b[0;31m#df1['age'] = now - df1['dob']\u001b[0m\u001b[0;34m\u001b[0m\u001b[0;34m\u001b[0m\u001b[0m\n\u001b[1;32m      3\u001b[0m \u001b[0;34m\u001b[0m\u001b[0m\n\u001b[0;32m----> 4\u001b[0;31m \u001b[0mnow\u001b[0m\u001b[0;34m=\u001b[0m\u001b[0mDT\u001b[0m\u001b[0;34m.\u001b[0m\u001b[0mnow\u001b[0m\u001b[0;34m(\u001b[0m\u001b[0;34m)\u001b[0m\u001b[0;34m\u001b[0m\u001b[0m\n\u001b[0m\u001b[1;32m      5\u001b[0m \u001b[0mdf55\u001b[0m\u001b[0;34m[\u001b[0m\u001b[0;34m'age'\u001b[0m\u001b[0;34m]\u001b[0m\u001b[0;34m=\u001b[0m\u001b[0mnow\u001b[0m\u001b[0;34m-\u001b[0m\u001b[0mdf1\u001b[0m\u001b[0;34m[\u001b[0m\u001b[0;34m'DOB'\u001b[0m\u001b[0;34m]\u001b[0m\u001b[0;34m\u001b[0m\u001b[0m\n",
            "\u001b[0;31mAttributeError\u001b[0m: module 'datetime' has no attribute 'now'"
          ]
        }
      ]
    },
    {
      "metadata": {
        "trusted": true
      },
      "cell_type": "code",
      "source": "df09=df1.sort_values('DOB')\n",
      "execution_count": 130,
      "outputs": []
    },
    {
      "metadata": {
        "trusted": true
      },
      "cell_type": "code",
      "source": "s",
      "execution_count": 131,
      "outputs": [
        {
          "output_type": "execute_result",
          "execution_count": 131,
          "data": {
            "text/html": "<div>\n<style scoped>\n    .dataframe tbody tr th:only-of-type {\n        vertical-align: middle;\n    }\n\n    .dataframe tbody tr th {\n        vertical-align: top;\n    }\n\n    .dataframe thead th {\n        text-align: right;\n    }\n</style>\n<table border=\"1\" class=\"dataframe\">\n  <thead>\n    <tr style=\"text-align: right;\">\n      <th></th>\n      <th>prod_cat_code_x</th>\n      <th>prod_cat</th>\n      <th>prod_sub_cat_code</th>\n      <th>prod_subcat</th>\n      <th>transaction_id</th>\n      <th>cust_id</th>\n      <th>tran_date</th>\n      <th>prod_subcat_code</th>\n      <th>prod_cat_code_y</th>\n      <th>Qty</th>\n      <th>Rate</th>\n      <th>Tax</th>\n      <th>total_amt</th>\n      <th>Store_type</th>\n      <th>customer_Id</th>\n      <th>DOB</th>\n      <th>Gender</th>\n      <th>city_code</th>\n    </tr>\n  </thead>\n  <tbody>\n    <tr>\n      <th>475</th>\n      <td>NaN</td>\n      <td>NaN</td>\n      <td>NaN</td>\n      <td>NaN</td>\n      <td>22618767602</td>\n      <td>272534</td>\n      <td>27-01-2014</td>\n      <td>4</td>\n      <td>4</td>\n      <td>3</td>\n      <td>519</td>\n      <td>163.485</td>\n      <td>1720.485</td>\n      <td>e-Shop</td>\n      <td>272982.0</td>\n      <td>01-01-1972</td>\n      <td>F</td>\n      <td>10.0</td>\n    </tr>\n    <tr>\n      <th>1943</th>\n      <td>NaN</td>\n      <td>NaN</td>\n      <td>NaN</td>\n      <td>NaN</td>\n      <td>24129475595</td>\n      <td>274824</td>\n      <td>18-11-2013</td>\n      <td>1</td>\n      <td>2</td>\n      <td>5</td>\n      <td>628</td>\n      <td>329.700</td>\n      <td>3469.700</td>\n      <td>TeleShop</td>\n      <td>270066.0</td>\n      <td>01-01-1978</td>\n      <td>F</td>\n      <td>2.0</td>\n    </tr>\n    <tr>\n      <th>2178</th>\n      <td>NaN</td>\n      <td>NaN</td>\n      <td>NaN</td>\n      <td>NaN</td>\n      <td>92777957905</td>\n      <td>271862</td>\n      <td>7/11/2013</td>\n      <td>4</td>\n      <td>3</td>\n      <td>-2</td>\n      <td>-1151</td>\n      <td>241.710</td>\n      <td>-2543.710</td>\n      <td>e-Shop</td>\n      <td>267237.0</td>\n      <td>01-01-1979</td>\n      <td>M</td>\n      <td>8.0</td>\n    </tr>\n    <tr>\n      <th>2443</th>\n      <td>NaN</td>\n      <td>NaN</td>\n      <td>NaN</td>\n      <td>NaN</td>\n      <td>31058355097</td>\n      <td>272252</td>\n      <td>24-10-2013</td>\n      <td>9</td>\n      <td>3</td>\n      <td>-3</td>\n      <td>-479</td>\n      <td>150.885</td>\n      <td>-1587.885</td>\n      <td>TeleShop</td>\n      <td>270004.0</td>\n      <td>01-01-1980</td>\n      <td>M</td>\n      <td>7.0</td>\n    </tr>\n    <tr>\n      <th>2442</th>\n      <td>NaN</td>\n      <td>NaN</td>\n      <td>NaN</td>\n      <td>NaN</td>\n      <td>78547650287</td>\n      <td>273906</td>\n      <td>25-10-2013</td>\n      <td>3</td>\n      <td>1</td>\n      <td>1</td>\n      <td>475</td>\n      <td>49.875</td>\n      <td>524.875</td>\n      <td>e-Shop</td>\n      <td>271648.0</td>\n      <td>01-01-1980</td>\n      <td>F</td>\n      <td>1.0</td>\n    </tr>\n    <tr>\n      <th>2441</th>\n      <td>NaN</td>\n      <td>NaN</td>\n      <td>NaN</td>\n      <td>NaN</td>\n      <td>74346774200</td>\n      <td>275175</td>\n      <td>25-10-2013</td>\n      <td>1</td>\n      <td>4</td>\n      <td>3</td>\n      <td>881</td>\n      <td>277.515</td>\n      <td>2920.515</td>\n      <td>MBR</td>\n      <td>272430.0</td>\n      <td>01-01-1980</td>\n      <td>F</td>\n      <td>6.0</td>\n    </tr>\n    <tr>\n      <th>2702</th>\n      <td>NaN</td>\n      <td>NaN</td>\n      <td>NaN</td>\n      <td>NaN</td>\n      <td>63254279195</td>\n      <td>273740</td>\n      <td>13-10-2013</td>\n      <td>10</td>\n      <td>6</td>\n      <td>2</td>\n      <td>1194</td>\n      <td>250.740</td>\n      <td>2638.740</td>\n      <td>e-Shop</td>\n      <td>270362.0</td>\n      <td>01-01-1981</td>\n      <td>M</td>\n      <td>6.0</td>\n    </tr>\n    <tr>\n      <th>2937</th>\n      <td>NaN</td>\n      <td>NaN</td>\n      <td>NaN</td>\n      <td>NaN</td>\n      <td>63960481774</td>\n      <td>269245</td>\n      <td>2/10/2013</td>\n      <td>2</td>\n      <td>6</td>\n      <td>5</td>\n      <td>1143</td>\n      <td>600.075</td>\n      <td>6315.075</td>\n      <td>e-Shop</td>\n      <td>270592.0</td>\n      <td>01-01-1982</td>\n      <td>F</td>\n      <td>6.0</td>\n    </tr>\n    <tr>\n      <th>3192</th>\n      <td>NaN</td>\n      <td>NaN</td>\n      <td>NaN</td>\n      <td>NaN</td>\n      <td>31408259430</td>\n      <td>268385</td>\n      <td>20-09-2013</td>\n      <td>2</td>\n      <td>6</td>\n      <td>5</td>\n      <td>837</td>\n      <td>439.425</td>\n      <td>4624.425</td>\n      <td>TeleShop</td>\n      <td>269807.0</td>\n      <td>01-01-1983</td>\n      <td>M</td>\n      <td>3.0</td>\n    </tr>\n    <tr>\n      <th>3193</th>\n      <td>NaN</td>\n      <td>NaN</td>\n      <td>NaN</td>\n      <td>NaN</td>\n      <td>48662282932</td>\n      <td>271643</td>\n      <td>20-09-2013</td>\n      <td>2</td>\n      <td>6</td>\n      <td>1</td>\n      <td>1237</td>\n      <td>129.885</td>\n      <td>1366.885</td>\n      <td>Flagship store</td>\n      <td>267333.0</td>\n      <td>01-01-1983</td>\n      <td>F</td>\n      <td>9.0</td>\n    </tr>\n    <tr>\n      <th>4135</th>\n      <td>NaN</td>\n      <td>NaN</td>\n      <td>NaN</td>\n      <td>NaN</td>\n      <td>92679635505</td>\n      <td>273207</td>\n      <td>6/8/2013</td>\n      <td>4</td>\n      <td>2</td>\n      <td>1</td>\n      <td>1263</td>\n      <td>132.615</td>\n      <td>1395.615</td>\n      <td>e-Shop</td>\n      <td>268745.0</td>\n      <td>01-01-1987</td>\n      <td>M</td>\n      <td>9.0</td>\n    </tr>\n    <tr>\n      <th>4136</th>\n      <td>NaN</td>\n      <td>NaN</td>\n      <td>NaN</td>\n      <td>NaN</td>\n      <td>83496004910</td>\n      <td>267298</td>\n      <td>6/8/2013</td>\n      <td>7</td>\n      <td>5</td>\n      <td>4</td>\n      <td>173</td>\n      <td>72.660</td>\n      <td>764.660</td>\n      <td>e-Shop</td>\n      <td>273747.0</td>\n      <td>01-01-1987</td>\n      <td>M</td>\n      <td>4.0</td>\n    </tr>\n    <tr>\n      <th>4662</th>\n      <td>NaN</td>\n      <td>NaN</td>\n      <td>NaN</td>\n      <td>NaN</td>\n      <td>93295730277</td>\n      <td>272420</td>\n      <td>12/7/2013</td>\n      <td>12</td>\n      <td>5</td>\n      <td>1</td>\n      <td>583</td>\n      <td>61.215</td>\n      <td>644.215</td>\n      <td>MBR</td>\n      <td>267677.0</td>\n      <td>01-01-1989</td>\n      <td>M</td>\n      <td>4.0</td>\n    </tr>\n    <tr>\n      <th>4933</th>\n      <td>NaN</td>\n      <td>NaN</td>\n      <td>NaN</td>\n      <td>NaN</td>\n      <td>45737108857</td>\n      <td>273934</td>\n      <td>28-06-2013</td>\n      <td>5</td>\n      <td>3</td>\n      <td>5</td>\n      <td>609</td>\n      <td>319.725</td>\n      <td>3364.725</td>\n      <td>TeleShop</td>\n      <td>274719.0</td>\n      <td>01-01-1990</td>\n      <td>M</td>\n      <td>10.0</td>\n    </tr>\n    <tr>\n      <th>4934</th>\n      <td>NaN</td>\n      <td>NaN</td>\n      <td>NaN</td>\n      <td>NaN</td>\n      <td>41409462977</td>\n      <td>270055</td>\n      <td>28-06-2013</td>\n      <td>4</td>\n      <td>2</td>\n      <td>-2</td>\n      <td>-588</td>\n      <td>123.480</td>\n      <td>-1299.480</td>\n      <td>e-Shop</td>\n      <td>271714.0</td>\n      <td>01-01-1990</td>\n      <td>M</td>\n      <td>1.0</td>\n    </tr>\n    <tr>\n      <th>4935</th>\n      <td>NaN</td>\n      <td>NaN</td>\n      <td>NaN</td>\n      <td>NaN</td>\n      <td>23989278680</td>\n      <td>274521</td>\n      <td>28-06-2013</td>\n      <td>10</td>\n      <td>6</td>\n      <td>3</td>\n      <td>781</td>\n      <td>246.015</td>\n      <td>2589.015</td>\n      <td>TeleShop</td>\n      <td>275265.0</td>\n      <td>01-01-1990</td>\n      <td>M</td>\n      <td>3.0</td>\n    </tr>\n    <tr>\n      <th>5164</th>\n      <td>NaN</td>\n      <td>NaN</td>\n      <td>NaN</td>\n      <td>NaN</td>\n      <td>72783160090</td>\n      <td>271243</td>\n      <td>16-06-2013</td>\n      <td>1</td>\n      <td>1</td>\n      <td>4</td>\n      <td>1200</td>\n      <td>504.000</td>\n      <td>5304.000</td>\n      <td>e-Shop</td>\n      <td>269660.0</td>\n      <td>01-01-1991</td>\n      <td>F</td>\n      <td>6.0</td>\n    </tr>\n    <tr>\n      <th>5386</th>\n      <td>NaN</td>\n      <td>NaN</td>\n      <td>NaN</td>\n      <td>NaN</td>\n      <td>47439874147</td>\n      <td>268442</td>\n      <td>5/6/2013</td>\n      <td>4</td>\n      <td>2</td>\n      <td>5</td>\n      <td>782</td>\n      <td>410.550</td>\n      <td>4320.550</td>\n      <td>TeleShop</td>\n      <td>270483.0</td>\n      <td>01-01-1992</td>\n      <td>M</td>\n      <td>10.0</td>\n    </tr>\n    <tr>\n      <th>20</th>\n      <td>6.0</td>\n      <td>Home and kitchen</td>\n      <td>10.0</td>\n      <td>Kitchen</td>\n      <td>58957828601</td>\n      <td>269009</td>\n      <td>20-02-2014</td>\n      <td>11</td>\n      <td>5</td>\n      <td>4</td>\n      <td>846</td>\n      <td>355.320</td>\n      <td>3739.320</td>\n      <td>TeleShop</td>\n      <td>270324.0</td>\n      <td>01-02-1970</td>\n      <td>F</td>\n      <td>1.0</td>\n    </tr>\n    <tr>\n      <th>19</th>\n      <td>6.0</td>\n      <td>Home and kitchen</td>\n      <td>2.0</td>\n      <td>Furnishing</td>\n      <td>44783317894</td>\n      <td>269452</td>\n      <td>20-02-2014</td>\n      <td>3</td>\n      <td>1</td>\n      <td>3</td>\n      <td>825</td>\n      <td>259.875</td>\n      <td>2734.875</td>\n      <td>TeleShop</td>\n      <td>273541.0</td>\n      <td>01-02-1970</td>\n      <td>M</td>\n      <td>4.0</td>\n    </tr>\n    <tr>\n      <th>17</th>\n      <td>5.0</td>\n      <td>Books</td>\n      <td>3.0</td>\n      <td>Comics</td>\n      <td>25963520987</td>\n      <td>274829</td>\n      <td>20-02-2014</td>\n      <td>4</td>\n      <td>4</td>\n      <td>3</td>\n      <td>502</td>\n      <td>158.130</td>\n      <td>1664.130</td>\n      <td>Flagship store</td>\n      <td>268275.0</td>\n      <td>01-02-1970</td>\n      <td>F</td>\n      <td>7.0</td>\n    </tr>\n    <tr>\n      <th>18</th>\n      <td>5.0</td>\n      <td>Books</td>\n      <td>6.0</td>\n      <td>DIY</td>\n      <td>17183929085</td>\n      <td>266863</td>\n      <td>20-02-2014</td>\n      <td>1</td>\n      <td>2</td>\n      <td>1</td>\n      <td>1359</td>\n      <td>142.695</td>\n      <td>1501.695</td>\n      <td>TeleShop</td>\n      <td>274630.0</td>\n      <td>01-02-1970</td>\n      <td>M</td>\n      <td>4.0</td>\n    </tr>\n    <tr>\n      <th>244</th>\n      <td>NaN</td>\n      <td>NaN</td>\n      <td>NaN</td>\n      <td>NaN</td>\n      <td>41870403334</td>\n      <td>273965</td>\n      <td>7/2/2014</td>\n      <td>1</td>\n      <td>4</td>\n      <td>5</td>\n      <td>510</td>\n      <td>267.750</td>\n      <td>2817.750</td>\n      <td>e-Shop</td>\n      <td>274101.0</td>\n      <td>01-02-1971</td>\n      <td>M</td>\n      <td>1.0</td>\n    </tr>\n    <tr>\n      <th>245</th>\n      <td>NaN</td>\n      <td>NaN</td>\n      <td>NaN</td>\n      <td>NaN</td>\n      <td>57797450946</td>\n      <td>272395</td>\n      <td>7/2/2014</td>\n      <td>12</td>\n      <td>6</td>\n      <td>5</td>\n      <td>80</td>\n      <td>42.000</td>\n      <td>442.000</td>\n      <td>Flagship store</td>\n      <td>270120.0</td>\n      <td>01-02-1971</td>\n      <td>F</td>\n      <td>9.0</td>\n    </tr>\n    <tr>\n      <th>492</th>\n      <td>NaN</td>\n      <td>NaN</td>\n      <td>NaN</td>\n      <td>NaN</td>\n      <td>19240720162</td>\n      <td>272940</td>\n      <td>26-01-2014</td>\n      <td>9</td>\n      <td>3</td>\n      <td>3</td>\n      <td>1203</td>\n      <td>378.945</td>\n      <td>3987.945</td>\n      <td>MBR</td>\n      <td>271455.0</td>\n      <td>01-02-1972</td>\n      <td>F</td>\n      <td>9.0</td>\n    </tr>\n    <tr>\n      <th>493</th>\n      <td>NaN</td>\n      <td>NaN</td>\n      <td>NaN</td>\n      <td>NaN</td>\n      <td>11878870074</td>\n      <td>268819</td>\n      <td>26-01-2014</td>\n      <td>10</td>\n      <td>5</td>\n      <td>-4</td>\n      <td>-1486</td>\n      <td>624.120</td>\n      <td>-6568.120</td>\n      <td>e-Shop</td>\n      <td>275006.0</td>\n      <td>01-02-1972</td>\n      <td>M</td>\n      <td>2.0</td>\n    </tr>\n    <tr>\n      <th>733</th>\n      <td>NaN</td>\n      <td>NaN</td>\n      <td>NaN</td>\n      <td>NaN</td>\n      <td>93699055689</td>\n      <td>268514</td>\n      <td>15-01-2014</td>\n      <td>1</td>\n      <td>2</td>\n      <td>4</td>\n      <td>520</td>\n      <td>218.400</td>\n      <td>2298.400</td>\n      <td>e-Shop</td>\n      <td>274334.0</td>\n      <td>01-02-1973</td>\n      <td>M</td>\n      <td>5.0</td>\n    </tr>\n    <tr>\n      <th>965</th>\n      <td>NaN</td>\n      <td>NaN</td>\n      <td>NaN</td>\n      <td>NaN</td>\n      <td>81569100771</td>\n      <td>275037</td>\n      <td>5/1/2014</td>\n      <td>3</td>\n      <td>1</td>\n      <td>5</td>\n      <td>621</td>\n      <td>326.025</td>\n      <td>3431.025</td>\n      <td>Flagship store</td>\n      <td>267504.0</td>\n      <td>01-02-1974</td>\n      <td>F</td>\n      <td>7.0</td>\n    </tr>\n    <tr>\n      <th>1209</th>\n      <td>NaN</td>\n      <td>NaN</td>\n      <td>NaN</td>\n      <td>NaN</td>\n      <td>54631852993</td>\n      <td>272137</td>\n      <td>24-12-2013</td>\n      <td>11</td>\n      <td>6</td>\n      <td>2</td>\n      <td>875</td>\n      <td>183.750</td>\n      <td>1933.750</td>\n      <td>e-Shop</td>\n      <td>272375.0</td>\n      <td>01-02-1975</td>\n      <td>M</td>\n      <td>2.0</td>\n    </tr>\n    <tr>\n      <th>1208</th>\n      <td>NaN</td>\n      <td>NaN</td>\n      <td>NaN</td>\n      <td>NaN</td>\n      <td>38428413973</td>\n      <td>272584</td>\n      <td>24-12-2013</td>\n      <td>10</td>\n      <td>3</td>\n      <td>4</td>\n      <td>1158</td>\n      <td>486.360</td>\n      <td>5118.360</td>\n      <td>Flagship store</td>\n      <td>268390.0</td>\n      <td>01-02-1975</td>\n      <td>M</td>\n      <td>5.0</td>\n    </tr>\n    <tr>\n      <th>...</th>\n      <td>...</td>\n      <td>...</td>\n      <td>...</td>\n      <td>...</td>\n      <td>...</td>\n      <td>...</td>\n      <td>...</td>\n      <td>...</td>\n      <td>...</td>\n      <td>...</td>\n      <td>...</td>\n      <td>...</td>\n      <td>...</td>\n      <td>...</td>\n      <td>...</td>\n      <td>...</td>\n      <td>...</td>\n      <td>...</td>\n    </tr>\n    <tr>\n      <th>23023</th>\n      <td>NaN</td>\n      <td>NaN</td>\n      <td>NaN</td>\n      <td>NaN</td>\n      <td>87697726895</td>\n      <td>267014</td>\n      <td>26-01-2011</td>\n      <td>4</td>\n      <td>4</td>\n      <td>1</td>\n      <td>963</td>\n      <td>101.115</td>\n      <td>1064.115</td>\n      <td>Flagship store</td>\n      <td>NaN</td>\n      <td>NaN</td>\n      <td>NaN</td>\n      <td>NaN</td>\n    </tr>\n    <tr>\n      <th>23024</th>\n      <td>NaN</td>\n      <td>NaN</td>\n      <td>NaN</td>\n      <td>NaN</td>\n      <td>83901074423</td>\n      <td>270550</td>\n      <td>26-01-2011</td>\n      <td>3</td>\n      <td>2</td>\n      <td>3</td>\n      <td>474</td>\n      <td>149.310</td>\n      <td>1571.310</td>\n      <td>e-Shop</td>\n      <td>NaN</td>\n      <td>NaN</td>\n      <td>NaN</td>\n      <td>NaN</td>\n    </tr>\n    <tr>\n      <th>23025</th>\n      <td>NaN</td>\n      <td>NaN</td>\n      <td>NaN</td>\n      <td>NaN</td>\n      <td>68490104072</td>\n      <td>267987</td>\n      <td>26-01-2011</td>\n      <td>3</td>\n      <td>5</td>\n      <td>4</td>\n      <td>1114</td>\n      <td>467.880</td>\n      <td>4923.880</td>\n      <td>e-Shop</td>\n      <td>NaN</td>\n      <td>NaN</td>\n      <td>NaN</td>\n      <td>NaN</td>\n    </tr>\n    <tr>\n      <th>23026</th>\n      <td>NaN</td>\n      <td>NaN</td>\n      <td>NaN</td>\n      <td>NaN</td>\n      <td>98361854847</td>\n      <td>273273</td>\n      <td>26-01-2011</td>\n      <td>5</td>\n      <td>3</td>\n      <td>4</td>\n      <td>1198</td>\n      <td>503.160</td>\n      <td>5295.160</td>\n      <td>TeleShop</td>\n      <td>NaN</td>\n      <td>NaN</td>\n      <td>NaN</td>\n      <td>NaN</td>\n    </tr>\n    <tr>\n      <th>23027</th>\n      <td>NaN</td>\n      <td>NaN</td>\n      <td>NaN</td>\n      <td>NaN</td>\n      <td>71176929896</td>\n      <td>269201</td>\n      <td>26-01-2011</td>\n      <td>8</td>\n      <td>3</td>\n      <td>5</td>\n      <td>295</td>\n      <td>154.875</td>\n      <td>1629.875</td>\n      <td>Flagship store</td>\n      <td>NaN</td>\n      <td>NaN</td>\n      <td>NaN</td>\n      <td>NaN</td>\n    </tr>\n    <tr>\n      <th>23028</th>\n      <td>NaN</td>\n      <td>NaN</td>\n      <td>NaN</td>\n      <td>NaN</td>\n      <td>69487840177</td>\n      <td>269659</td>\n      <td>26-01-2011</td>\n      <td>12</td>\n      <td>6</td>\n      <td>2</td>\n      <td>378</td>\n      <td>79.380</td>\n      <td>835.380</td>\n      <td>MBR</td>\n      <td>NaN</td>\n      <td>NaN</td>\n      <td>NaN</td>\n      <td>NaN</td>\n    </tr>\n    <tr>\n      <th>23029</th>\n      <td>NaN</td>\n      <td>NaN</td>\n      <td>NaN</td>\n      <td>NaN</td>\n      <td>80212066065</td>\n      <td>268060</td>\n      <td>26-01-2011</td>\n      <td>1</td>\n      <td>2</td>\n      <td>5</td>\n      <td>217</td>\n      <td>113.925</td>\n      <td>1198.925</td>\n      <td>e-Shop</td>\n      <td>NaN</td>\n      <td>NaN</td>\n      <td>NaN</td>\n      <td>NaN</td>\n    </tr>\n    <tr>\n      <th>23030</th>\n      <td>NaN</td>\n      <td>NaN</td>\n      <td>NaN</td>\n      <td>NaN</td>\n      <td>78766424618</td>\n      <td>267618</td>\n      <td>26-01-2011</td>\n      <td>11</td>\n      <td>6</td>\n      <td>3</td>\n      <td>1128</td>\n      <td>355.320</td>\n      <td>3739.320</td>\n      <td>Flagship store</td>\n      <td>NaN</td>\n      <td>NaN</td>\n      <td>NaN</td>\n      <td>NaN</td>\n    </tr>\n    <tr>\n      <th>23031</th>\n      <td>NaN</td>\n      <td>NaN</td>\n      <td>NaN</td>\n      <td>NaN</td>\n      <td>83245680995</td>\n      <td>273723</td>\n      <td>26-01-2011</td>\n      <td>4</td>\n      <td>4</td>\n      <td>4</td>\n      <td>1477</td>\n      <td>620.340</td>\n      <td>6528.340</td>\n      <td>e-Shop</td>\n      <td>NaN</td>\n      <td>NaN</td>\n      <td>NaN</td>\n      <td>NaN</td>\n    </tr>\n    <tr>\n      <th>23032</th>\n      <td>NaN</td>\n      <td>NaN</td>\n      <td>NaN</td>\n      <td>NaN</td>\n      <td>90114483354</td>\n      <td>268097</td>\n      <td>26-01-2011</td>\n      <td>10</td>\n      <td>5</td>\n      <td>4</td>\n      <td>1408</td>\n      <td>591.360</td>\n      <td>6223.360</td>\n      <td>e-Shop</td>\n      <td>NaN</td>\n      <td>NaN</td>\n      <td>NaN</td>\n      <td>NaN</td>\n    </tr>\n    <tr>\n      <th>23033</th>\n      <td>NaN</td>\n      <td>NaN</td>\n      <td>NaN</td>\n      <td>NaN</td>\n      <td>32887353269</td>\n      <td>268885</td>\n      <td>25-01-2011</td>\n      <td>3</td>\n      <td>1</td>\n      <td>1</td>\n      <td>276</td>\n      <td>28.980</td>\n      <td>304.980</td>\n      <td>Flagship store</td>\n      <td>NaN</td>\n      <td>NaN</td>\n      <td>NaN</td>\n      <td>NaN</td>\n    </tr>\n    <tr>\n      <th>23034</th>\n      <td>NaN</td>\n      <td>NaN</td>\n      <td>NaN</td>\n      <td>NaN</td>\n      <td>28972634039</td>\n      <td>275227</td>\n      <td>25-01-2011</td>\n      <td>9</td>\n      <td>3</td>\n      <td>1</td>\n      <td>334</td>\n      <td>35.070</td>\n      <td>369.070</td>\n      <td>MBR</td>\n      <td>NaN</td>\n      <td>NaN</td>\n      <td>NaN</td>\n      <td>NaN</td>\n    </tr>\n    <tr>\n      <th>23035</th>\n      <td>NaN</td>\n      <td>NaN</td>\n      <td>NaN</td>\n      <td>NaN</td>\n      <td>42161597232</td>\n      <td>267094</td>\n      <td>25-01-2011</td>\n      <td>3</td>\n      <td>1</td>\n      <td>3</td>\n      <td>147</td>\n      <td>46.305</td>\n      <td>487.305</td>\n      <td>MBR</td>\n      <td>NaN</td>\n      <td>NaN</td>\n      <td>NaN</td>\n      <td>NaN</td>\n    </tr>\n    <tr>\n      <th>23036</th>\n      <td>NaN</td>\n      <td>NaN</td>\n      <td>NaN</td>\n      <td>NaN</td>\n      <td>46821751538</td>\n      <td>269160</td>\n      <td>25-01-2011</td>\n      <td>10</td>\n      <td>5</td>\n      <td>5</td>\n      <td>941</td>\n      <td>494.025</td>\n      <td>5199.025</td>\n      <td>TeleShop</td>\n      <td>NaN</td>\n      <td>NaN</td>\n      <td>NaN</td>\n      <td>NaN</td>\n    </tr>\n    <tr>\n      <th>23037</th>\n      <td>NaN</td>\n      <td>NaN</td>\n      <td>NaN</td>\n      <td>NaN</td>\n      <td>9423947512</td>\n      <td>267383</td>\n      <td>25-01-2011</td>\n      <td>3</td>\n      <td>5</td>\n      <td>1</td>\n      <td>333</td>\n      <td>34.965</td>\n      <td>367.965</td>\n      <td>e-Shop</td>\n      <td>NaN</td>\n      <td>NaN</td>\n      <td>NaN</td>\n      <td>NaN</td>\n    </tr>\n    <tr>\n      <th>23038</th>\n      <td>NaN</td>\n      <td>NaN</td>\n      <td>NaN</td>\n      <td>NaN</td>\n      <td>61812307223</td>\n      <td>274306</td>\n      <td>25-01-2011</td>\n      <td>4</td>\n      <td>4</td>\n      <td>4</td>\n      <td>1447</td>\n      <td>607.740</td>\n      <td>6395.740</td>\n      <td>e-Shop</td>\n      <td>NaN</td>\n      <td>NaN</td>\n      <td>NaN</td>\n      <td>NaN</td>\n    </tr>\n    <tr>\n      <th>23039</th>\n      <td>NaN</td>\n      <td>NaN</td>\n      <td>NaN</td>\n      <td>NaN</td>\n      <td>62511551321</td>\n      <td>270394</td>\n      <td>25-01-2011</td>\n      <td>3</td>\n      <td>2</td>\n      <td>5</td>\n      <td>631</td>\n      <td>331.275</td>\n      <td>3486.275</td>\n      <td>Flagship store</td>\n      <td>NaN</td>\n      <td>NaN</td>\n      <td>NaN</td>\n      <td>NaN</td>\n    </tr>\n    <tr>\n      <th>23040</th>\n      <td>NaN</td>\n      <td>NaN</td>\n      <td>NaN</td>\n      <td>NaN</td>\n      <td>19833039570</td>\n      <td>271380</td>\n      <td>25-01-2011</td>\n      <td>3</td>\n      <td>2</td>\n      <td>4</td>\n      <td>728</td>\n      <td>305.760</td>\n      <td>3217.760</td>\n      <td>MBR</td>\n      <td>NaN</td>\n      <td>NaN</td>\n      <td>NaN</td>\n      <td>NaN</td>\n    </tr>\n    <tr>\n      <th>23041</th>\n      <td>NaN</td>\n      <td>NaN</td>\n      <td>NaN</td>\n      <td>NaN</td>\n      <td>39737254095</td>\n      <td>272286</td>\n      <td>25-01-2011</td>\n      <td>2</td>\n      <td>6</td>\n      <td>5</td>\n      <td>71</td>\n      <td>37.275</td>\n      <td>392.275</td>\n      <td>e-Shop</td>\n      <td>NaN</td>\n      <td>NaN</td>\n      <td>NaN</td>\n      <td>NaN</td>\n    </tr>\n    <tr>\n      <th>23042</th>\n      <td>NaN</td>\n      <td>NaN</td>\n      <td>NaN</td>\n      <td>NaN</td>\n      <td>49584040240</td>\n      <td>273010</td>\n      <td>25-01-2011</td>\n      <td>5</td>\n      <td>3</td>\n      <td>2</td>\n      <td>276</td>\n      <td>57.960</td>\n      <td>609.960</td>\n      <td>e-Shop</td>\n      <td>NaN</td>\n      <td>NaN</td>\n      <td>NaN</td>\n      <td>NaN</td>\n    </tr>\n    <tr>\n      <th>23043</th>\n      <td>NaN</td>\n      <td>NaN</td>\n      <td>NaN</td>\n      <td>NaN</td>\n      <td>49882891062</td>\n      <td>271982</td>\n      <td>25-01-2011</td>\n      <td>10</td>\n      <td>5</td>\n      <td>4</td>\n      <td>1330</td>\n      <td>558.600</td>\n      <td>5878.600</td>\n      <td>e-Shop</td>\n      <td>NaN</td>\n      <td>NaN</td>\n      <td>NaN</td>\n      <td>NaN</td>\n    </tr>\n    <tr>\n      <th>23044</th>\n      <td>NaN</td>\n      <td>NaN</td>\n      <td>NaN</td>\n      <td>NaN</td>\n      <td>14787475597</td>\n      <td>273982</td>\n      <td>25-01-2011</td>\n      <td>4</td>\n      <td>3</td>\n      <td>5</td>\n      <td>969</td>\n      <td>508.725</td>\n      <td>5353.725</td>\n      <td>e-Shop</td>\n      <td>NaN</td>\n      <td>NaN</td>\n      <td>NaN</td>\n      <td>NaN</td>\n    </tr>\n    <tr>\n      <th>23045</th>\n      <td>NaN</td>\n      <td>NaN</td>\n      <td>NaN</td>\n      <td>NaN</td>\n      <td>50691119572</td>\n      <td>273031</td>\n      <td>25-01-2011</td>\n      <td>6</td>\n      <td>5</td>\n      <td>1</td>\n      <td>1148</td>\n      <td>120.540</td>\n      <td>1268.540</td>\n      <td>TeleShop</td>\n      <td>NaN</td>\n      <td>NaN</td>\n      <td>NaN</td>\n      <td>NaN</td>\n    </tr>\n    <tr>\n      <th>23046</th>\n      <td>NaN</td>\n      <td>NaN</td>\n      <td>NaN</td>\n      <td>NaN</td>\n      <td>40893803228</td>\n      <td>272049</td>\n      <td>25-01-2011</td>\n      <td>11</td>\n      <td>6</td>\n      <td>3</td>\n      <td>1077</td>\n      <td>339.255</td>\n      <td>3570.255</td>\n      <td>e-Shop</td>\n      <td>NaN</td>\n      <td>NaN</td>\n      <td>NaN</td>\n      <td>NaN</td>\n    </tr>\n    <tr>\n      <th>23047</th>\n      <td>NaN</td>\n      <td>NaN</td>\n      <td>NaN</td>\n      <td>NaN</td>\n      <td>30856003613</td>\n      <td>266866</td>\n      <td>25-01-2011</td>\n      <td>4</td>\n      <td>2</td>\n      <td>2</td>\n      <td>444</td>\n      <td>93.240</td>\n      <td>981.240</td>\n      <td>TeleShop</td>\n      <td>NaN</td>\n      <td>NaN</td>\n      <td>NaN</td>\n      <td>NaN</td>\n    </tr>\n    <tr>\n      <th>23048</th>\n      <td>NaN</td>\n      <td>NaN</td>\n      <td>NaN</td>\n      <td>NaN</td>\n      <td>94340757522</td>\n      <td>274550</td>\n      <td>25-01-2011</td>\n      <td>12</td>\n      <td>5</td>\n      <td>1</td>\n      <td>1264</td>\n      <td>132.720</td>\n      <td>1396.720</td>\n      <td>e-Shop</td>\n      <td>NaN</td>\n      <td>NaN</td>\n      <td>NaN</td>\n      <td>NaN</td>\n    </tr>\n    <tr>\n      <th>23049</th>\n      <td>NaN</td>\n      <td>NaN</td>\n      <td>NaN</td>\n      <td>NaN</td>\n      <td>89780862956</td>\n      <td>270022</td>\n      <td>25-01-2011</td>\n      <td>4</td>\n      <td>1</td>\n      <td>1</td>\n      <td>677</td>\n      <td>71.085</td>\n      <td>748.085</td>\n      <td>e-Shop</td>\n      <td>NaN</td>\n      <td>NaN</td>\n      <td>NaN</td>\n      <td>NaN</td>\n    </tr>\n    <tr>\n      <th>23050</th>\n      <td>NaN</td>\n      <td>NaN</td>\n      <td>NaN</td>\n      <td>NaN</td>\n      <td>85115299378</td>\n      <td>271020</td>\n      <td>25-01-2011</td>\n      <td>2</td>\n      <td>6</td>\n      <td>4</td>\n      <td>1052</td>\n      <td>441.840</td>\n      <td>4649.840</td>\n      <td>MBR</td>\n      <td>NaN</td>\n      <td>NaN</td>\n      <td>NaN</td>\n      <td>NaN</td>\n    </tr>\n    <tr>\n      <th>23051</th>\n      <td>NaN</td>\n      <td>NaN</td>\n      <td>NaN</td>\n      <td>NaN</td>\n      <td>72870271171</td>\n      <td>270911</td>\n      <td>25-01-2011</td>\n      <td>11</td>\n      <td>5</td>\n      <td>3</td>\n      <td>1142</td>\n      <td>359.730</td>\n      <td>3785.730</td>\n      <td>TeleShop</td>\n      <td>NaN</td>\n      <td>NaN</td>\n      <td>NaN</td>\n      <td>NaN</td>\n    </tr>\n    <tr>\n      <th>23052</th>\n      <td>NaN</td>\n      <td>NaN</td>\n      <td>NaN</td>\n      <td>NaN</td>\n      <td>77960931771</td>\n      <td>271961</td>\n      <td>25-01-2011</td>\n      <td>11</td>\n      <td>5</td>\n      <td>1</td>\n      <td>447</td>\n      <td>46.935</td>\n      <td>493.935</td>\n      <td>TeleShop</td>\n      <td>NaN</td>\n      <td>NaN</td>\n      <td>NaN</td>\n      <td>NaN</td>\n    </tr>\n  </tbody>\n</table>\n<p>23053 rows × 18 columns</p>\n</div>",
            "text/plain": "       prod_cat_code_x          prod_cat  prod_sub_cat_code prod_subcat  \\\n475                NaN               NaN                NaN         NaN   \n1943               NaN               NaN                NaN         NaN   \n2178               NaN               NaN                NaN         NaN   \n2443               NaN               NaN                NaN         NaN   \n2442               NaN               NaN                NaN         NaN   \n2441               NaN               NaN                NaN         NaN   \n2702               NaN               NaN                NaN         NaN   \n2937               NaN               NaN                NaN         NaN   \n3192               NaN               NaN                NaN         NaN   \n3193               NaN               NaN                NaN         NaN   \n4135               NaN               NaN                NaN         NaN   \n4136               NaN               NaN                NaN         NaN   \n4662               NaN               NaN                NaN         NaN   \n4933               NaN               NaN                NaN         NaN   \n4934               NaN               NaN                NaN         NaN   \n4935               NaN               NaN                NaN         NaN   \n5164               NaN               NaN                NaN         NaN   \n5386               NaN               NaN                NaN         NaN   \n20                 6.0  Home and kitchen               10.0     Kitchen   \n19                 6.0  Home and kitchen                2.0  Furnishing   \n17                 5.0             Books                3.0      Comics   \n18                 5.0             Books                6.0         DIY   \n244                NaN               NaN                NaN         NaN   \n245                NaN               NaN                NaN         NaN   \n492                NaN               NaN                NaN         NaN   \n493                NaN               NaN                NaN         NaN   \n733                NaN               NaN                NaN         NaN   \n965                NaN               NaN                NaN         NaN   \n1209               NaN               NaN                NaN         NaN   \n1208               NaN               NaN                NaN         NaN   \n...                ...               ...                ...         ...   \n23023              NaN               NaN                NaN         NaN   \n23024              NaN               NaN                NaN         NaN   \n23025              NaN               NaN                NaN         NaN   \n23026              NaN               NaN                NaN         NaN   \n23027              NaN               NaN                NaN         NaN   \n23028              NaN               NaN                NaN         NaN   \n23029              NaN               NaN                NaN         NaN   \n23030              NaN               NaN                NaN         NaN   \n23031              NaN               NaN                NaN         NaN   \n23032              NaN               NaN                NaN         NaN   \n23033              NaN               NaN                NaN         NaN   \n23034              NaN               NaN                NaN         NaN   \n23035              NaN               NaN                NaN         NaN   \n23036              NaN               NaN                NaN         NaN   \n23037              NaN               NaN                NaN         NaN   \n23038              NaN               NaN                NaN         NaN   \n23039              NaN               NaN                NaN         NaN   \n23040              NaN               NaN                NaN         NaN   \n23041              NaN               NaN                NaN         NaN   \n23042              NaN               NaN                NaN         NaN   \n23043              NaN               NaN                NaN         NaN   \n23044              NaN               NaN                NaN         NaN   \n23045              NaN               NaN                NaN         NaN   \n23046              NaN               NaN                NaN         NaN   \n23047              NaN               NaN                NaN         NaN   \n23048              NaN               NaN                NaN         NaN   \n23049              NaN               NaN                NaN         NaN   \n23050              NaN               NaN                NaN         NaN   \n23051              NaN               NaN                NaN         NaN   \n23052              NaN               NaN                NaN         NaN   \n\n       transaction_id  cust_id   tran_date  prod_subcat_code  prod_cat_code_y  \\\n475       22618767602   272534  27-01-2014                 4                4   \n1943      24129475595   274824  18-11-2013                 1                2   \n2178      92777957905   271862   7/11/2013                 4                3   \n2443      31058355097   272252  24-10-2013                 9                3   \n2442      78547650287   273906  25-10-2013                 3                1   \n2441      74346774200   275175  25-10-2013                 1                4   \n2702      63254279195   273740  13-10-2013                10                6   \n2937      63960481774   269245   2/10/2013                 2                6   \n3192      31408259430   268385  20-09-2013                 2                6   \n3193      48662282932   271643  20-09-2013                 2                6   \n4135      92679635505   273207    6/8/2013                 4                2   \n4136      83496004910   267298    6/8/2013                 7                5   \n4662      93295730277   272420   12/7/2013                12                5   \n4933      45737108857   273934  28-06-2013                 5                3   \n4934      41409462977   270055  28-06-2013                 4                2   \n4935      23989278680   274521  28-06-2013                10                6   \n5164      72783160090   271243  16-06-2013                 1                1   \n5386      47439874147   268442    5/6/2013                 4                2   \n20        58957828601   269009  20-02-2014                11                5   \n19        44783317894   269452  20-02-2014                 3                1   \n17        25963520987   274829  20-02-2014                 4                4   \n18        17183929085   266863  20-02-2014                 1                2   \n244       41870403334   273965    7/2/2014                 1                4   \n245       57797450946   272395    7/2/2014                12                6   \n492       19240720162   272940  26-01-2014                 9                3   \n493       11878870074   268819  26-01-2014                10                5   \n733       93699055689   268514  15-01-2014                 1                2   \n965       81569100771   275037    5/1/2014                 3                1   \n1209      54631852993   272137  24-12-2013                11                6   \n1208      38428413973   272584  24-12-2013                10                3   \n...               ...      ...         ...               ...              ...   \n23023     87697726895   267014  26-01-2011                 4                4   \n23024     83901074423   270550  26-01-2011                 3                2   \n23025     68490104072   267987  26-01-2011                 3                5   \n23026     98361854847   273273  26-01-2011                 5                3   \n23027     71176929896   269201  26-01-2011                 8                3   \n23028     69487840177   269659  26-01-2011                12                6   \n23029     80212066065   268060  26-01-2011                 1                2   \n23030     78766424618   267618  26-01-2011                11                6   \n23031     83245680995   273723  26-01-2011                 4                4   \n23032     90114483354   268097  26-01-2011                10                5   \n23033     32887353269   268885  25-01-2011                 3                1   \n23034     28972634039   275227  25-01-2011                 9                3   \n23035     42161597232   267094  25-01-2011                 3                1   \n23036     46821751538   269160  25-01-2011                10                5   \n23037      9423947512   267383  25-01-2011                 3                5   \n23038     61812307223   274306  25-01-2011                 4                4   \n23039     62511551321   270394  25-01-2011                 3                2   \n23040     19833039570   271380  25-01-2011                 3                2   \n23041     39737254095   272286  25-01-2011                 2                6   \n23042     49584040240   273010  25-01-2011                 5                3   \n23043     49882891062   271982  25-01-2011                10                5   \n23044     14787475597   273982  25-01-2011                 4                3   \n23045     50691119572   273031  25-01-2011                 6                5   \n23046     40893803228   272049  25-01-2011                11                6   \n23047     30856003613   266866  25-01-2011                 4                2   \n23048     94340757522   274550  25-01-2011                12                5   \n23049     89780862956   270022  25-01-2011                 4                1   \n23050     85115299378   271020  25-01-2011                 2                6   \n23051     72870271171   270911  25-01-2011                11                5   \n23052     77960931771   271961  25-01-2011                11                5   \n\n       Qty  Rate      Tax  total_amt      Store_type  customer_Id         DOB  \\\n475      3   519  163.485   1720.485          e-Shop     272982.0  01-01-1972   \n1943     5   628  329.700   3469.700        TeleShop     270066.0  01-01-1978   \n2178    -2 -1151  241.710  -2543.710          e-Shop     267237.0  01-01-1979   \n2443    -3  -479  150.885  -1587.885        TeleShop     270004.0  01-01-1980   \n2442     1   475   49.875    524.875          e-Shop     271648.0  01-01-1980   \n2441     3   881  277.515   2920.515             MBR     272430.0  01-01-1980   \n2702     2  1194  250.740   2638.740          e-Shop     270362.0  01-01-1981   \n2937     5  1143  600.075   6315.075          e-Shop     270592.0  01-01-1982   \n3192     5   837  439.425   4624.425        TeleShop     269807.0  01-01-1983   \n3193     1  1237  129.885   1366.885  Flagship store     267333.0  01-01-1983   \n4135     1  1263  132.615   1395.615          e-Shop     268745.0  01-01-1987   \n4136     4   173   72.660    764.660          e-Shop     273747.0  01-01-1987   \n4662     1   583   61.215    644.215             MBR     267677.0  01-01-1989   \n4933     5   609  319.725   3364.725        TeleShop     274719.0  01-01-1990   \n4934    -2  -588  123.480  -1299.480          e-Shop     271714.0  01-01-1990   \n4935     3   781  246.015   2589.015        TeleShop     275265.0  01-01-1990   \n5164     4  1200  504.000   5304.000          e-Shop     269660.0  01-01-1991   \n5386     5   782  410.550   4320.550        TeleShop     270483.0  01-01-1992   \n20       4   846  355.320   3739.320        TeleShop     270324.0  01-02-1970   \n19       3   825  259.875   2734.875        TeleShop     273541.0  01-02-1970   \n17       3   502  158.130   1664.130  Flagship store     268275.0  01-02-1970   \n18       1  1359  142.695   1501.695        TeleShop     274630.0  01-02-1970   \n244      5   510  267.750   2817.750          e-Shop     274101.0  01-02-1971   \n245      5    80   42.000    442.000  Flagship store     270120.0  01-02-1971   \n492      3  1203  378.945   3987.945             MBR     271455.0  01-02-1972   \n493     -4 -1486  624.120  -6568.120          e-Shop     275006.0  01-02-1972   \n733      4   520  218.400   2298.400          e-Shop     274334.0  01-02-1973   \n965      5   621  326.025   3431.025  Flagship store     267504.0  01-02-1974   \n1209     2   875  183.750   1933.750          e-Shop     272375.0  01-02-1975   \n1208     4  1158  486.360   5118.360  Flagship store     268390.0  01-02-1975   \n...    ...   ...      ...        ...             ...          ...         ...   \n23023    1   963  101.115   1064.115  Flagship store          NaN         NaN   \n23024    3   474  149.310   1571.310          e-Shop          NaN         NaN   \n23025    4  1114  467.880   4923.880          e-Shop          NaN         NaN   \n23026    4  1198  503.160   5295.160        TeleShop          NaN         NaN   \n23027    5   295  154.875   1629.875  Flagship store          NaN         NaN   \n23028    2   378   79.380    835.380             MBR          NaN         NaN   \n23029    5   217  113.925   1198.925          e-Shop          NaN         NaN   \n23030    3  1128  355.320   3739.320  Flagship store          NaN         NaN   \n23031    4  1477  620.340   6528.340          e-Shop          NaN         NaN   \n23032    4  1408  591.360   6223.360          e-Shop          NaN         NaN   \n23033    1   276   28.980    304.980  Flagship store          NaN         NaN   \n23034    1   334   35.070    369.070             MBR          NaN         NaN   \n23035    3   147   46.305    487.305             MBR          NaN         NaN   \n23036    5   941  494.025   5199.025        TeleShop          NaN         NaN   \n23037    1   333   34.965    367.965          e-Shop          NaN         NaN   \n23038    4  1447  607.740   6395.740          e-Shop          NaN         NaN   \n23039    5   631  331.275   3486.275  Flagship store          NaN         NaN   \n23040    4   728  305.760   3217.760             MBR          NaN         NaN   \n23041    5    71   37.275    392.275          e-Shop          NaN         NaN   \n23042    2   276   57.960    609.960          e-Shop          NaN         NaN   \n23043    4  1330  558.600   5878.600          e-Shop          NaN         NaN   \n23044    5   969  508.725   5353.725          e-Shop          NaN         NaN   \n23045    1  1148  120.540   1268.540        TeleShop          NaN         NaN   \n23046    3  1077  339.255   3570.255          e-Shop          NaN         NaN   \n23047    2   444   93.240    981.240        TeleShop          NaN         NaN   \n23048    1  1264  132.720   1396.720          e-Shop          NaN         NaN   \n23049    1   677   71.085    748.085          e-Shop          NaN         NaN   \n23050    4  1052  441.840   4649.840             MBR          NaN         NaN   \n23051    3  1142  359.730   3785.730        TeleShop          NaN         NaN   \n23052    1   447   46.935    493.935        TeleShop          NaN         NaN   \n\n      Gender  city_code  \n475        F       10.0  \n1943       F        2.0  \n2178       M        8.0  \n2443       M        7.0  \n2442       F        1.0  \n2441       F        6.0  \n2702       M        6.0  \n2937       F        6.0  \n3192       M        3.0  \n3193       F        9.0  \n4135       M        9.0  \n4136       M        4.0  \n4662       M        4.0  \n4933       M       10.0  \n4934       M        1.0  \n4935       M        3.0  \n5164       F        6.0  \n5386       M       10.0  \n20         F        1.0  \n19         M        4.0  \n17         F        7.0  \n18         M        4.0  \n244        M        1.0  \n245        F        9.0  \n492        F        9.0  \n493        M        2.0  \n733        M        5.0  \n965        F        7.0  \n1209       M        2.0  \n1208       M        5.0  \n...      ...        ...  \n23023    NaN        NaN  \n23024    NaN        NaN  \n23025    NaN        NaN  \n23026    NaN        NaN  \n23027    NaN        NaN  \n23028    NaN        NaN  \n23029    NaN        NaN  \n23030    NaN        NaN  \n23031    NaN        NaN  \n23032    NaN        NaN  \n23033    NaN        NaN  \n23034    NaN        NaN  \n23035    NaN        NaN  \n23036    NaN        NaN  \n23037    NaN        NaN  \n23038    NaN        NaN  \n23039    NaN        NaN  \n23040    NaN        NaN  \n23041    NaN        NaN  \n23042    NaN        NaN  \n23043    NaN        NaN  \n23044    NaN        NaN  \n23045    NaN        NaN  \n23046    NaN        NaN  \n23047    NaN        NaN  \n23048    NaN        NaN  \n23049    NaN        NaN  \n23050    NaN        NaN  \n23051    NaN        NaN  \n23052    NaN        NaN  \n\n[23053 rows x 18 columns]"
          },
          "metadata": {}
        }
      ]
    },
    {
      "metadata": {
        "trusted": true
      },
      "cell_type": "code",
      "source": "df09['DOB'].value_counts()",
      "execution_count": 135,
      "outputs": [
        {
          "output_type": "execute_result",
          "execution_count": 135,
          "data": {
            "text/plain": "27-12-1988    7\n17-09-1982    5\n20-03-1972    5\n01-08-1975    5\n23-03-1982    5\n26-03-1987    4\n09-06-1970    4\n17-07-1975    4\n28-03-1988    4\n10-06-1983    4\n18-11-1991    4\n05-12-1992    4\n20-04-1980    4\n08-03-1983    4\n15-07-1984    4\n11-11-1987    4\n27-11-1991    4\n08-06-1981    4\n19-05-1988    4\n08-07-1991    4\n05-12-1975    4\n07-05-1975    4\n20-05-1975    4\n25-02-1974    4\n20-09-1992    4\n23-05-1984    4\n15-03-1987    4\n04-12-1992    4\n08-11-1990    4\n26-02-1982    4\n             ..\n14-10-1980    1\n04-02-1990    1\n05-07-1988    1\n19-07-1984    1\n29-12-1974    1\n26-06-1985    1\n06-07-1975    1\n16-05-1979    1\n13-09-1987    1\n12-11-1972    1\n21-03-1987    1\n21-02-1971    1\n22-07-1974    1\n19-11-1980    1\n15-08-1981    1\n16-03-1990    1\n14-10-1975    1\n02-11-1992    1\n11-04-1991    1\n20-03-1986    1\n05-07-1972    1\n11-02-1974    1\n12-01-1989    1\n09-10-1990    1\n05-11-1984    1\n28-10-1986    1\n18-04-1977    1\n13-08-1992    1\n04-02-1980    1\n09-12-1971    1\nName: DOB, Length: 4056, dtype: int64"
          },
          "metadata": {}
        }
      ]
    },
    {
      "metadata": {
        "trusted": true
      },
      "cell_type": "code",
      "source": "df1[(df1['DOB']>01-01-1985) & (df1['DOB']<31-12-1995)]",
      "execution_count": 136,
      "outputs": [
        {
          "output_type": "error",
          "ename": "SyntaxError",
          "evalue": "invalid token (<ipython-input-136-cb56ec17fd68>, line 1)",
          "traceback": [
            "\u001b[0;36m  File \u001b[0;32m\"<ipython-input-136-cb56ec17fd68>\"\u001b[0;36m, line \u001b[0;32m1\u001b[0m\n\u001b[0;31m    df1[(df1['DOB']>01-01-1985) & (df1['DOB']<31-12-1995)]\u001b[0m\n\u001b[0m                     ^\u001b[0m\n\u001b[0;31mSyntaxError\u001b[0m\u001b[0;31m:\u001b[0m invalid token\n"
          ]
        }
      ]
    },
    {
      "metadata": {
        "trusted": true
      },
      "cell_type": "code",
      "source": "",
      "execution_count": null,
      "outputs": []
    }
  ],
  "metadata": {
    "kernelspec": {
      "name": "python36",
      "display_name": "Python 3.6",
      "language": "python"
    },
    "language_info": {
      "mimetype": "text/x-python",
      "nbconvert_exporter": "python",
      "name": "python",
      "pygments_lexer": "ipython3",
      "version": "3.6.6",
      "file_extension": ".py",
      "codemirror_mode": {
        "version": 3,
        "name": "ipython"
      }
    }
  },
  "nbformat": 4,
  "nbformat_minor": 2
}